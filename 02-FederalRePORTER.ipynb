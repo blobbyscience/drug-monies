{
 "cells": [
  {
   "cell_type": "code",
   "execution_count": 1,
   "metadata": {},
   "outputs": [],
   "source": [
    "import requests\n",
    "import json"
   ]
  },
  {
   "cell_type": "code",
   "execution_count": 2,
   "metadata": {},
   "outputs": [],
   "source": [
    "import pandas as pd\n",
    "import numpy as np\n",
    "import matplotlib.pyplot as plt\n",
    "import seaborn as sns"
   ]
  },
  {
   "cell_type": "code",
   "execution_count": 3,
   "metadata": {},
   "outputs": [
    {
     "data": {
      "text/html": [
       "<div>\n",
       "<style scoped>\n",
       "    .dataframe tbody tr th:only-of-type {\n",
       "        vertical-align: middle;\n",
       "    }\n",
       "\n",
       "    .dataframe tbody tr th {\n",
       "        vertical-align: top;\n",
       "    }\n",
       "\n",
       "    .dataframe thead th {\n",
       "        text-align: right;\n",
       "    }\n",
       "</style>\n",
       "<table border=\"1\" class=\"dataframe\">\n",
       "  <thead>\n",
       "    <tr style=\"text-align: right;\">\n",
       "      <th></th>\n",
       "      <th>Unnamed: 0</th>\n",
       "      <th>ApplNo</th>\n",
       "      <th>SubmissionClassCodeID</th>\n",
       "      <th>SubmissionType</th>\n",
       "      <th>SubmissionStatusDate</th>\n",
       "      <th>ReviewPriority</th>\n",
       "      <th>ApplType</th>\n",
       "      <th>SponsorName</th>\n",
       "      <th>DrugName</th>\n",
       "      <th>ActiveIngredient</th>\n",
       "    </tr>\n",
       "  </thead>\n",
       "  <tbody>\n",
       "    <tr>\n",
       "      <th>0</th>\n",
       "      <td>0</td>\n",
       "      <td>21883</td>\n",
       "      <td>7.0</td>\n",
       "      <td>ORIG</td>\n",
       "      <td>2014-05-23</td>\n",
       "      <td>PRIORITY</td>\n",
       "      <td>NDA</td>\n",
       "      <td>ALLERGAN</td>\n",
       "      <td>DALVANCE</td>\n",
       "      <td>DALBAVANCIN HYDROCHLORIDE</td>\n",
       "    </tr>\n",
       "    <tr>\n",
       "      <th>1</th>\n",
       "      <td>1</td>\n",
       "      <td>22134</td>\n",
       "      <td>7.0</td>\n",
       "      <td>ORIG</td>\n",
       "      <td>2010-07-28</td>\n",
       "      <td>STANDARD</td>\n",
       "      <td>NDA</td>\n",
       "      <td>ALLERGAN</td>\n",
       "      <td>LASTACAFT</td>\n",
       "      <td>ALCAFTADINE</td>\n",
       "    </tr>\n",
       "    <tr>\n",
       "      <th>2</th>\n",
       "      <td>2</td>\n",
       "      <td>22271</td>\n",
       "      <td>7.0</td>\n",
       "      <td>ORIG</td>\n",
       "      <td>2013-01-25</td>\n",
       "      <td>STANDARD</td>\n",
       "      <td>NDA</td>\n",
       "      <td>TAKEDA PHARMS USA</td>\n",
       "      <td>NESINA</td>\n",
       "      <td>ALOGLIPTIN BENZOATE</td>\n",
       "    </tr>\n",
       "    <tr>\n",
       "      <th>3</th>\n",
       "      <td>5</td>\n",
       "      <td>22383</td>\n",
       "      <td>7.0</td>\n",
       "      <td>ORIG</td>\n",
       "      <td>2011-07-01</td>\n",
       "      <td>STANDARD</td>\n",
       "      <td>NDA</td>\n",
       "      <td>SUNOVION PHARMS INC</td>\n",
       "      <td>ARCAPTA NEOHALER</td>\n",
       "      <td>INDACATEROL MALEATE</td>\n",
       "    </tr>\n",
       "    <tr>\n",
       "      <th>4</th>\n",
       "      <td>6</td>\n",
       "      <td>22416</td>\n",
       "      <td>7.0</td>\n",
       "      <td>ORIG</td>\n",
       "      <td>2013-11-08</td>\n",
       "      <td>STANDARD</td>\n",
       "      <td>NDA</td>\n",
       "      <td>SUNOVION PHARMS INC</td>\n",
       "      <td>APTIOM</td>\n",
       "      <td>ESLICARBAZEPINE ACETATE</td>\n",
       "    </tr>\n",
       "  </tbody>\n",
       "</table>\n",
       "</div>"
      ],
      "text/plain": [
       "   Unnamed: 0  ApplNo  SubmissionClassCodeID SubmissionType  \\\n",
       "0           0   21883                    7.0           ORIG   \n",
       "1           1   22134                    7.0           ORIG   \n",
       "2           2   22271                    7.0           ORIG   \n",
       "3           5   22383                    7.0           ORIG   \n",
       "4           6   22416                    7.0           ORIG   \n",
       "\n",
       "  SubmissionStatusDate ReviewPriority ApplType          SponsorName  \\\n",
       "0           2014-05-23       PRIORITY      NDA             ALLERGAN   \n",
       "1           2010-07-28       STANDARD      NDA             ALLERGAN   \n",
       "2           2013-01-25       STANDARD      NDA    TAKEDA PHARMS USA   \n",
       "3           2011-07-01       STANDARD      NDA  SUNOVION PHARMS INC   \n",
       "4           2013-11-08       STANDARD      NDA  SUNOVION PHARMS INC   \n",
       "\n",
       "           DrugName           ActiveIngredient  \n",
       "0          DALVANCE  DALBAVANCIN HYDROCHLORIDE  \n",
       "1         LASTACAFT                ALCAFTADINE  \n",
       "2            NESINA        ALOGLIPTIN BENZOATE  \n",
       "3  ARCAPTA NEOHALER        INDACATEROL MALEATE  \n",
       "4            APTIOM    ESLICARBAZEPINE ACETATE  "
      ]
     },
     "execution_count": 3,
     "metadata": {},
     "output_type": "execute_result"
    }
   ],
   "source": [
    "drugs = pd.read_csv(\"drugs01_2010s_Type1_by_supercompanies.csv\")\n",
    "drugs.head()"
   ]
  },
  {
   "cell_type": "code",
   "execution_count": 4,
   "metadata": {},
   "outputs": [
    {
     "data": {
      "text/plain": [
       "array(['Unnamed: 0', 'ApplNo', 'SubmissionClassCodeID', 'SubmissionType',\n",
       "       'SubmissionStatusDate', 'ReviewPriority', 'ApplType', 'SponsorName',\n",
       "       'DrugName', 'ActiveIngredient'], dtype=object)"
      ]
     },
     "execution_count": 4,
     "metadata": {},
     "output_type": "execute_result"
    }
   ],
   "source": [
    "drugs.columns.values"
   ]
  },
  {
   "cell_type": "code",
   "execution_count": 5,
   "metadata": {},
   "outputs": [
    {
     "data": {
      "text/plain": [
       "0        0\n",
       "1        1\n",
       "2        2\n",
       "3        5\n",
       "4        6\n",
       "      ... \n",
       "131    252\n",
       "132    253\n",
       "133    254\n",
       "134    255\n",
       "135    256\n",
       "Name: Unnamed: 0, Length: 136, dtype: int64"
      ]
     },
     "execution_count": 5,
     "metadata": {},
     "output_type": "execute_result"
    }
   ],
   "source": [
    "drugs.pop(\"Unnamed: 0\")"
   ]
  },
  {
   "cell_type": "code",
   "execution_count": 6,
   "metadata": {},
   "outputs": [
    {
     "data": {
      "text/html": [
       "<div>\n",
       "<style scoped>\n",
       "    .dataframe tbody tr th:only-of-type {\n",
       "        vertical-align: middle;\n",
       "    }\n",
       "\n",
       "    .dataframe tbody tr th {\n",
       "        vertical-align: top;\n",
       "    }\n",
       "\n",
       "    .dataframe thead th {\n",
       "        text-align: right;\n",
       "    }\n",
       "</style>\n",
       "<table border=\"1\" class=\"dataframe\">\n",
       "  <thead>\n",
       "    <tr style=\"text-align: right;\">\n",
       "      <th></th>\n",
       "      <th>ApplNo</th>\n",
       "      <th>SubmissionClassCodeID</th>\n",
       "      <th>SubmissionType</th>\n",
       "      <th>SubmissionStatusDate</th>\n",
       "      <th>ReviewPriority</th>\n",
       "      <th>ApplType</th>\n",
       "      <th>SponsorName</th>\n",
       "      <th>DrugName</th>\n",
       "      <th>ActiveIngredient</th>\n",
       "    </tr>\n",
       "  </thead>\n",
       "  <tbody>\n",
       "    <tr>\n",
       "      <th>0</th>\n",
       "      <td>21883</td>\n",
       "      <td>7.0</td>\n",
       "      <td>ORIG</td>\n",
       "      <td>2014-05-23</td>\n",
       "      <td>PRIORITY</td>\n",
       "      <td>NDA</td>\n",
       "      <td>ALLERGAN</td>\n",
       "      <td>DALVANCE</td>\n",
       "      <td>DALBAVANCIN HYDROCHLORIDE</td>\n",
       "    </tr>\n",
       "    <tr>\n",
       "      <th>1</th>\n",
       "      <td>22134</td>\n",
       "      <td>7.0</td>\n",
       "      <td>ORIG</td>\n",
       "      <td>2010-07-28</td>\n",
       "      <td>STANDARD</td>\n",
       "      <td>NDA</td>\n",
       "      <td>ALLERGAN</td>\n",
       "      <td>LASTACAFT</td>\n",
       "      <td>ALCAFTADINE</td>\n",
       "    </tr>\n",
       "    <tr>\n",
       "      <th>2</th>\n",
       "      <td>22271</td>\n",
       "      <td>7.0</td>\n",
       "      <td>ORIG</td>\n",
       "      <td>2013-01-25</td>\n",
       "      <td>STANDARD</td>\n",
       "      <td>NDA</td>\n",
       "      <td>TAKEDA PHARMS USA</td>\n",
       "      <td>NESINA</td>\n",
       "      <td>ALOGLIPTIN BENZOATE</td>\n",
       "    </tr>\n",
       "    <tr>\n",
       "      <th>3</th>\n",
       "      <td>22383</td>\n",
       "      <td>7.0</td>\n",
       "      <td>ORIG</td>\n",
       "      <td>2011-07-01</td>\n",
       "      <td>STANDARD</td>\n",
       "      <td>NDA</td>\n",
       "      <td>SUNOVION PHARMS INC</td>\n",
       "      <td>ARCAPTA NEOHALER</td>\n",
       "      <td>INDACATEROL MALEATE</td>\n",
       "    </tr>\n",
       "    <tr>\n",
       "      <th>4</th>\n",
       "      <td>22416</td>\n",
       "      <td>7.0</td>\n",
       "      <td>ORIG</td>\n",
       "      <td>2013-11-08</td>\n",
       "      <td>STANDARD</td>\n",
       "      <td>NDA</td>\n",
       "      <td>SUNOVION PHARMS INC</td>\n",
       "      <td>APTIOM</td>\n",
       "      <td>ESLICARBAZEPINE ACETATE</td>\n",
       "    </tr>\n",
       "  </tbody>\n",
       "</table>\n",
       "</div>"
      ],
      "text/plain": [
       "   ApplNo  SubmissionClassCodeID SubmissionType SubmissionStatusDate  \\\n",
       "0   21883                    7.0           ORIG           2014-05-23   \n",
       "1   22134                    7.0           ORIG           2010-07-28   \n",
       "2   22271                    7.0           ORIG           2013-01-25   \n",
       "3   22383                    7.0           ORIG           2011-07-01   \n",
       "4   22416                    7.0           ORIG           2013-11-08   \n",
       "\n",
       "  ReviewPriority ApplType          SponsorName          DrugName  \\\n",
       "0       PRIORITY      NDA             ALLERGAN          DALVANCE   \n",
       "1       STANDARD      NDA             ALLERGAN         LASTACAFT   \n",
       "2       STANDARD      NDA    TAKEDA PHARMS USA            NESINA   \n",
       "3       STANDARD      NDA  SUNOVION PHARMS INC  ARCAPTA NEOHALER   \n",
       "4       STANDARD      NDA  SUNOVION PHARMS INC            APTIOM   \n",
       "\n",
       "            ActiveIngredient  \n",
       "0  DALBAVANCIN HYDROCHLORIDE  \n",
       "1                ALCAFTADINE  \n",
       "2        ALOGLIPTIN BENZOATE  \n",
       "3        INDACATEROL MALEATE  \n",
       "4    ESLICARBAZEPINE ACETATE  "
      ]
     },
     "execution_count": 6,
     "metadata": {},
     "output_type": "execute_result"
    }
   ],
   "source": [
    "drugs.head()"
   ]
  },
  {
   "cell_type": "code",
   "execution_count": 7,
   "metadata": {},
   "outputs": [
    {
     "data": {
      "text/plain": [
       "0      ORIG\n",
       "1      ORIG\n",
       "2      ORIG\n",
       "3      ORIG\n",
       "4      ORIG\n",
       "       ... \n",
       "131    ORIG\n",
       "132    ORIG\n",
       "133    ORIG\n",
       "134    ORIG\n",
       "135    ORIG\n",
       "Name: SubmissionType, Length: 136, dtype: object"
      ]
     },
     "execution_count": 7,
     "metadata": {},
     "output_type": "execute_result"
    }
   ],
   "source": [
    "drugs.pop(\"SubmissionClassCodeID\")\n",
    "drugs.pop(\"SubmissionType\")"
   ]
  },
  {
   "cell_type": "code",
   "execution_count": 8,
   "metadata": {},
   "outputs": [
    {
     "data": {
      "text/html": [
       "<div>\n",
       "<style scoped>\n",
       "    .dataframe tbody tr th:only-of-type {\n",
       "        vertical-align: middle;\n",
       "    }\n",
       "\n",
       "    .dataframe tbody tr th {\n",
       "        vertical-align: top;\n",
       "    }\n",
       "\n",
       "    .dataframe thead th {\n",
       "        text-align: right;\n",
       "    }\n",
       "</style>\n",
       "<table border=\"1\" class=\"dataframe\">\n",
       "  <thead>\n",
       "    <tr style=\"text-align: right;\">\n",
       "      <th></th>\n",
       "      <th>ApplNo</th>\n",
       "      <th>SubmissionStatusDate</th>\n",
       "      <th>ReviewPriority</th>\n",
       "      <th>ApplType</th>\n",
       "      <th>SponsorName</th>\n",
       "      <th>DrugName</th>\n",
       "      <th>ActiveIngredient</th>\n",
       "    </tr>\n",
       "  </thead>\n",
       "  <tbody>\n",
       "    <tr>\n",
       "      <th>0</th>\n",
       "      <td>21883</td>\n",
       "      <td>2014-05-23</td>\n",
       "      <td>PRIORITY</td>\n",
       "      <td>NDA</td>\n",
       "      <td>ALLERGAN</td>\n",
       "      <td>DALVANCE</td>\n",
       "      <td>DALBAVANCIN HYDROCHLORIDE</td>\n",
       "    </tr>\n",
       "    <tr>\n",
       "      <th>1</th>\n",
       "      <td>22134</td>\n",
       "      <td>2010-07-28</td>\n",
       "      <td>STANDARD</td>\n",
       "      <td>NDA</td>\n",
       "      <td>ALLERGAN</td>\n",
       "      <td>LASTACAFT</td>\n",
       "      <td>ALCAFTADINE</td>\n",
       "    </tr>\n",
       "    <tr>\n",
       "      <th>2</th>\n",
       "      <td>22271</td>\n",
       "      <td>2013-01-25</td>\n",
       "      <td>STANDARD</td>\n",
       "      <td>NDA</td>\n",
       "      <td>TAKEDA PHARMS USA</td>\n",
       "      <td>NESINA</td>\n",
       "      <td>ALOGLIPTIN BENZOATE</td>\n",
       "    </tr>\n",
       "    <tr>\n",
       "      <th>3</th>\n",
       "      <td>22383</td>\n",
       "      <td>2011-07-01</td>\n",
       "      <td>STANDARD</td>\n",
       "      <td>NDA</td>\n",
       "      <td>SUNOVION PHARMS INC</td>\n",
       "      <td>ARCAPTA NEOHALER</td>\n",
       "      <td>INDACATEROL MALEATE</td>\n",
       "    </tr>\n",
       "    <tr>\n",
       "      <th>4</th>\n",
       "      <td>22416</td>\n",
       "      <td>2013-11-08</td>\n",
       "      <td>STANDARD</td>\n",
       "      <td>NDA</td>\n",
       "      <td>SUNOVION PHARMS INC</td>\n",
       "      <td>APTIOM</td>\n",
       "      <td>ESLICARBAZEPINE ACETATE</td>\n",
       "    </tr>\n",
       "  </tbody>\n",
       "</table>\n",
       "</div>"
      ],
      "text/plain": [
       "   ApplNo SubmissionStatusDate ReviewPriority ApplType          SponsorName  \\\n",
       "0   21883           2014-05-23       PRIORITY      NDA             ALLERGAN   \n",
       "1   22134           2010-07-28       STANDARD      NDA             ALLERGAN   \n",
       "2   22271           2013-01-25       STANDARD      NDA    TAKEDA PHARMS USA   \n",
       "3   22383           2011-07-01       STANDARD      NDA  SUNOVION PHARMS INC   \n",
       "4   22416           2013-11-08       STANDARD      NDA  SUNOVION PHARMS INC   \n",
       "\n",
       "           DrugName           ActiveIngredient  \n",
       "0          DALVANCE  DALBAVANCIN HYDROCHLORIDE  \n",
       "1         LASTACAFT                ALCAFTADINE  \n",
       "2            NESINA        ALOGLIPTIN BENZOATE  \n",
       "3  ARCAPTA NEOHALER        INDACATEROL MALEATE  \n",
       "4            APTIOM    ESLICARBAZEPINE ACETATE  "
      ]
     },
     "execution_count": 8,
     "metadata": {},
     "output_type": "execute_result"
    }
   ],
   "source": [
    "drugs.head()"
   ]
  },
  {
   "cell_type": "code",
   "execution_count": 9,
   "metadata": {},
   "outputs": [
    {
     "data": {
      "text/plain": [
       "'DALBAVANCIN HYDROCHLORIDE'"
      ]
     },
     "execution_count": 9,
     "metadata": {},
     "output_type": "execute_result"
    }
   ],
   "source": [
    "drugs['ActiveIngredient'][0]"
   ]
  },
  {
   "cell_type": "code",
   "execution_count": 10,
   "metadata": {},
   "outputs": [
    {
     "data": {
      "text/plain": [
       "'D'"
      ]
     },
     "execution_count": 10,
     "metadata": {},
     "output_type": "execute_result"
    }
   ],
   "source": [
    "drugs['ActiveIngredient'][0][0]"
   ]
  },
  {
   "cell_type": "code",
   "execution_count": null,
   "metadata": {},
   "outputs": [],
   "source": [
    "# ok how do I get the first word of the active ingredients out?\n",
    "# also how do I deal with active ingredients where it's important to write out the whole thing?\n",
    "# for example, \"insulin aspart\" is not the same as \"insulin glargine\""
   ]
  },
  {
   "cell_type": "code",
   "execution_count": 11,
   "metadata": {},
   "outputs": [
    {
     "data": {
      "text/plain": [
       "0             DALBAVANCIN\n",
       "1             ALCAFTADINE\n",
       "2              ALOGLIPTIN\n",
       "3             INDACATEROL\n",
       "4         ESLICARBAZEPINE\n",
       "              ...        \n",
       "131      RAVULIZUMAB-CWVZ\n",
       "132           POLATUZUMAB\n",
       "133     brolucizumab-dbll\n",
       "134    CRIZANLIZUMAB-TMCA\n",
       "135            ENFORTUMAB\n",
       "Name: ActiveIngredient, Length: 136, dtype: object"
      ]
     },
     "execution_count": 11,
     "metadata": {},
     "output_type": "execute_result"
    }
   ],
   "source": [
    "drugs.ActiveIngredient.str.split().str.get(0)"
   ]
  },
  {
   "cell_type": "code",
   "execution_count": 12,
   "metadata": {},
   "outputs": [],
   "source": [
    "drugs_active = list(drugs.ActiveIngredient.str.split().str.get(0))"
   ]
  },
  {
   "cell_type": "code",
   "execution_count": 16,
   "metadata": {},
   "outputs": [
    {
     "data": {
      "text/plain": [
       "False"
      ]
     },
     "execution_count": 16,
     "metadata": {},
     "output_type": "execute_result"
    }
   ],
   "source": [
    "\"insulin\" in drugs_active"
   ]
  },
  {
   "cell_type": "code",
   "execution_count": 17,
   "metadata": {},
   "outputs": [
    {
     "data": {
      "text/plain": [
       "True"
      ]
     },
     "execution_count": 17,
     "metadata": {},
     "output_type": "execute_result"
    }
   ],
   "source": [
    "\"INSULIN\" in drugs_active"
   ]
  },
  {
   "cell_type": "code",
   "execution_count": null,
   "metadata": {},
   "outputs": [],
   "source": [
    "# ok not sure how to deal with the insulin issue yet\n",
    "# let's just try getting the results for searching for \"dalbavancin\""
   ]
  },
  {
   "cell_type": "code",
   "execution_count": 19,
   "metadata": {},
   "outputs": [
    {
     "name": "stdout",
     "output_type": "stream",
     "text": [
      "200\n"
     ]
    }
   ],
   "source": [
    "url_demo = \"https://api.federalreporter.nih.gov/v1/projects/search?query=text:\"\n",
    "term_demo = drugs_active[0].lower()\n",
    "\n",
    "req_demo = requests.get(url_demo+term_demo)\n",
    "print(req_demo.status_code)"
   ]
  },
  {
   "cell_type": "code",
   "execution_count": 20,
   "metadata": {},
   "outputs": [
    {
     "name": "stdout",
     "output_type": "stream",
     "text": [
      "{'totalCount': 11, 'offset': 1, 'limit': 50, 'totalPages': 1, 'items': [{'projectNumber': '1R21AI132994-01A1', 'fy': 2018, 'title': 'RESISTANCE SELECTION POTENTIAL OF THE LONG ACTING LIPOGLYCOPEPTIDES DALBAVANCIN AND ORITAVANCIN', 'department': 'HHS', 'agency': 'NIH', 'ic': 'NIAID', 'totalCostAmount': 233125, 'nihApplId': 9528916, 'smApplId': 1064702, 'budgetStartDate': '2018-05-01T00:00:00', 'budgetEndDate': '2019-04-30T00:00:00', 'contactPi': 'WERTH, BRIAN JAMES', 'otherPis': None, 'congressionalDistrict': '07', 'dunsId': '605799469', 'latitude': 47.660306999999996, 'longitude': -122.315168, 'orgName': 'UNIVERSITY OF WASHINGTON', 'orgCity': 'SEATTLE', 'orgState': 'WA', 'orgCountry': 'UNITED STATES', 'orgZipCode': '981959472', 'projectStartDate': '2018-05-01T00:00:00', 'projectEndDate': '2020-04-30T00:00:00', 'cfdaCode': '855', 'abstract': 'Project SummaryAntimicrobial resistant bacterial infections account for over 23,000 deaths and over $20 billion per year in ex-cess healthcare costs in the USA. The development of new antimicrobials is an important strategy in the fightagainst antimicrobial resistance, but it is time consuming and expensive, and history has shown us that re-sistance to new agents develops within a few years of clinical use. Consequently, the prevention of antimicro-bial resistance is critically important to public health. Our interdisciplinary team proposes a preemptive strategyto characterize antimicrobial resistance before it arises using in vitro strategies that simulate clinical drug expo-sures. This proposal will focus on the recently approved long-acting lipoglycopeptides dalbavancin and orita-vancin, which have the longest half-lives of any available antibacterial (8-16 days). This slow clearance meansthat dalbavancin and oritavancin persist at low concentrations in the body for months after a single dose.These prolonged low-level exposures carry a high theoretical risk to select for resistance to the lipoglycopep-tides but also cross-resistance to related drugs, including vancomycin, the standard of care for treating the“superbug” methicillin-resistant Staphylococcus aureus (MRSA). We have demonstrated that in vitro dalba-vancin exposure can select for resistance to vancomycin and daptomycin, and observed this cross-resistanceemerge from a patient who received dalbavancin for an MRSA infection. Using a novel and comprehensivelipidomic approach, we observed for the first time that dalbavancin resistance was associated with a loss ofphosphatidylglycerol and digalactosyldiacylglycerol species from the cell membrane. Using whole genome se-quencing, we identified mutations in 4 genes, one of which has been previously implicated in the emergence ofvancomycin-nonsusceptible MRSA. We propose in Aim 1 to define the dalbavancin and oritavancin exposuresthat select for resistance and cross-resistance to the study antimicrobials (dalbavancin, oritavancin, vancomy-cin, and daptomycin). We hypothesize that the persistent low concentrations of dalbavancin and oritavancinafter the last dose will readily select for resistance and cross-resistance among MRSA. We will test this hy-pothesis using pharmacokinetic/pharmacodynamic modeling techniques, which are well suited to this purposeand with which our team has considerable experience. In Aim 2, we will elucidate mechanisms of resistance tothe study antimicrobials using a novel lipidomic approach, genome sequencing, and well-established biophysi-cal methods. We hypothesize that these changes in susceptibility will be concomitant with alterations in lipidexpression, genetic variations associated with vancomycin nonsusceptibility, and other qualities such as cellwall thickening and reduced susceptibility to antimicrobial peptides produced by the immune system. This workis significant because understanding the risk of long-acting lipoglycopeptides to select for resistance is key tothe development of policy for the optimal use of these agents and will elucidate lipoglycopeptide resistancemechanisms using a novel lipidomic strategy coupled with cutting edge genomic characterization.', 'terms': ' Alleles; Anti-Bacterial Agents; antimicrobial; antimicrobial peptide; Antimicrobial Resistance; Bacillus subtilis; Bacterial Infections; bacterial resistance; bactericide; base; Binding; biophysical techniques; Cations; Cell membrane; Cell surface; Cell Wall; Cessation of life; Charge; chemotherapy; Clinical; Complement; cost; Coupled; dalbavancin; Daptomycin; Development; development policy; digalactosyldiacylglycerol; Dose; Drug Exposure; Drug Kinetics; Enterococcus faecalis; experience; Exposure to; fight against; Genes; Genetic; Genetic Variation; genome sequencing; Genomics; Glycerol; Glycopeptides; Half-Life; Health Care Costs; Hospitalization; Immune system; In Vitro; in vitro Model; innovation; insight; ion mobility; Lipids; Mass Spectrum Analysis; Measures; methicillin resistant Staphylococcus aureus; Methodology; Microbe; Minimum Inhibitory Concentration measurement; Modeling; mutant; Mutation; New Agents; novel; Organism; oritavancin; Patients; Peptides; Pharmaceutical Preparations; pharmacodynamic model; Phenotype; Phosphatidylglycerols; Physiological; Policies; Predisposition; pressure; prevent; Prevention; Public Health; Recording of previous events; Reporting; Resistance; resistance mechanism; resistant strain; Risk; Role; Running; Sampling; standard of care; Staphylococcus aureus; Staphylococcus aureus infection; Superbug; Techniques; Testing; Thick; Time; Transmission Electron Microscopy; Vancomycin; Vancomycin Resistance; Variant; whole genome; Work'}, {'projectNumber': '5R01GM079508-04', 'fy': 2010, 'title': 'STRUCTURAL STUDIES OF TARGET RECOGNITION BY LARGE NATURAL PRODUCT ANTIBIOTICS', 'department': 'HHS', 'agency': 'NIH', 'ic': 'NIGMS', 'totalCostAmount': 265741, 'nihApplId': 7885427, 'smApplId': 323093, 'budgetStartDate': '2010-07-01T00:00:00', 'budgetEndDate': '2011-12-31T00:00:00', 'contactPi': 'LOLL, PATRICK J', 'otherPis': None, 'congressionalDistrict': '02', 'dunsId': '002604817', 'latitude': 39.957897, 'longitude': -75.188059, 'orgName': 'DREXEL UNIVERSITY', 'orgCity': 'PHILADELPHIA', 'orgState': 'PA', 'orgCountry': 'UNITED STATES', 'orgZipCode': '191021119', 'projectStartDate': '2007-07-01T00:00:00', 'projectEndDate': '2011-12-31T00:00:00', 'cfdaCode': '859', 'abstract': '  DESCRIPTION (provided by applicant):  This proposal focuses on the structural and functional characterization of antimicrobial natural products. The precise molecular details of how these agents fold and how they recognize their targets will be derived from high resolution X-ray crystal structures of drugs and drug:target complexes. Three classes of compounds will be studied. The first class includes vancomycin and related glycopeptide antibiotics. Structural experiments will test hypotheses about the conformational changes accompanying ligand recognition and the role of higher order structural assemblies in peptidoglycan recognition by vancomycin. Structures will also be determined for Group III (teicoplanin-like) antibiotics, including the newly introduced therapeutic agent dalbavancin, allowing for a comparison of Group I (vancomycin-like) and Group III antibiotics, and illuminating how ligand recognition and oligomerization behavior differ between the two groups. Novel glycopeptide compounds have been designed based upon existing structural data, and will be synthesized and characterized. The second class of bacteriocidal natural products to be studied are molecules that recognize polyprenyl pyrophosphate-containing ligands on bacterial cells, such as the Lipid II intermediate in peptidoglycan biosynthesis. Crystallographic studies will be used to reveal the determinants of molecular recognition for these different agents, in an effort to establish their mechanisms of action and informing the future design of related therapeutic agents. The specific molecules under study include ramoplanin, enduracidin, and bacitracin. The third class of antibiotics comprises cyclic decapeptides that permeabilize bacterial membranes. While these are effective antimicrobials, they can also be hemolytic; therefore crystallography will be used to study the structures of an array of compounds with differing bacteriocidal and hemolytic activities. Comparison of these will identify the structural determinants that control the desired antibacterial activity and the unwanted side effects, and thus aid in the development of improved agents.     Relevance to public health: The prevalence of resistant bacterial pathogens is rendering current antibiotics ineffective, and making it essential that new drugs be developed to fight infection. This project will provide essential information about naturally occurring antimicrobial compounds. This information will facilitate the rational development of these natural compounds into next generation therapeutic agents.       ', 'terms': ' Adverse effects; Anabolism; Anti-Bacterial Agents; Antibiotic Resistance; Antibiotics; antimicrobial; antimicrobial drug; Bacitracin; Back; bacterial resistance; base; Behavior; Binding; Biological Factors; Cell Wall; Cells; Chemistry; comparison group; Complement; Complex; Crystallography; dalbavancin; Data; design; Development; dimer; Diphosphates; Dissociation; Drug Delivery Systems; drug structure; fighting; Future; Glycopeptide Antibiotics; Glycopeptides; Gramicidin; Group Structure; Hemolysis; improved; Infection; insight; Lead; Ligands; Light; lipid I; Lipids; macromolecule; Medical History; Membrane; microbial; mimetics; Molecular; molecular recognition; Nature; next generation; novel; novel therapeutics; pathogen; pathogenic bacteria; Peptidoglycan; Pharmaceutical Preparations; Play; prenyl; Prevalence; Process; programs; Public Health; ramoplanin; Relative (related person); Research Personnel; research study; Resolution; Roentgen Rays; Role; structural biology; Structure; Teicoplanin; Testing; Therapeutic; Therapeutic Agents; Toxic effect; Tyrocidine; Vancomycin; Work'}, {'projectNumber': '3R01GM079508-03S1', 'fy': 2009, 'title': 'STRUCTURAL STUDIES OF TARGET RECOGNITION BY LARGE NATURAL PRODUCT ANTIBIOTICS', 'department': 'HHS', 'agency': 'NIH', 'ic': 'NIGMS', 'totalCostAmount': 93337, 'nihApplId': 7935142, 'smApplId': 348475, 'budgetStartDate': '2009-09-30T00:00:00', 'budgetEndDate': '2010-08-31T00:00:00', 'contactPi': 'LOLL, PATRICK J', 'otherPis': None, 'congressionalDistrict': '02', 'dunsId': '002604817', 'latitude': 39.957897, 'longitude': -75.188059, 'orgName': 'DREXEL UNIVERSITY', 'orgCity': 'PHILADELPHIA', 'orgState': 'PA', 'orgCountry': 'UNITED STATES', 'orgZipCode': '191021119', 'projectStartDate': '2009-09-30T00:00:00', 'projectEndDate': '2010-08-31T00:00:00', 'cfdaCode': '701', 'abstract': '  DESCRIPTION (provided by applicant):  This proposal focuses on the structural and functional characterization of antimicrobial natural products. The precise molecular details of how these agents fold and how they recognize their targets will be derived from high resolution X-ray crystal structures of drugs and drug:target complexes. Three classes of compounds will be studied. The first class includes vancomycin and related glycopeptide antibiotics. Structural experiments will test hypotheses about the conformational changes accompanying ligand recognition and the role of higher order structural assemblies in peptidoglycan recognition by vancomycin. Structures will also be determined for Group III (teicoplanin-like) antibiotics, including the newly introduced therapeutic agent dalbavancin, allowing for a comparison of Group I (vancomycin-like) and Group III antibiotics, and illuminating how ligand recognition and oligomerization behavior differ between the two groups. Novel glycopeptide compounds have been designed based upon existing structural data, and will be synthesized and characterized. The second class of bacteriocidal natural products to be studied are molecules that recognize polyprenyl pyrophosphate-containing ligands on bacterial cells, such as the Lipid II intermediate in peptidoglycan biosynthesis. Crystallographic studies will be used to reveal the determinants of molecular recognition for these different agents, in an effort to establish their mechanisms of action and informing the future design of related therapeutic agents. The specific molecules under study include ramoplanin, enduracidin, and bacitracin. The third class of antibiotics comprises cyclic decapeptides that permeabilize bacterial membranes. While these are effective antimicrobials, they can also be hemolytic; therefore crystallography will be used to study the structures of an array of compounds with differing bacteriocidal and hemolytic activities. Comparison of these will identify the structural determinants that control the desired antibacterial activity and the unwanted side effects, and thus aid in the development of improved agents.     Relevance to public health: The prevalence of resistant bacterial pathogens is rendering current antibiotics ineffective, and making it essential that new drugs be developed to fight infection. This project will provide essential information about naturally occurring antimicrobial compounds. This information will facilitate the rational development of these natural compounds into next generation therapeutic agents.       ', 'terms': ' Adverse effects; Anabolism; Anti-Bacterial Agents; Antibiotic Resistance; Antibiotics; antimicrobial; antimicrobial drug; Bacitracin; Back; bacterial resistance; base; Behavior; Binding; Biological Factors; Cell Wall; Cells; Chemistry; comparison group; Complement; Complex; Crystallography; dalbavancin; Data; design; Development; dimer; Diphosphates; Dissociation; Drug Delivery Systems; drug structure; fighting; Future; Glycopeptide Antibiotics; Glycopeptides; Gramicidin; Group Structure; Hemolysis; improved; Infection; insight; Lead; Ligands; Light; lipid I; Lipids; macromolecule; Medical History; Membrane; microbial; mimetics; Molecular; molecular recognition; Nature; next generation; novel; novel therapeutics; pathogen; pathogenic bacteria; Peptidoglycan; Pharmaceutical Preparations; Play; prenyl; Prevalence; Process; programs; Public Health; ramoplanin; Relative (related person); Research Personnel; research study; Resolution; Roentgen Rays; Role; structural biology; Structure; Teicoplanin; Testing; Therapeutic; Therapeutic Agents; Toxic effect; Tyrocidine; Vancomycin; Work'}, {'projectNumber': '5R01GM079508-03', 'fy': 2009, 'title': 'STRUCTURAL STUDIES OF TARGET RECOGNITION BY LARGE NATURAL PRODUCT ANTIBIOTICS', 'department': 'HHS', 'agency': 'NIH', 'ic': 'NIGMS', 'totalCostAmount': 268425, 'nihApplId': 7647966, 'smApplId': 237965, 'budgetStartDate': '2009-07-01T00:00:00', 'budgetEndDate': '2010-06-30T00:00:00', 'contactPi': 'LOLL, PATRICK J', 'otherPis': None, 'congressionalDistrict': '02', 'dunsId': '002604817', 'latitude': 39.957897, 'longitude': -75.188059, 'orgName': 'DREXEL UNIVERSITY', 'orgCity': 'PHILADELPHIA', 'orgState': 'PA', 'orgCountry': 'UNITED STATES', 'orgZipCode': '191021119', 'projectStartDate': '2007-07-01T00:00:00', 'projectEndDate': '2011-06-30T00:00:00', 'cfdaCode': '859', 'abstract': '  DESCRIPTION (provided by applicant):  This proposal focuses on the structural and functional characterization of antimicrobial natural products. The precise molecular details of how these agents fold and how they recognize their targets will be derived from high resolution X-ray crystal structures of drugs and drug:target complexes. Three classes of compounds will be studied. The first class includes vancomycin and related glycopeptide antibiotics. Structural experiments will test hypotheses about the conformational changes accompanying ligand recognition and the role of higher order structural assemblies in peptidoglycan recognition by vancomycin. Structures will also be determined for Group III (teicoplanin-like) antibiotics, including the newly introduced therapeutic agent dalbavancin, allowing for a comparison of Group I (vancomycin-like) and Group III antibiotics, and illuminating how ligand recognition and oligomerization behavior differ between the two groups. Novel glycopeptide compounds have been designed based upon existing structural data, and will be synthesized and characterized. The second class of bacteriocidal natural products to be studied are molecules that recognize polyprenyl pyrophosphate-containing ligands on bacterial cells, such as the Lipid II intermediate in peptidoglycan biosynthesis. Crystallographic studies will be used to reveal the determinants of molecular recognition for these different agents, in an effort to establish their mechanisms of action and informing the future design of related therapeutic agents. The specific molecules under study include ramoplanin, enduracidin, and bacitracin. The third class of antibiotics comprises cyclic decapeptides that permeabilize bacterial membranes. While these are effective antimicrobials, they can also be hemolytic; therefore crystallography will be used to study the structures of an array of compounds with differing bacteriocidal and hemolytic activities. Comparison of these will identify the structural determinants that control the desired antibacterial activity and the unwanted side effects, and thus aid in the development of improved agents.     Relevance to public health: The prevalence of resistant bacterial pathogens is rendering current antibiotics ineffective, and making it essential that new drugs be developed to fight infection. This project will provide essential information about naturally occurring antimicrobial compounds. This information will facilitate the rational development of these natural compounds into next generation therapeutic agents.       ', 'terms': ' Adverse effects; Anabolism; Anti-Bacterial Agents; Antibiotic Resistance; Antibiotics; antimicrobial; antimicrobial drug; Bacitracin; Back; bacterial resistance; base; Behavior; Binding; Biological Factors; Cell Wall; Cells; Chemistry; comparison group; Complement; Complex; Crystallography; dalbavancin; Data; design; Development; dimer; Diphosphates; Dissociation; Drug Delivery Systems; drug structure; fighting; Future; Glycopeptide Antibiotics; Glycopeptides; Gramicidin; Group Structure; Hemolysis; improved; Infection; insight; Lead; Ligands; Light; lipid I; Lipids; macromolecule; Medical History; Membrane; microbial; mimetics; Molecular; molecular recognition; Nature; next generation; novel; novel therapeutics; pathogen; pathogenic bacteria; Peptidoglycan; Pharmaceutical Preparations; Play; prenyl; Prevalence; Process; programs; Public Health; ramoplanin; Relative (related person); Research Personnel; research study; Resolution; Roentgen Rays; Role; structural biology; Structure; Teicoplanin; Testing; Therapeutic; Therapeutic Agents; Toxic effect; Tyrocidine; Vancomycin; Work'}, {'projectNumber': '5R01GM079508-02', 'fy': 2008, 'title': 'STRUCTURAL STUDIES OF TARGET RECOGNITION BY LARGE NATURAL PRODUCT ANTIBIOTICS', 'department': 'HHS', 'agency': 'NIH', 'ic': 'NIGMS', 'totalCostAmount': 268425, 'nihApplId': 7458621, 'smApplId': 178414, 'budgetStartDate': '2008-07-01T00:00:00', 'budgetEndDate': '2009-06-30T00:00:00', 'contactPi': 'LOLL, PATRICK J', 'otherPis': None, 'congressionalDistrict': '02', 'dunsId': '002604817', 'latitude': 39.957897, 'longitude': -75.188059, 'orgName': 'DREXEL UNIVERSITY', 'orgCity': 'PHILADELPHIA', 'orgState': 'PA', 'orgCountry': 'UNITED STATES', 'orgZipCode': '191021119', 'projectStartDate': '2007-07-01T00:00:00', 'projectEndDate': '2011-06-30T00:00:00', 'cfdaCode': '859', 'abstract': '  DESCRIPTION (provided by applicant):  This proposal focuses on the structural and functional characterization of antimicrobial natural products. The precise molecular details of how these agents fold and how they recognize their targets will be derived from high resolution X-ray crystal structures of drugs and drug:target complexes. Three classes of compounds will be studied. The first class includes vancomycin and related glycopeptide antibiotics. Structural experiments will test hypotheses about the conformational changes accompanying ligand recognition and the role of higher order structural assemblies in peptidoglycan recognition by vancomycin. Structures will also be determined for Group III (teicoplanin-like) antibiotics, including the newly introduced therapeutic agent dalbavancin, allowing for a comparison of Group I (vancomycin-like) and Group III antibiotics, and illuminating how ligand recognition and oligomerization behavior differ between the two groups. Novel glycopeptide compounds have been designed based upon existing structural data, and will be synthesized and characterized. The second class of bacteriocidal natural products to be studied are molecules that recognize polyprenyl pyrophosphate-containing ligands on bacterial cells, such as the Lipid II intermediate in peptidoglycan biosynthesis. Crystallographic studies will be used to reveal the determinants of molecular recognition for these different agents, in an effort to establish their mechanisms of action and informing the future design of related therapeutic agents. The specific molecules under study include ramoplanin, enduracidin, and bacitracin. The third class of antibiotics comprises cyclic decapeptides that permeabilize bacterial membranes. While these are effective antimicrobials, they can also be hemolytic; therefore crystallography will be used to study the structures of an array of compounds with differing bacteriocidal and hemolytic activities. Comparison of these will identify the structural determinants that control the desired antibacterial activity and the unwanted side effects, and thus aid in the development of improved agents.     Relevance to public health: The prevalence of resistant bacterial pathogens is rendering current antibiotics ineffective, and making it essential that new drugs be developed to fight infection. This project will provide essential information about naturally occurring antimicrobial compounds. This information will facilitate the rational development of these natural compounds into next generation therapeutic agents.       ', 'terms': ' Adverse effects; Anabolism; Anti-Bacterial Agents; Antibiotic Resistance; Antibiotics; antimicrobial; antimicrobial drug; Bacitracin; Back; bacterial resistance; base; Behavior; Binding; Biological Factors; Cell Wall; Cells; Chemistry; Class; comparison group; Complement; Complex; Crystallography; dalbavancin; Data; design; desire; Development; dimer; Diphosphates; Dissociation; Drug Delivery Systems; drug structure; fighting; Future; Glycopeptide Antibiotics; Glycopeptides; Gramicidin; Group Structure; Hemolysis; improved; Infection; insight; Lead; Ligands; Light; lipid I; Lipids; macromolecule; Medical History; Membrane; microbial; mimetics; Molecular; molecular recognition; Nature; next generation; novel; novel therapeutics; pathogen; pathogenic bacteria; Peptidoglycan; Pharmaceutical Preparations; Play; prenyl; Prevalence; Process; programs; Public Health; ramoplanin; Relative (related person); Research Personnel; research study; Resolution; Roentgen Rays; Role; size; structural biology; Structure; Teicoplanin; Testing; Therapeutic; Therapeutic Agents; Toxic effect; Tyrocidine; Vancomycin; Work'}, {'projectNumber': '5R01AI070896-04', 'fy': 2010, 'title': 'OPTIMIZING DOSING OF COLISTIN FOR INFECTIONS RESISTANT TO ALL OTHER ANTIBIOTICS', 'department': 'HHS', 'agency': 'NIH', 'ic': 'NIAID', 'totalCostAmount': 790294, 'nihApplId': 7903193, 'smApplId': 332134, 'budgetStartDate': '2010-09-01T00:00:00', 'budgetEndDate': '2011-08-31T00:00:00', 'contactPi': 'SILVEIRA, FERNANDA P.', 'otherPis': None, 'congressionalDistrict': '14', 'dunsId': '004514360', 'latitude': 40.444095, 'longitude': -79.956899, 'orgName': 'THE UNIVERSITY OF PITTSBURGH', 'orgCity': 'PITTSBURGH', 'orgState': 'PA', 'orgCountry': 'UNITED STATES', 'orgZipCode': '152132303', 'projectStartDate': '2007-09-15T00:00:00', 'projectEndDate': '2012-08-31T00:00:00', 'cfdaCode': '855', 'abstract': \"  DESCRIPTION (provided by applicant):  Infections with Gram negative bacilli resistant to all antibiotics except colistin have become increasingly common. This is a worldwide problem, with substantial issues being noted in South America and Asia. No new antibiotic classes with activity against these resistant Gram negative organisms are likely to be commercially available in the next 5 years. Yet, the pharmacokinetics (PK) of the only remaining antibiotic option, colistin, were studied in the 1960s when many of the modern principles of antibiotic dosing were not known. The Product Information of the drug suggests dosing regimens which may not be optimal for the management of serious infections. Furthermore, many patients with multiply resistant Gram negative infections are critically ill requiring renal replacement therapy and the Product Information gives no recommendations for dosing in this scenario. Although most physicians refer to 'colistin', the only form available for intravenous use is sodium colistin methanesulfonate (CMS). In the body, CMS is partially hydrolyzed to colistin. CMS and colistin differ in their antibacterial and PK characteristics. We were the first to develop HPLC assays which can separately measure both CMS and colistin. We aim to measure the levels of CMS and generated colistin in plasma in all patients and at the site of infection in patients with pneumonia (lung epithelial lining fluid) in a multicenter cohort of 238 patients. We will also measure the clearance of CMS and colistin in those patients in the cohort who are undergoing dialysis or continuous renal replacement therapy. We will determine outcome of these patients and correlate outcome with pharmacodynamic parameters such as the ratio of area under the plasma concentration-time curve:minimal inhibitory concentration (MIC) or peak concentration:MIC. The primary outcome measures will be bacteriologic and clinical response. Mathematical modeling techniques such as Monte Carlo simulation will be used to integrate the PK/PD and outcome data in order to establish optimal dosing regimens. Resistance or intolerance to CMS/colistin leaves physicians with no antibiotic options - therefore, we will secondarily explore the relationships between PK, treatment duration and patient characteristics on resistance to colistin or advent of toxicity.       \", 'terms': ' abstracting; Acinetobacter; Address; Affect; Afghanistan; Anti-Bacterial Agents; Antibiotics; Area; Arts; Asia; Bacillus (bacterium); Bacteria; Bacterial Infections; bacterial resistance; base; Biological Assay; Carbapenems; Characteristics; Clinical; clinical efficacy; Clinical Treatment; Clinical Trials; cohort; Colistimethate sodium; Colistin; Comorbidity; Country; Critical Illness; dalbavancin; Daptomycin; Data; Development; Dialysis procedure; Dimensions; Disease Outbreaks; doripenem; dosage; Dose; drug efficacy; Drug Kinetics; economic cost; Epithelial; Europe; experience; Exposure to; FDA approved; Future; Genus staphylococcus; Goals; Gram-Negative Bacteria; Hemodialysis; High Pressure Liquid Chromatography; Hospitals; Human; Hydrolysis; Imipenem; Infection; Institution; Intensive Care Units; Intravenous; Iraq; Klebsiella; Lead; Left; Linezolid; Liquid substance; Lung; mathematical model; Measures; Meropenem; Mesylates; Military Personnel; Monobactams; Multi-Drug Resistance; nephrotoxicity; neurotoxicity; novel therapeutics; Organ failure; Organism; Outcome; Outcome Measure; pathogen; Patients; Pharmaceutical Preparations; Pharmacodynamics; pharmacokinetic characteristic; Pharmacologic Substance; Phase III Clinical Trials; Physicians; Plasma; Pneumonia; Polymyxin Resistance; Polymyxins; Population; pre-clinical; primary outcome; Principal Investigator; Process; programs; Pseudomonas aeruginosa; Public Health; Recommendation; Regimen; Renal function; Renal Replacement Therapy; Research; Research Personnel; Resistance; Resistance development; resistant strain; response; Serum; simulation; Site; South America; Staging; Stimulus; Techniques; telavancin; Testing; Therapeutic; therapy duration; tigecycline; Time; Toxic effect; treatment duration; United States; Vancomycin Resistance; Vancomycin resistant enterococcus'}, {'projectNumber': '5R01AI070896-03', 'fy': 2009, 'title': 'OPTIMIZING DOSING OF COLISTIN FOR INFECTIONS RESISTANT TO ALL OTHER ANTIBIOTICS', 'department': 'HHS', 'agency': 'NIH', 'ic': 'NIAID', 'totalCostAmount': 804901, 'nihApplId': 7676005, 'smApplId': 252313, 'budgetStartDate': '2009-09-01T00:00:00', 'budgetEndDate': '2010-08-31T00:00:00', 'contactPi': 'SILVEIRA, FERNANDA P.', 'otherPis': None, 'congressionalDistrict': '14', 'dunsId': '004514360', 'latitude': 40.444095, 'longitude': -79.956899, 'orgName': 'THE UNIVERSITY OF PITTSBURGH', 'orgCity': 'PITTSBURGH', 'orgState': 'PA', 'orgCountry': 'UNITED STATES', 'orgZipCode': '152132303', 'projectStartDate': '2007-09-15T00:00:00', 'projectEndDate': '2012-08-31T00:00:00', 'cfdaCode': '855', 'abstract': \"  DESCRIPTION (provided by applicant):  Infections with Gram negative bacilli resistant to all antibiotics except colistin have become increasingly common. This is a worldwide problem, with substantial issues being noted in South America and Asia. No new antibiotic classes with activity against these resistant Gram negative organisms are likely to be commercially available in the next 5 years. Yet, the pharmacokinetics (PK) of the only remaining antibiotic option, colistin, were studied in the 1960s when many of the modern principles of antibiotic dosing were not known. The Product Information of the drug suggests dosing regimens which may not be optimal for the management of serious infections. Furthermore, many patients with multiply resistant Gram negative infections are critically ill requiring renal replacement therapy and the Product Information gives no recommendations for dosing in this scenario. Although most physicians refer to 'colistin', the only form available for intravenous use is sodium colistin methanesulfonate (CMS). In the body, CMS is partially hydrolyzed to colistin. CMS and colistin differ in their antibacterial and PK characteristics. We were the first to develop HPLC assays which can separately measure both CMS and colistin. We aim to measure the levels of CMS and generated colistin in plasma in all patients and at the site of infection in patients with pneumonia (lung epithelial lining fluid) in a multicenter cohort of 238 patients. We will also measure the clearance of CMS and colistin in those patients in the cohort who are undergoing dialysis or continuous renal replacement therapy. We will determine outcome of these patients and correlate outcome with pharmacodynamic parameters such as the ratio of area under the plasma concentration-time curve:minimal inhibitory concentration (MIC) or peak concentration:MIC. The primary outcome measures will be bacteriologic and clinical response. Mathematical modeling techniques such as Monte Carlo simulation will be used to integrate the PK/PD and outcome data in order to establish optimal dosing regimens. Resistance or intolerance to CMS/colistin leaves physicians with no antibiotic options - therefore, we will secondarily explore the relationships between PK, treatment duration and patient characteristics on resistance to colistin or advent of toxicity.       \", 'terms': ' abstracting; Acinetobacter; Address; Affect; Afghanistan; Anti-Bacterial Agents; Antibiotics; Area; Arts; Asia; Bacillus (bacterium); Bacteria; Bacterial Infections; bacterial resistance; base; Biological Assay; Carbapenems; Characteristics; Clinical; clinical efficacy; Clinical Treatment; Clinical Trials; cohort; Colistimethate sodium; Colistin; Country; Critical Illness; dalbavancin; Daptomycin; Data; Development; Dialysis procedure; Dimensions; Disease Outbreaks; doripenem; dosage; Dose; drug efficacy; Drug Kinetics; economic cost; Epithelial; Europe; experience; Exposure to; FDA approved; Future; Genus staphylococcus; Goals; Gram-Negative Bacteria; Hemodialysis; High Pressure Liquid Chromatography; Hospitals; Human; Hydrolysis; Imipenem; Infection; Institution; Intensive Care Units; Intravenous; Iraq; Klebsiella; Lead; Left; Linezolid; Liquid substance; Lung; mathematical model; Measures; Meropenem; Mesylates; Military Personnel; Monobactams; Morbidity - disease rate; Multi-Drug Resistance; nephrotoxicity; neurotoxicity; novel therapeutics; Organ failure; Organism; Outcome; Outcome Measure; pathogen; Patients; Pharmaceutical Preparations; Pharmacodynamics; pharmacokinetic characteristic; Pharmacologic Substance; Phase III Clinical Trials; Physicians; Plasma; Pneumonia; Polymyxin Resistance; Polymyxins; Population; pre-clinical; primary outcome; Principal Investigator; Process; programs; Pseudomonas aeruginosa; Public Health; Recommendation; Renal function; Renal Replacement Therapy; Research; Research Personnel; Resistance; Resistance development; resistant strain; response; Serum; simulation; Site; South America; Staging; Stimulus; Techniques; telavancin; Testing; Therapeutic; therapy duration; tigecycline; Time; Toxic effect; treatment duration; Treatment Protocols; United States; Vancomycin Resistance; Vancomycin resistant enterococcus'}, {'projectNumber': '5R01AI070896-02', 'fy': 2008, 'title': 'OPTIMIZING DOSING OF COLISTIN FOR INFECTIONS RESISTANT TO ALL OTHER ANTIBIOTICS', 'department': 'HHS', 'agency': 'NIH', 'ic': 'NIAID', 'totalCostAmount': 609746, 'nihApplId': 7493549, 'smApplId': 192559, 'budgetStartDate': '2008-09-01T00:00:00', 'budgetEndDate': '2009-08-31T00:00:00', 'contactPi': 'SILVEIRA, FERNANDA P.', 'otherPis': None, 'congressionalDistrict': '14', 'dunsId': '004514360', 'latitude': 40.444095, 'longitude': -79.956899, 'orgName': 'THE UNIVERSITY OF PITTSBURGH', 'orgCity': 'PITTSBURGH', 'orgState': 'PA', 'orgCountry': 'UNITED STATES', 'orgZipCode': '152132303', 'projectStartDate': '2007-09-15T00:00:00', 'projectEndDate': '2012-08-31T00:00:00', 'cfdaCode': '855', 'abstract': \"  DESCRIPTION (provided by applicant):  Infections with Gram negative bacilli resistant to all antibiotics except colistin have become increasingly common. This is a worldwide problem, with substantial issues being noted in South America and Asia. No new antibiotic classes with activity against these resistant Gram negative organisms are likely to be commercially available in the next 5 years. Yet, the pharmacokinetics (PK) of the only remaining antibiotic option, colistin, were studied in the 1960s when many of the modern principles of antibiotic dosing were not known. The Product Information of the drug suggests dosing regimens which may not be optimal for the management of serious infections. Furthermore, many patients with multiply resistant Gram negative infections are critically ill requiring renal replacement therapy and the Product Information gives no recommendations for dosing in this scenario. Although most physicians refer to 'colistin', the only form available for intravenous use is sodium colistin methanesulfonate (CMS). In the body, CMS is partially hydrolyzed to colistin. CMS and colistin differ in their antibacterial and PK characteristics. We were the first to develop HPLC assays which can separately measure both CMS and colistin. We aim to measure the levels of CMS and generated colistin in plasma in all patients and at the site of infection in patients with pneumonia (lung epithelial lining fluid) in a multicenter cohort of 238 patients. We will also measure the clearance of CMS and colistin in those patients in the cohort who are undergoing dialysis or continuous renal replacement therapy. We will determine outcome of these patients and correlate outcome with pharmacodynamic parameters such as the ratio of area under the plasma concentration-time curve:minimal inhibitory concentration (MIC) or peak concentration:MIC. The primary outcome measures will be bacteriologic and clinical response. Mathematical modeling techniques such as Monte Carlo simulation will be used to integrate the PK/PD and outcome data in order to establish optimal dosing regimens. Resistance or intolerance to CMS/colistin leaves physicians with no antibiotic options - therefore, we will secondarily explore the relationships between PK, treatment duration and patient characteristics on resistance to colistin or advent of toxicity.       \", 'terms': ' abstracting; Acinetobacter; Address; Affect; Afghanistan; Anti-Bacterial Agents; Antibiotics; Area; Arts; Asia; Bacillus (bacterium); Bacteria; Bacterial Infections; bacterial resistance; base; Biological Assay; Carbapenems; Characteristics; Class; Clinical; clinical efficacy; Clinical Treatment; Clinical Trials; cohort; Colistimethate sodium; Colistin; cost; Country; Critical Illness; dalbavancin; Daptomycin; Data; Development; Dialysis procedure; Dimensions; Disease Outbreaks; doripenem; dosage; Dose; drug efficacy; Drug Kinetics; Economics; Epithelial; Europe; experience; Exposure to; Future; Genus staphylococcus; Goals; Gram-Negative Bacteria; Hemodialysis; High Pressure Liquid Chromatography; Hospitals; Human; Hydrolysis; Imipenem; Infection; Institution; Intensive Care Units; Intravenous; Iraq; Klebsiella; Lead; Left; Linezolid; Liquid substance; Lung; mathematical model; Measures; Meropenem; mesylate; Mesylates; Military Personnel; Monobactams; Morbidity - disease rate; Multi-Drug Resistance; nephrotoxicity; neurotoxicity; novel therapeutics; Organ failure; Organism; Outcome; Outcome Measure; pathogen; Patients; Pharmaceutical Preparations; Pharmacodynamics; Pharmacologic Substance; Phase III Clinical Trials; Physical Dialysis; Physicians; Plasma; Pneumonia; Polymyxin Resistance; Polymyxins; Population; pre-clinical; Principal Investigator; Process; programs; Pseudomonas aeruginosa; Public Health; Range; Recommendation; Renal function; Renal Replacement Therapy; Research; Research Personnel; Resistance; Resistance development; response; Serum; simulation; Site; South America; Staging; Stimulus; Techniques; telavancin; Testing; Therapeutic; therapy duration; tigecycline; Time; Toxic effect; treatment duration; Treatment Protocols; United States; United States Food and Drug Administration; Vancomycin Resistance; Vancomycin resistant enterococcus'}, {'projectNumber': '5R01AI070896-05', 'fy': 2011, 'title': 'OPTIMIZING DOSING OF COLISTIN FOR INFECTIONS RESISTANT TO ALL OTHER ANTIBIOTICS', 'department': 'HHS', 'agency': 'NIH', 'ic': 'NIAID', 'totalCostAmount': 779639, 'nihApplId': 8141270, 'smApplId': 424900, 'budgetStartDate': '2011-09-01T00:00:00', 'budgetEndDate': '2014-08-31T00:00:00', 'contactPi': 'SILVEIRA, FERNANDA P.', 'otherPis': None, 'congressionalDistrict': '14', 'dunsId': '004514360', 'latitude': 40.444095, 'longitude': -79.956899, 'orgName': 'THE UNIVERSITY OF PITTSBURGH', 'orgCity': 'PITTSBURGH', 'orgState': 'PA', 'orgCountry': 'UNITED STATES', 'orgZipCode': '152132303', 'projectStartDate': '2007-09-15T00:00:00', 'projectEndDate': '2014-08-31T00:00:00', 'cfdaCode': '855', 'abstract': \"  DESCRIPTION (provided by applicant):  Infections with Gram negative bacilli resistant to all antibiotics except colistin have become increasingly common. This is a worldwide problem, with substantial issues being noted in South America and Asia. No new antibiotic classes with activity against these resistant Gram negative organisms are likely to be commercially available in the next 5 years. Yet, the pharmacokinetics (PK) of the only remaining antibiotic option, colistin, were studied in the 1960s when many of the modern principles of antibiotic dosing were not known. The Product Information of the drug suggests dosing regimens which may not be optimal for the management of serious infections. Furthermore, many patients with multiply resistant Gram negative infections are critically ill requiring renal replacement therapy and the Product Information gives no recommendations for dosing in this scenario. Although most physicians refer to 'colistin', the only form available for intravenous use is sodium colistin methanesulfonate (CMS). In the body, CMS is partially hydrolyzed to colistin. CMS and colistin differ in their antibacterial and PK characteristics. We were the first to develop HPLC assays which can separately measure both CMS and colistin. We aim to measure the levels of CMS and generated colistin in plasma in all patients and at the site of infection in patients with pneumonia (lung epithelial lining fluid) in a multicenter cohort of 238 patients. We will also measure the clearance of CMS and colistin in those patients in the cohort who are undergoing dialysis or continuous renal replacement therapy. We will determine outcome of these patients and correlate outcome with pharmacodynamic parameters such as the ratio of area under the plasma concentration-time curve:minimal inhibitory concentration (MIC) or peak concentration:MIC. The primary outcome measures will be bacteriologic and clinical response. Mathematical modeling techniques such as Monte Carlo simulation will be used to integrate the PK/PD and outcome data in order to establish optimal dosing regimens. Resistance or intolerance to CMS/colistin leaves physicians with no antibiotic options - therefore, we will secondarily explore the relationships between PK, treatment duration and patient characteristics on resistance to colistin or advent of toxicity.       \", 'terms': ' abstracting; Acinetobacter; Address; Affect; Anti-Bacterial Agents; Antibiotics; Area; Asia; Bacillus (bacterium); Bacteria; Bacterial Infections; bacterial resistance; base; Biological Assay; Carbapenems; Characteristics; Clinical; clinical efficacy; Clinical Treatment; Clinical Trials; cohort; Colistimethate sodium; Colistin; Comorbidity; Country; Critical Illness; dalbavancin; Daptomycin; Data; Development; Dialysis procedure; Dimensions; Disease Outbreaks; doripenem; dosage; Dose; drug efficacy; Drug Kinetics; economic cost; Epithelial; Europe; experience; Exposure to; FDA approved; Future; Genus staphylococcus; Goals; Gram-Negative Bacteria; Hemodialysis; High Pressure Liquid Chromatography; Hospitals; Human; Imipenem; Infection; Institution; Intensive Care Units; Intravenous; Iraq; Klebsiella; Klebsiella pneumonia bacterium; Lead; Linezolid; Liquid substance; Lung; mathematical model; Measures; Meropenem; Mesylates; Military Personnel; Monobactams; Multi-Drug Resistance; nephrotoxicity; neurotoxicity; novel therapeutics; Organ failure; Organism; Outcome; Outcome Measure; pathogen; Patients; Pharmaceutical Preparations; Pharmacodynamics; pharmacokinetic characteristic; Pharmacologic Substance; Phase III Clinical Trials; Physicians; Plasma; Pneumonia; Polymyxin Resistance; Polymyxins; Population; pre-clinical; primary outcome; Principal Investigator; Process; programs; Pseudomonas aeruginosa; Public Health; Recommendation; Regimen; Renal function; Renal Replacement Therapy; Research; Research Personnel; Resistance; Resistance development; resistant strain; response; Serum; simulation; Site; South America; Staging; Stimulus; Techniques; telavancin; Testing; Therapeutic; therapy duration; tigecycline; Time; Toxic effect; treatment duration; United States; Vancomycin Resistance; Vancomycin resistant enterococcus'}, {'projectNumber': '1F32GM122204-01', 'fy': 2017, 'title': 'DEVELOPMENT OF SITE-SELECTIVE GLYCOSYLATION OF UNPROTECTED SUGARS', 'department': 'HHS', 'agency': 'NIH', 'ic': 'NIGMS', 'totalCostAmount': 56334, 'nihApplId': 9256838, 'smApplId': 958619, 'budgetStartDate': '2017-04-01T00:00:00', 'budgetEndDate': '2018-03-31T00:00:00', 'contactPi': 'HIE, LIANA', 'otherPis': None, 'congressionalDistrict': '03', 'dunsId': '043207562', 'latitude': 41.310925, 'longitude': -72.926428, 'orgName': 'YALE UNIVERSITY', 'orgCity': 'NEW HAVEN', 'orgState': 'CT', 'orgCountry': 'UNITED STATES', 'orgZipCode': '065208327', 'projectStartDate': '2017-04-01T00:00:00', 'projectEndDate': '2018-03-31T00:00:00', 'cfdaCode': '859', 'abstract': 'Project Summary/AbstractCarbohydrates are the most abundant organic molecules in living organisms and regulate manyimportant biological processes. Synthetic carbohydrates are increasingly used as probes forbiological research and as lead compounds for drug and vaccine discovery. However, suchendeavors are complicated by a lack of efficient and general methods for the routine preparationof these important compounds. Conventional synthetic glycosylation methods to build complexcarbohydrates depend on protecting group strategies to achieve selective synthesis. Unprotectedsugars posses many hydroxyl groups that can participate in the reaction giving various undesiredbyproducts. Conversely, glycosylation of readily available sugars would constitute a simple,flexible, and powerful means to access these frameworks. The proposed research aims to developa site-selective glycosylation of unprotected sugars for complex carbohydrate synthesis. It isenvisioned that the ability of natural carbohydrate receptors could be mimicked in the form ofligands. The non-covalent coordination of the ligands to the glycosyl donors, glycosyl acceptors,and the catalyst would be crucial to achieve the site-selective glycosylation. This powerful newstrategy will rely on the selective ability of the ligands to recognize and bind to specific sugarscaffolds. Ligand design that mimics the ability of carbohydrate receptors and reactionoptimization will prove critical to this key transformation in order to avoid various undesiredreaction pathways. Finally, the proposal aims to achieve derivatization of complex bioactivemolecules via site-selective glycosylation. Specifically, glycosylation of glycopeptide antibioticshave experienced beneficial effects with respect to pharmacokinetic properties and biologicalactivities.', 'terms': ' Address; Affect; Affinity; analog; Antibiotic Resistance; Antibiotics; Area; base; Binding; Biological; Biological Process; biological research; Biological Testing; carbohydrate receptor; Carbohydrates; catalyst; chemical synthesis; Complex; dalbavancin; design; Development; drug discovery; Drug Kinetics; Enzymes; Evaluation; Exhibits; experience; flexibility; functional group; Generations; Glycopeptide Antibiotics; Glycopeptides; Glycosides; glycosylation; Hydrolase; hydroxyl group; Hydroxyl Radical; improved; insight; interest; Lead; Ligands; Methodology; Methods; Nature; novel; Organism; Parents; Pathway interactions; Pharmaceutical Preparations; Phase; Preparation; Property; Protocols documentation; Reaction; Research; scaffold; Side; Site; Structure-Activity Relationship; Substrate Specificity; sugar; Teicoplanin; Therapeutic; Transferase; vaccine discovery; Variant'}, {'projectNumber': '1R01AI136979-01', 'fy': 2018, 'title': 'CONTRIBUTION OF ALTERED LIPID METABOLISM TO RESISTANCE TO CELL ENVELOPE-TARGETING ANTIMICROBIALS IN MRSA', 'department': 'HHS', 'agency': 'NIH', 'ic': 'NIAID', 'totalCostAmount': 463818, 'nihApplId': 9493937, 'smApplId': 1005588, 'budgetStartDate': '2018-08-15T00:00:00', 'budgetEndDate': '2019-07-31T00:00:00', 'contactPi': 'WERTH, BRIAN JAMES', 'otherPis': None, 'congressionalDistrict': '07', 'dunsId': '605799469', 'latitude': 47.660306999999996, 'longitude': -122.315168, 'orgName': 'UNIVERSITY OF WASHINGTON', 'orgCity': 'SEATTLE', 'orgState': 'WA', 'orgCountry': 'UNITED STATES', 'orgZipCode': '981959472', 'projectStartDate': '2018-08-15T00:00:00', 'projectEndDate': '2022-07-31T00:00:00', 'cfdaCode': '855', 'abstract': 'Project SummaryInvasive infections due to the “superbug” methicillin-resistant Staphylococcus aureus (MRSA) are responsiblefor more deaths than any other drug-resistant bacterial pathogen in the USA. The glycopeptide (GP), vanco-mycin, is the standard of care for the treatment of MRSA, but therapeutic failures are common. Vancomycin isclosely related to two other classes of antibiotics that are also important for the treatment of MRSA infections,the lipopeptides (LP) and the lipoglycopeptides (LGP). Drugs from each of these classes can select for cross-resistance to the others to various degrees, but the mechanisms behind this cross-resistance are not well un-derstood. In addition, there is a critical need to develop new diagnostics that can predict drug response to GP,LP, and LGP antimicrobials, and to develop novel therapies that can modulate resistance. Recently, using aninnovative lipidomic approach we have observed significant and characteristic changes in lipid metabolism as-sociated with resistance to each class of drugs (GP, LP, and LGP). We hypothesize that lipidomic signaturesin the cell membrane reflect specific antibiotic resistance mechanisms and that these lipidomic signatures canbe modified by other small molecules to favor a susceptible phenotype. We propose to comprehensively inter-rogate the mechanisms of resistance and cross-resistance to GP, LP, and LGP antimicrobials in MRSA by in-tegrated lipidomics, genomics, and transcriptomics. In AIM 1, our strategy will focus on elucidating the role ofaltered lipid metabolism in the development of resistant phenotypes in in vitro-selected strains that are re-sistant to GP, LP, and/or LGP using comprehensive lipidomics, coupled with genomics, transcriptomics, stand-ard and advanced susceptibility testing, and quantitative biophysical assessment of cell wall and cell mem-brane properties. Contribution of each gene mutation to the resistant phenotypes will be elucidated by similarcharacterization of single-gene mutants generated by allelic replacement. In AIM 2, we will test the hypothesisthat β-lactams modulate the susceptibility of MRSA to GP, LP, and LGP, at least in part, by modifying the lipidcomposition of the bacteria. We will examine the synergistic interactions between the study drugs and β-lactams by the integrated omics approach, which would yield insights into the mechanisms of β-lactam synergywith these agents and the β-lactam “seesaw effect”. In AIM 3, we will evaluate the sensitivity of our lipidomictechnique to identify sub-MIC differences in susceptibility and predict response to clinically relevant GP, LP,and LGP exposures. We anticipate that this strategy will yield valuable insight into the role of altered lipid me-tabolism in producing antimicrobial resistance. This work is significant because the pathways identified as crit-ical to resistance and susceptible to modulation will lay the foundation for further studies that could lead to re-sistance prevention therapeutics and advanced diagnostics, which in turn will improve human health. The in-novation of this proposal includes the novel lipidomics methodology, the integrated omics approach, and cor-relation of lipidomic signatures with clinically relevant pharmacodynamics endpoints.', 'terms': ' Address; Alleles; American; Antibiotic Resistance; Antibiotics; antimicrobial; Antimicrobial Resistance; Bacteremia; Bacteria; bacterial resistance; base; beta-Lactams; biological adaptation to stress; Biophysics; Categories; cell envelope; Cell membrane; Cell Wall; Cessation of life; Characteristics; Clinical; Clinical Management; clinically relevant; Coupled; dalbavancin; Daptomycin; Development; Diagnostic; differential expression; Drug resistance; drug response prediction; druggable target; Failure; Foundations; Gene Expression; Gene Mutation; Genes; Genetic study; genome sequencing; Genomics; Genotype; Glycopeptides; Goals; Health; Human; improved; In Vitro; Individual; Infection; innovation; insight; Lead; Libraries; lipid metabolism; Lipids; lipoteichoic acid; Mass Spectrum Analysis; Measures; Methicillin Resistance; methicillin resistant Staphylococcus aureus; Methodology; Modeling; mutant; Mutation; novel; novel diagnostics; novel therapeutics; Outcome; Parents; pathogen; Pathway interactions; Patient-Focused Outcomes; Patients; Pharmaceutical Preparations; Pharmacodynamics; Phenotype; Phosphatidylglycerols; Play; Population Analysis; predicting response; Predisposition; Prevention; Property; Resistance; Resistance development; resistance mechanism; resistant strain; response; Role; small molecule; specific biomarkers; standard of care; Staphylococcus aureus infection; success; Superbug; synergism; Techniques; Testing; Therapeutic; Time; Transcript; transcriptome sequencing; transcriptomics; Treatment Failure; Vancomycin; whole genome; Work'}]}\n"
     ]
    }
   ],
   "source": [
    "req_demo_json = req_demo.json()\n",
    "print(req_demo_json)"
   ]
  },
  {
   "cell_type": "code",
   "execution_count": null,
   "metadata": {},
   "outputs": [],
   "source": [
    "# the total count of projects that include the word \"dalbavancin\": 11\n",
    "# the limit is 50 projects\n",
    "# so we're good, we don't need to run another request with the offset set to 51\n",
    "\n",
    "# potential way to figure out if the drug of interest was pivotal to the project: \n",
    "# if the drug is in the same sentence that says \"we hypothesize\"\n",
    "# though not always\n",
    "# need to think more about this"
   ]
  },
  {
   "cell_type": "code",
   "execution_count": 36,
   "metadata": {},
   "outputs": [],
   "source": [
    "with open(\"demo_dalbavancin.json\", \"w\") as outfile:\n",
    "    json.dump(req_demo_json, outfile)"
   ]
  },
  {
   "cell_type": "code",
   "execution_count": 22,
   "metadata": {},
   "outputs": [
    {
     "name": "stdout",
     "output_type": "stream",
     "text": [
      "<class 'dict'>\n"
     ]
    }
   ],
   "source": [
    "print(type(req_demo_json))"
   ]
  },
  {
   "cell_type": "code",
   "execution_count": 23,
   "metadata": {},
   "outputs": [
    {
     "name": "stdout",
     "output_type": "stream",
     "text": [
      "totalCount\n",
      "offset\n",
      "limit\n",
      "totalPages\n",
      "items\n"
     ]
    }
   ],
   "source": [
    "for key in req_demo_json:\n",
    "    print(key)"
   ]
  },
  {
   "cell_type": "code",
   "execution_count": 26,
   "metadata": {},
   "outputs": [
    {
     "name": "stdout",
     "output_type": "stream",
     "text": [
      "<class 'list'>\n"
     ]
    }
   ],
   "source": [
    "print(type(req_demo_json['items']))"
   ]
  },
  {
   "cell_type": "code",
   "execution_count": 29,
   "metadata": {},
   "outputs": [
    {
     "name": "stdout",
     "output_type": "stream",
     "text": [
      "<class 'list'>\n",
      "11\n"
     ]
    }
   ],
   "source": [
    "items_demo = req_demo_json['items']\n",
    "print(type(items_demo))\n",
    "print(len(items_demo))"
   ]
  },
  {
   "cell_type": "code",
   "execution_count": null,
   "metadata": {},
   "outputs": [],
   "source": [
    "# each item is a dictionary containing information about ONE project during ONE fy"
   ]
  },
  {
   "cell_type": "code",
   "execution_count": 41,
   "metadata": {},
   "outputs": [
    {
     "name": "stdout",
     "output_type": "stream",
     "text": [
      "['projectNumber', 'fy', 'title', 'department', 'agency', 'ic', 'totalCostAmount', 'nihApplId', 'smApplId', 'budgetStartDate', 'budgetEndDate', 'contactPi', 'otherPis', 'congressionalDistrict', 'dunsId', 'latitude', 'longitude', 'orgName', 'orgCity', 'orgState', 'orgCountry', 'orgZipCode', 'projectStartDate', 'projectEndDate', 'cfdaCode', 'abstract', 'terms']\n"
     ]
    }
   ],
   "source": [
    "columns = []\n",
    "for item in items_demo[0]:\n",
    "    columns.append(item)\n",
    "print(columns)"
   ]
  },
  {
   "cell_type": "code",
   "execution_count": 32,
   "metadata": {},
   "outputs": [
    {
     "name": "stdout",
     "output_type": "stream",
     "text": [
      "1R21AI132994-01A1\n",
      "5R01GM079508-04\n",
      "3R01GM079508-03S1\n",
      "5R01GM079508-03\n",
      "5R01GM079508-02\n",
      "5R01AI070896-04\n",
      "5R01AI070896-03\n",
      "5R01AI070896-02\n",
      "5R01AI070896-05\n",
      "1F32GM122204-01\n",
      "1R01AI136979-01\n"
     ]
    }
   ],
   "source": [
    "for item in items_demo:\n",
    "    print(item['projectNumber'])"
   ]
  },
  {
   "cell_type": "code",
   "execution_count": 33,
   "metadata": {},
   "outputs": [
    {
     "name": "stdout",
     "output_type": "stream",
     "text": [
      "233125\n",
      "265741\n",
      "93337\n",
      "268425\n",
      "268425\n",
      "790294\n",
      "804901\n",
      "609746\n",
      "779639\n",
      "56334\n",
      "463818\n"
     ]
    }
   ],
   "source": [
    "for item in items_demo:\n",
    "    print(item['totalCostAmount'])"
   ]
  },
  {
   "cell_type": "code",
   "execution_count": 34,
   "metadata": {},
   "outputs": [
    {
     "name": "stdout",
     "output_type": "stream",
     "text": [
      "2018\n",
      "2010\n",
      "2009\n",
      "2009\n",
      "2008\n",
      "2010\n",
      "2009\n",
      "2008\n",
      "2011\n",
      "2017\n",
      "2018\n"
     ]
    }
   ],
   "source": [
    "for item in items_demo:\n",
    "    print(item['fy'])"
   ]
  },
  {
   "cell_type": "code",
   "execution_count": 35,
   "metadata": {},
   "outputs": [
    {
     "data": {
      "text/html": [
       "<div>\n",
       "<style scoped>\n",
       "    .dataframe tbody tr th:only-of-type {\n",
       "        vertical-align: middle;\n",
       "    }\n",
       "\n",
       "    .dataframe tbody tr th {\n",
       "        vertical-align: top;\n",
       "    }\n",
       "\n",
       "    .dataframe thead th {\n",
       "        text-align: right;\n",
       "    }\n",
       "</style>\n",
       "<table border=\"1\" class=\"dataframe\">\n",
       "  <thead>\n",
       "    <tr style=\"text-align: right;\">\n",
       "      <th></th>\n",
       "      <th>ApplNo</th>\n",
       "      <th>SubmissionStatusDate</th>\n",
       "      <th>ReviewPriority</th>\n",
       "      <th>ApplType</th>\n",
       "      <th>SponsorName</th>\n",
       "      <th>DrugName</th>\n",
       "      <th>ActiveIngredient</th>\n",
       "    </tr>\n",
       "  </thead>\n",
       "  <tbody>\n",
       "    <tr>\n",
       "      <th>0</th>\n",
       "      <td>21883</td>\n",
       "      <td>2014-05-23</td>\n",
       "      <td>PRIORITY</td>\n",
       "      <td>NDA</td>\n",
       "      <td>ALLERGAN</td>\n",
       "      <td>DALVANCE</td>\n",
       "      <td>DALBAVANCIN HYDROCHLORIDE</td>\n",
       "    </tr>\n",
       "  </tbody>\n",
       "</table>\n",
       "</div>"
      ],
      "text/plain": [
       "   ApplNo SubmissionStatusDate ReviewPriority ApplType SponsorName  DrugName  \\\n",
       "0   21883           2014-05-23       PRIORITY      NDA    ALLERGAN  DALVANCE   \n",
       "\n",
       "            ActiveIngredient  \n",
       "0  DALBAVANCIN HYDROCHLORIDE  "
      ]
     },
     "execution_count": 35,
     "metadata": {},
     "output_type": "execute_result"
    }
   ],
   "source": [
    "# let's look up the information about dalbavancin again\n",
    "drugs.loc[drugs['DrugName']==\"DALVANCE\"]"
   ]
  },
  {
   "cell_type": "code",
   "execution_count": 42,
   "metadata": {},
   "outputs": [
    {
     "data": {
      "text/html": [
       "<div>\n",
       "<style scoped>\n",
       "    .dataframe tbody tr th:only-of-type {\n",
       "        vertical-align: middle;\n",
       "    }\n",
       "\n",
       "    .dataframe tbody tr th {\n",
       "        vertical-align: top;\n",
       "    }\n",
       "\n",
       "    .dataframe thead th {\n",
       "        text-align: right;\n",
       "    }\n",
       "</style>\n",
       "<table border=\"1\" class=\"dataframe\">\n",
       "  <thead>\n",
       "    <tr style=\"text-align: right;\">\n",
       "      <th></th>\n",
       "      <th>projectNumber</th>\n",
       "      <th>fy</th>\n",
       "      <th>title</th>\n",
       "      <th>department</th>\n",
       "      <th>agency</th>\n",
       "      <th>ic</th>\n",
       "      <th>totalCostAmount</th>\n",
       "      <th>nihApplId</th>\n",
       "      <th>smApplId</th>\n",
       "      <th>budgetStartDate</th>\n",
       "      <th>...</th>\n",
       "      <th>orgName</th>\n",
       "      <th>orgCity</th>\n",
       "      <th>orgState</th>\n",
       "      <th>orgCountry</th>\n",
       "      <th>orgZipCode</th>\n",
       "      <th>projectStartDate</th>\n",
       "      <th>projectEndDate</th>\n",
       "      <th>cfdaCode</th>\n",
       "      <th>abstract</th>\n",
       "      <th>terms</th>\n",
       "    </tr>\n",
       "  </thead>\n",
       "  <tbody>\n",
       "    <tr>\n",
       "      <th>0</th>\n",
       "      <td>1R21AI132994-01A1</td>\n",
       "      <td>2018</td>\n",
       "      <td>RESISTANCE SELECTION POTENTIAL OF THE LONG ACT...</td>\n",
       "      <td>HHS</td>\n",
       "      <td>NIH</td>\n",
       "      <td>NIAID</td>\n",
       "      <td>233125</td>\n",
       "      <td>9528916</td>\n",
       "      <td>1064702</td>\n",
       "      <td>2018-05-01T00:00:00</td>\n",
       "      <td>...</td>\n",
       "      <td>UNIVERSITY OF WASHINGTON</td>\n",
       "      <td>SEATTLE</td>\n",
       "      <td>WA</td>\n",
       "      <td>UNITED STATES</td>\n",
       "      <td>981959472</td>\n",
       "      <td>2018-05-01T00:00:00</td>\n",
       "      <td>2020-04-30T00:00:00</td>\n",
       "      <td>855</td>\n",
       "      <td>Project SummaryAntimicrobial resistant bacteri...</td>\n",
       "      <td>Alleles; Anti-Bacterial Agents; antimicrobial...</td>\n",
       "    </tr>\n",
       "    <tr>\n",
       "      <th>1</th>\n",
       "      <td>5R01GM079508-04</td>\n",
       "      <td>2010</td>\n",
       "      <td>STRUCTURAL STUDIES OF TARGET RECOGNITION BY LA...</td>\n",
       "      <td>HHS</td>\n",
       "      <td>NIH</td>\n",
       "      <td>NIGMS</td>\n",
       "      <td>265741</td>\n",
       "      <td>7885427</td>\n",
       "      <td>323093</td>\n",
       "      <td>2010-07-01T00:00:00</td>\n",
       "      <td>...</td>\n",
       "      <td>DREXEL UNIVERSITY</td>\n",
       "      <td>PHILADELPHIA</td>\n",
       "      <td>PA</td>\n",
       "      <td>UNITED STATES</td>\n",
       "      <td>191021119</td>\n",
       "      <td>2007-07-01T00:00:00</td>\n",
       "      <td>2011-12-31T00:00:00</td>\n",
       "      <td>859</td>\n",
       "      <td>DESCRIPTION (provided by applicant):  This p...</td>\n",
       "      <td>Adverse effects; Anabolism; Anti-Bacterial Ag...</td>\n",
       "    </tr>\n",
       "    <tr>\n",
       "      <th>2</th>\n",
       "      <td>3R01GM079508-03S1</td>\n",
       "      <td>2009</td>\n",
       "      <td>STRUCTURAL STUDIES OF TARGET RECOGNITION BY LA...</td>\n",
       "      <td>HHS</td>\n",
       "      <td>NIH</td>\n",
       "      <td>NIGMS</td>\n",
       "      <td>93337</td>\n",
       "      <td>7935142</td>\n",
       "      <td>348475</td>\n",
       "      <td>2009-09-30T00:00:00</td>\n",
       "      <td>...</td>\n",
       "      <td>DREXEL UNIVERSITY</td>\n",
       "      <td>PHILADELPHIA</td>\n",
       "      <td>PA</td>\n",
       "      <td>UNITED STATES</td>\n",
       "      <td>191021119</td>\n",
       "      <td>2009-09-30T00:00:00</td>\n",
       "      <td>2010-08-31T00:00:00</td>\n",
       "      <td>701</td>\n",
       "      <td>DESCRIPTION (provided by applicant):  This p...</td>\n",
       "      <td>Adverse effects; Anabolism; Anti-Bacterial Ag...</td>\n",
       "    </tr>\n",
       "    <tr>\n",
       "      <th>3</th>\n",
       "      <td>5R01GM079508-03</td>\n",
       "      <td>2009</td>\n",
       "      <td>STRUCTURAL STUDIES OF TARGET RECOGNITION BY LA...</td>\n",
       "      <td>HHS</td>\n",
       "      <td>NIH</td>\n",
       "      <td>NIGMS</td>\n",
       "      <td>268425</td>\n",
       "      <td>7647966</td>\n",
       "      <td>237965</td>\n",
       "      <td>2009-07-01T00:00:00</td>\n",
       "      <td>...</td>\n",
       "      <td>DREXEL UNIVERSITY</td>\n",
       "      <td>PHILADELPHIA</td>\n",
       "      <td>PA</td>\n",
       "      <td>UNITED STATES</td>\n",
       "      <td>191021119</td>\n",
       "      <td>2007-07-01T00:00:00</td>\n",
       "      <td>2011-06-30T00:00:00</td>\n",
       "      <td>859</td>\n",
       "      <td>DESCRIPTION (provided by applicant):  This p...</td>\n",
       "      <td>Adverse effects; Anabolism; Anti-Bacterial Ag...</td>\n",
       "    </tr>\n",
       "    <tr>\n",
       "      <th>4</th>\n",
       "      <td>5R01GM079508-02</td>\n",
       "      <td>2008</td>\n",
       "      <td>STRUCTURAL STUDIES OF TARGET RECOGNITION BY LA...</td>\n",
       "      <td>HHS</td>\n",
       "      <td>NIH</td>\n",
       "      <td>NIGMS</td>\n",
       "      <td>268425</td>\n",
       "      <td>7458621</td>\n",
       "      <td>178414</td>\n",
       "      <td>2008-07-01T00:00:00</td>\n",
       "      <td>...</td>\n",
       "      <td>DREXEL UNIVERSITY</td>\n",
       "      <td>PHILADELPHIA</td>\n",
       "      <td>PA</td>\n",
       "      <td>UNITED STATES</td>\n",
       "      <td>191021119</td>\n",
       "      <td>2007-07-01T00:00:00</td>\n",
       "      <td>2011-06-30T00:00:00</td>\n",
       "      <td>859</td>\n",
       "      <td>DESCRIPTION (provided by applicant):  This p...</td>\n",
       "      <td>Adverse effects; Anabolism; Anti-Bacterial Ag...</td>\n",
       "    </tr>\n",
       "  </tbody>\n",
       "</table>\n",
       "<p>5 rows × 27 columns</p>\n",
       "</div>"
      ],
      "text/plain": [
       "       projectNumber    fy                                              title  \\\n",
       "0  1R21AI132994-01A1  2018  RESISTANCE SELECTION POTENTIAL OF THE LONG ACT...   \n",
       "1    5R01GM079508-04  2010  STRUCTURAL STUDIES OF TARGET RECOGNITION BY LA...   \n",
       "2  3R01GM079508-03S1  2009  STRUCTURAL STUDIES OF TARGET RECOGNITION BY LA...   \n",
       "3    5R01GM079508-03  2009  STRUCTURAL STUDIES OF TARGET RECOGNITION BY LA...   \n",
       "4    5R01GM079508-02  2008  STRUCTURAL STUDIES OF TARGET RECOGNITION BY LA...   \n",
       "\n",
       "  department agency     ic  totalCostAmount  nihApplId  smApplId  \\\n",
       "0        HHS    NIH  NIAID           233125    9528916   1064702   \n",
       "1        HHS    NIH  NIGMS           265741    7885427    323093   \n",
       "2        HHS    NIH  NIGMS            93337    7935142    348475   \n",
       "3        HHS    NIH  NIGMS           268425    7647966    237965   \n",
       "4        HHS    NIH  NIGMS           268425    7458621    178414   \n",
       "\n",
       "       budgetStartDate  ...                   orgName       orgCity orgState  \\\n",
       "0  2018-05-01T00:00:00  ...  UNIVERSITY OF WASHINGTON       SEATTLE       WA   \n",
       "1  2010-07-01T00:00:00  ...         DREXEL UNIVERSITY  PHILADELPHIA       PA   \n",
       "2  2009-09-30T00:00:00  ...         DREXEL UNIVERSITY  PHILADELPHIA       PA   \n",
       "3  2009-07-01T00:00:00  ...         DREXEL UNIVERSITY  PHILADELPHIA       PA   \n",
       "4  2008-07-01T00:00:00  ...         DREXEL UNIVERSITY  PHILADELPHIA       PA   \n",
       "\n",
       "      orgCountry orgZipCode     projectStartDate       projectEndDate  \\\n",
       "0  UNITED STATES  981959472  2018-05-01T00:00:00  2020-04-30T00:00:00   \n",
       "1  UNITED STATES  191021119  2007-07-01T00:00:00  2011-12-31T00:00:00   \n",
       "2  UNITED STATES  191021119  2009-09-30T00:00:00  2010-08-31T00:00:00   \n",
       "3  UNITED STATES  191021119  2007-07-01T00:00:00  2011-06-30T00:00:00   \n",
       "4  UNITED STATES  191021119  2007-07-01T00:00:00  2011-06-30T00:00:00   \n",
       "\n",
       "  cfdaCode                                           abstract  \\\n",
       "0      855  Project SummaryAntimicrobial resistant bacteri...   \n",
       "1      859    DESCRIPTION (provided by applicant):  This p...   \n",
       "2      701    DESCRIPTION (provided by applicant):  This p...   \n",
       "3      859    DESCRIPTION (provided by applicant):  This p...   \n",
       "4      859    DESCRIPTION (provided by applicant):  This p...   \n",
       "\n",
       "                                               terms  \n",
       "0   Alleles; Anti-Bacterial Agents; antimicrobial...  \n",
       "1   Adverse effects; Anabolism; Anti-Bacterial Ag...  \n",
       "2   Adverse effects; Anabolism; Anti-Bacterial Ag...  \n",
       "3   Adverse effects; Anabolism; Anti-Bacterial Ag...  \n",
       "4   Adverse effects; Anabolism; Anti-Bacterial Ag...  \n",
       "\n",
       "[5 rows x 27 columns]"
      ]
     },
     "execution_count": 42,
     "metadata": {},
     "output_type": "execute_result"
    }
   ],
   "source": [
    "# dalbavancin was approved in 2014\n",
    "# so let's filter for projects funded in fy up to 2014\n",
    "\n",
    "\n",
    "data = pd.DataFrame(items_demo, columns=columns)\n",
    "data.head()"
   ]
  },
  {
   "cell_type": "code",
   "execution_count": 44,
   "metadata": {},
   "outputs": [
    {
     "data": {
      "text/plain": [
       "11"
      ]
     },
     "execution_count": 44,
     "metadata": {},
     "output_type": "execute_result"
    }
   ],
   "source": [
    "len(data)"
   ]
  },
  {
   "cell_type": "code",
   "execution_count": 45,
   "metadata": {},
   "outputs": [
    {
     "data": {
      "text/plain": [
       "8"
      ]
     },
     "execution_count": 45,
     "metadata": {},
     "output_type": "execute_result"
    }
   ],
   "source": [
    "data2 = data[data['fy']<2015]\n",
    "len(data2)"
   ]
  },
  {
   "cell_type": "code",
   "execution_count": 47,
   "metadata": {},
   "outputs": [
    {
     "data": {
      "text/html": [
       "<div>\n",
       "<style scoped>\n",
       "    .dataframe tbody tr th:only-of-type {\n",
       "        vertical-align: middle;\n",
       "    }\n",
       "\n",
       "    .dataframe tbody tr th {\n",
       "        vertical-align: top;\n",
       "    }\n",
       "\n",
       "    .dataframe thead th {\n",
       "        text-align: right;\n",
       "    }\n",
       "</style>\n",
       "<table border=\"1\" class=\"dataframe\">\n",
       "  <thead>\n",
       "    <tr style=\"text-align: right;\">\n",
       "      <th></th>\n",
       "      <th>fy</th>\n",
       "      <th>totalCostAmount</th>\n",
       "    </tr>\n",
       "  </thead>\n",
       "  <tbody>\n",
       "    <tr>\n",
       "      <th>0</th>\n",
       "      <td>2008</td>\n",
       "      <td>878171</td>\n",
       "    </tr>\n",
       "    <tr>\n",
       "      <th>1</th>\n",
       "      <td>2009</td>\n",
       "      <td>1166663</td>\n",
       "    </tr>\n",
       "    <tr>\n",
       "      <th>2</th>\n",
       "      <td>2010</td>\n",
       "      <td>1056035</td>\n",
       "    </tr>\n",
       "    <tr>\n",
       "      <th>3</th>\n",
       "      <td>2011</td>\n",
       "      <td>779639</td>\n",
       "    </tr>\n",
       "  </tbody>\n",
       "</table>\n",
       "</div>"
      ],
      "text/plain": [
       "     fy  totalCostAmount\n",
       "0  2008           878171\n",
       "1  2009          1166663\n",
       "2  2010          1056035\n",
       "3  2011           779639"
      ]
     },
     "execution_count": 47,
     "metadata": {},
     "output_type": "execute_result"
    }
   ],
   "source": [
    "data3 = data2.groupby('fy').agg({'totalCostAmount':sum}).reset_index()\n",
    "data3"
   ]
  },
  {
   "cell_type": "code",
   "execution_count": 48,
   "metadata": {},
   "outputs": [
    {
     "data": {
      "text/plain": [
       "3880508"
      ]
     },
     "execution_count": 48,
     "metadata": {},
     "output_type": "execute_result"
    }
   ],
   "source": [
    "# this is the amount of taxpayers money that went into basic, preclinical, or clinical research involving dalbavancin\n",
    "# between 2008 and 2011\n",
    "# note that Federal RePORTER data are incomplete\n",
    "\n",
    "data3.totalCostAmount.sum()\n"
   ]
  },
  {
   "cell_type": "code",
   "execution_count": 49,
   "metadata": {},
   "outputs": [],
   "source": [
    "# a quick PubMed search revealed \"dalbavancin\" was mentioned in review papers in 2002\n",
    "# meaning its development started before that, otherwise people wouldn't put it in reviews\n",
    "# after some digging, I find out that dalbavancin was previously called \"BI 397\" or \"BI-397\"\n",
    "# which was first published in 1999\n",
    "# in the abstract of paper by Candiani et al 1999 in J Antimicrob Chemother,\n",
    "# it starts with \"BI 397 (formerly A-A-1)\"\n",
    "# so there's probably even MORE papers and funding involved from before 1999\n",
    "# BI 397 is a semi-synthetic derivative of A40926\n",
    "# A40926 was first published in 1987 by Goldstein BP et al in Antimicrob Agents Chemother\n",
    "# need to decide the line/scope\n",
    "# technically, the discovery of A40926 was crucial for dalbavancin development\n",
    "# but I'd need to figure out how to get the computer to go from dalbavancin to BI 397 to A40926\n",
    "# then I'll need to scour the funding databases for all 3 compounds\n",
    "# sometimes though, it's less about the iterations of drugs\n",
    "# but more about the discovery of the structure or the mechanism that allowed something to then be a target\n",
    "# so will need to take this into account\n",
    "# there's the Federal ExPORTER that has data that goes further back to the 1980s\n",
    "# though I'm not sure the abstracts are in there"
   ]
  },
  {
   "cell_type": "code",
   "execution_count": null,
   "metadata": {},
   "outputs": [],
   "source": []
  }
 ],
 "metadata": {
  "kernelspec": {
   "display_name": "Python 3",
   "language": "python",
   "name": "python3"
  },
  "language_info": {
   "codemirror_mode": {
    "name": "ipython",
    "version": 3
   },
   "file_extension": ".py",
   "mimetype": "text/x-python",
   "name": "python",
   "nbconvert_exporter": "python",
   "pygments_lexer": "ipython3",
   "version": "3.6.10"
  }
 },
 "nbformat": 4,
 "nbformat_minor": 2
}
