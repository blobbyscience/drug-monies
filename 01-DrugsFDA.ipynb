{
 "cells": [
  {
   "cell_type": "code",
   "execution_count": 1,
   "metadata": {},
   "outputs": [],
   "source": [
    "import numpy as np\n",
    "import pandas as pd\n",
    "import matplotlib.pyplot as plt\n",
    "import seaborn as sns"
   ]
  },
  {
   "cell_type": "code",
   "execution_count": 2,
   "metadata": {},
   "outputs": [
    {
     "data": {
      "text/html": [
       "<div>\n",
       "<style scoped>\n",
       "    .dataframe tbody tr th:only-of-type {\n",
       "        vertical-align: middle;\n",
       "    }\n",
       "\n",
       "    .dataframe tbody tr th {\n",
       "        vertical-align: top;\n",
       "    }\n",
       "\n",
       "    .dataframe thead th {\n",
       "        text-align: right;\n",
       "    }\n",
       "</style>\n",
       "<table border=\"1\" class=\"dataframe\">\n",
       "  <thead>\n",
       "    <tr style=\"text-align: right;\">\n",
       "      <th></th>\n",
       "      <th>ApplNo</th>\n",
       "      <th>SubmissionClassCodeID</th>\n",
       "      <th>SubmissionType</th>\n",
       "      <th>SubmissionNo</th>\n",
       "      <th>SubmissionStatus</th>\n",
       "      <th>SubmissionStatusDate</th>\n",
       "      <th>SubmissionsPublicNotes</th>\n",
       "      <th>ReviewPriority</th>\n",
       "    </tr>\n",
       "  </thead>\n",
       "  <tbody>\n",
       "    <tr>\n",
       "      <th>0</th>\n",
       "      <td>4</td>\n",
       "      <td>19.0</td>\n",
       "      <td>ORIG</td>\n",
       "      <td>1</td>\n",
       "      <td>AP</td>\n",
       "      <td>1969-07-16</td>\n",
       "      <td>NaN</td>\n",
       "      <td>UNKNOWN</td>\n",
       "    </tr>\n",
       "    <tr>\n",
       "      <th>1</th>\n",
       "      <td>4</td>\n",
       "      <td>3.0</td>\n",
       "      <td>SUPPL</td>\n",
       "      <td>10</td>\n",
       "      <td>AP</td>\n",
       "      <td>1980-05-08</td>\n",
       "      <td>NaN</td>\n",
       "      <td>NaN</td>\n",
       "    </tr>\n",
       "    <tr>\n",
       "      <th>2</th>\n",
       "      <td>4</td>\n",
       "      <td>3.0</td>\n",
       "      <td>SUPPL</td>\n",
       "      <td>11</td>\n",
       "      <td>AP</td>\n",
       "      <td>1987-05-26</td>\n",
       "      <td>NaN</td>\n",
       "      <td>NaN</td>\n",
       "    </tr>\n",
       "    <tr>\n",
       "      <th>3</th>\n",
       "      <td>159</td>\n",
       "      <td>NaN</td>\n",
       "      <td>ORIG</td>\n",
       "      <td>1</td>\n",
       "      <td>AP</td>\n",
       "      <td>1939-03-09</td>\n",
       "      <td>NaN</td>\n",
       "      <td>NaN</td>\n",
       "    </tr>\n",
       "    <tr>\n",
       "      <th>4</th>\n",
       "      <td>159</td>\n",
       "      <td>3.0</td>\n",
       "      <td>SUPPL</td>\n",
       "      <td>3</td>\n",
       "      <td>AP</td>\n",
       "      <td>1986-12-09</td>\n",
       "      <td>NaN</td>\n",
       "      <td>NaN</td>\n",
       "    </tr>\n",
       "  </tbody>\n",
       "</table>\n",
       "</div>"
      ],
      "text/plain": [
       "   ApplNo  SubmissionClassCodeID SubmissionType  SubmissionNo  \\\n",
       "0       4                   19.0           ORIG             1   \n",
       "1       4                    3.0          SUPPL            10   \n",
       "2       4                    3.0          SUPPL            11   \n",
       "3     159                    NaN           ORIG             1   \n",
       "4     159                    3.0          SUPPL             3   \n",
       "\n",
       "  SubmissionStatus SubmissionStatusDate SubmissionsPublicNotes ReviewPriority  \n",
       "0               AP           1969-07-16                    NaN        UNKNOWN  \n",
       "1               AP           1980-05-08                    NaN            NaN  \n",
       "2               AP           1987-05-26                    NaN            NaN  \n",
       "3               AP           1939-03-09                    NaN            NaN  \n",
       "4               AP           1986-12-09                    NaN            NaN  "
      ]
     },
     "execution_count": 2,
     "metadata": {},
     "output_type": "execute_result"
    }
   ],
   "source": [
    "subs = pd.read_excel(\"Submissions.xlsx\")\n",
    "subs.head()"
   ]
  },
  {
   "cell_type": "code",
   "execution_count": 3,
   "metadata": {},
   "outputs": [
    {
     "data": {
      "text/plain": [
       "160748"
      ]
     },
     "execution_count": 3,
     "metadata": {},
     "output_type": "execute_result"
    }
   ],
   "source": [
    "len(subs)"
   ]
  },
  {
   "cell_type": "code",
   "execution_count": 4,
   "metadata": {},
   "outputs": [
    {
     "data": {
      "text/plain": [
       "(160748, 8)"
      ]
     },
     "execution_count": 4,
     "metadata": {},
     "output_type": "execute_result"
    }
   ],
   "source": [
    "subs.shape"
   ]
  },
  {
   "cell_type": "code",
   "execution_count": 5,
   "metadata": {},
   "outputs": [
    {
     "data": {
      "text/html": [
       "<div>\n",
       "<style scoped>\n",
       "    .dataframe tbody tr th:only-of-type {\n",
       "        vertical-align: middle;\n",
       "    }\n",
       "\n",
       "    .dataframe tbody tr th {\n",
       "        vertical-align: top;\n",
       "    }\n",
       "\n",
       "    .dataframe thead th {\n",
       "        text-align: right;\n",
       "    }\n",
       "</style>\n",
       "<table border=\"1\" class=\"dataframe\">\n",
       "  <thead>\n",
       "    <tr style=\"text-align: right;\">\n",
       "      <th></th>\n",
       "      <th>ApplNo</th>\n",
       "      <th>SubmissionClassCodeID</th>\n",
       "      <th>SubmissionType</th>\n",
       "      <th>SubmissionNo</th>\n",
       "      <th>SubmissionStatus</th>\n",
       "      <th>SubmissionStatusDate</th>\n",
       "      <th>SubmissionsPublicNotes</th>\n",
       "      <th>ReviewPriority</th>\n",
       "    </tr>\n",
       "  </thead>\n",
       "  <tbody>\n",
       "    <tr>\n",
       "      <th>0</th>\n",
       "      <td>4</td>\n",
       "      <td>19.0</td>\n",
       "      <td>ORIG</td>\n",
       "      <td>1</td>\n",
       "      <td>AP</td>\n",
       "      <td>1969-07-16</td>\n",
       "      <td>NaN</td>\n",
       "      <td>UNKNOWN</td>\n",
       "    </tr>\n",
       "    <tr>\n",
       "      <th>3</th>\n",
       "      <td>159</td>\n",
       "      <td>NaN</td>\n",
       "      <td>ORIG</td>\n",
       "      <td>1</td>\n",
       "      <td>AP</td>\n",
       "      <td>1939-03-09</td>\n",
       "      <td>NaN</td>\n",
       "      <td>NaN</td>\n",
       "    </tr>\n",
       "    <tr>\n",
       "      <th>6</th>\n",
       "      <td>415</td>\n",
       "      <td>NaN</td>\n",
       "      <td>ORIG</td>\n",
       "      <td>1</td>\n",
       "      <td>AP</td>\n",
       "      <td>1939-02-27</td>\n",
       "      <td>NaN</td>\n",
       "      <td>NaN</td>\n",
       "    </tr>\n",
       "    <tr>\n",
       "      <th>7</th>\n",
       "      <td>552</td>\n",
       "      <td>19.0</td>\n",
       "      <td>ORIG</td>\n",
       "      <td>1</td>\n",
       "      <td>AP</td>\n",
       "      <td>1939-02-09</td>\n",
       "      <td>NaN</td>\n",
       "      <td>UNKNOWN</td>\n",
       "    </tr>\n",
       "    <tr>\n",
       "      <th>23</th>\n",
       "      <td>654</td>\n",
       "      <td>19.0</td>\n",
       "      <td>ORIG</td>\n",
       "      <td>1</td>\n",
       "      <td>AP</td>\n",
       "      <td>1939-05-04</td>\n",
       "      <td>NaN</td>\n",
       "      <td>UNKNOWN</td>\n",
       "    </tr>\n",
       "  </tbody>\n",
       "</table>\n",
       "</div>"
      ],
      "text/plain": [
       "    ApplNo  SubmissionClassCodeID SubmissionType  SubmissionNo  \\\n",
       "0        4                   19.0           ORIG             1   \n",
       "3      159                    NaN           ORIG             1   \n",
       "6      415                    NaN           ORIG             1   \n",
       "7      552                   19.0           ORIG             1   \n",
       "23     654                   19.0           ORIG             1   \n",
       "\n",
       "   SubmissionStatus SubmissionStatusDate SubmissionsPublicNotes ReviewPriority  \n",
       "0                AP           1969-07-16                    NaN        UNKNOWN  \n",
       "3                AP           1939-03-09                    NaN            NaN  \n",
       "6                AP           1939-02-27                    NaN            NaN  \n",
       "7                AP           1939-02-09                    NaN        UNKNOWN  \n",
       "23               AP           1939-05-04                    NaN        UNKNOWN  "
      ]
     },
     "execution_count": 5,
     "metadata": {},
     "output_type": "execute_result"
    }
   ],
   "source": [
    "subs_orig = subs[subs['SubmissionType']=='ORIG']\n",
    "subs_orig.head()"
   ]
  },
  {
   "cell_type": "code",
   "execution_count": 6,
   "metadata": {},
   "outputs": [
    {
     "data": {
      "text/plain": [
       "21943"
      ]
     },
     "execution_count": 6,
     "metadata": {},
     "output_type": "execute_result"
    }
   ],
   "source": [
    "len(subs_orig)"
   ]
  },
  {
   "cell_type": "code",
   "execution_count": 7,
   "metadata": {},
   "outputs": [
    {
     "data": {
      "text/plain": [
       "pandas._libs.tslibs.timestamps.Timestamp"
      ]
     },
     "execution_count": 7,
     "metadata": {},
     "output_type": "execute_result"
    }
   ],
   "source": [
    "type(subs_orig['SubmissionStatusDate'][0])"
   ]
  },
  {
   "cell_type": "code",
   "execution_count": 8,
   "metadata": {},
   "outputs": [],
   "source": [
    "date_start = '2010-01-01'\n",
    "date_end = '2019-12-31'\n",
    "\n",
    "mask = (subs_orig['SubmissionStatusDate'] >= date_start) & (subs_orig['SubmissionStatusDate'] <= date_end)"
   ]
  },
  {
   "cell_type": "code",
   "execution_count": 9,
   "metadata": {},
   "outputs": [
    {
     "data": {
      "text/html": [
       "<div>\n",
       "<style scoped>\n",
       "    .dataframe tbody tr th:only-of-type {\n",
       "        vertical-align: middle;\n",
       "    }\n",
       "\n",
       "    .dataframe tbody tr th {\n",
       "        vertical-align: top;\n",
       "    }\n",
       "\n",
       "    .dataframe thead th {\n",
       "        text-align: right;\n",
       "    }\n",
       "</style>\n",
       "<table border=\"1\" class=\"dataframe\">\n",
       "  <thead>\n",
       "    <tr style=\"text-align: right;\">\n",
       "      <th></th>\n",
       "      <th>ApplNo</th>\n",
       "      <th>SubmissionClassCodeID</th>\n",
       "      <th>SubmissionType</th>\n",
       "      <th>SubmissionNo</th>\n",
       "      <th>SubmissionStatus</th>\n",
       "      <th>SubmissionStatusDate</th>\n",
       "      <th>SubmissionsPublicNotes</th>\n",
       "      <th>ReviewPriority</th>\n",
       "    </tr>\n",
       "  </thead>\n",
       "  <tbody>\n",
       "    <tr>\n",
       "      <th>44128</th>\n",
       "      <td>19962</td>\n",
       "      <td>9.0</td>\n",
       "      <td>ORIG</td>\n",
       "      <td>41</td>\n",
       "      <td>AP</td>\n",
       "      <td>2010-03-19</td>\n",
       "      <td>NaN</td>\n",
       "      <td>STANDARD</td>\n",
       "    </tr>\n",
       "    <tr>\n",
       "      <th>46250</th>\n",
       "      <td>20167</td>\n",
       "      <td>19.0</td>\n",
       "      <td>ORIG</td>\n",
       "      <td>1</td>\n",
       "      <td>AP</td>\n",
       "      <td>2014-12-19</td>\n",
       "      <td>NaN</td>\n",
       "      <td>UNKNOWN</td>\n",
       "    </tr>\n",
       "    <tr>\n",
       "      <th>53240</th>\n",
       "      <td>20772</td>\n",
       "      <td>7.0</td>\n",
       "      <td>ORIG</td>\n",
       "      <td>11</td>\n",
       "      <td>AP</td>\n",
       "      <td>2010-12-09</td>\n",
       "      <td>NaN</td>\n",
       "      <td>PRIORITY</td>\n",
       "    </tr>\n",
       "    <tr>\n",
       "      <th>57942</th>\n",
       "      <td>21201</td>\n",
       "      <td>7.0</td>\n",
       "      <td>ORIG</td>\n",
       "      <td>1</td>\n",
       "      <td>AP</td>\n",
       "      <td>2010-03-30</td>\n",
       "      <td>NaN</td>\n",
       "      <td>STANDARD</td>\n",
       "    </tr>\n",
       "    <tr>\n",
       "      <th>58065</th>\n",
       "      <td>21217</td>\n",
       "      <td>12.0</td>\n",
       "      <td>ORIG</td>\n",
       "      <td>1</td>\n",
       "      <td>AP</td>\n",
       "      <td>2010-03-01</td>\n",
       "      <td>NaN</td>\n",
       "      <td>STANDARD</td>\n",
       "    </tr>\n",
       "  </tbody>\n",
       "</table>\n",
       "</div>"
      ],
      "text/plain": [
       "       ApplNo  SubmissionClassCodeID SubmissionType  SubmissionNo  \\\n",
       "44128   19962                    9.0           ORIG            41   \n",
       "46250   20167                   19.0           ORIG             1   \n",
       "53240   20772                    7.0           ORIG            11   \n",
       "57942   21201                    7.0           ORIG             1   \n",
       "58065   21217                   12.0           ORIG             1   \n",
       "\n",
       "      SubmissionStatus SubmissionStatusDate SubmissionsPublicNotes  \\\n",
       "44128               AP           2010-03-19                    NaN   \n",
       "46250               AP           2014-12-19                    NaN   \n",
       "53240               AP           2010-12-09                    NaN   \n",
       "57942               AP           2010-03-30                    NaN   \n",
       "58065               AP           2010-03-01                    NaN   \n",
       "\n",
       "      ReviewPriority  \n",
       "44128       STANDARD  \n",
       "46250        UNKNOWN  \n",
       "53240       PRIORITY  \n",
       "57942       STANDARD  \n",
       "58065       STANDARD  "
      ]
     },
     "execution_count": 9,
     "metadata": {},
     "output_type": "execute_result"
    }
   ],
   "source": [
    "subs_2010s = subs_orig.loc[mask]\n",
    "subs_2010s.head()"
   ]
  },
  {
   "cell_type": "code",
   "execution_count": 10,
   "metadata": {},
   "outputs": [
    {
     "data": {
      "text/plain": [
       "7841"
      ]
     },
     "execution_count": 10,
     "metadata": {},
     "output_type": "execute_result"
    }
   ],
   "source": [
    "len(subs_2010s)"
   ]
  },
  {
   "cell_type": "code",
   "execution_count": 11,
   "metadata": {},
   "outputs": [
    {
     "data": {
      "text/plain": [
       "array(['AP', 'TA'], dtype=object)"
      ]
     },
     "execution_count": 11,
     "metadata": {},
     "output_type": "execute_result"
    }
   ],
   "source": [
    "subs_2010s.SubmissionStatus.unique()"
   ]
  },
  {
   "cell_type": "code",
   "execution_count": 12,
   "metadata": {},
   "outputs": [
    {
     "data": {
      "text/plain": [
       "7719"
      ]
     },
     "execution_count": 12,
     "metadata": {},
     "output_type": "execute_result"
    }
   ],
   "source": [
    "subs_2010s.ApplNo.nunique()"
   ]
  },
  {
   "cell_type": "code",
   "execution_count": 13,
   "metadata": {},
   "outputs": [],
   "source": [
    "# several application numbers are still listed more than once \n",
    "# probably for different SubmissionClassCodeID"
   ]
  },
  {
   "cell_type": "code",
   "execution_count": 14,
   "metadata": {},
   "outputs": [
    {
     "data": {
      "text/plain": [
       "699"
      ]
     },
     "execution_count": 14,
     "metadata": {},
     "output_type": "execute_result"
    }
   ],
   "source": [
    "subs_2010s_TA = subs_2010s['SubmissionStatus'] == 'TA'\n",
    "len(subs_2010s[subs_2010s_TA])"
   ]
  },
  {
   "cell_type": "code",
   "execution_count": 15,
   "metadata": {},
   "outputs": [
    {
     "data": {
      "text/plain": [
       "Timestamp('2010-01-04 00:00:00')"
      ]
     },
     "execution_count": 15,
     "metadata": {},
     "output_type": "execute_result"
    }
   ],
   "source": [
    "subs_2010s.SubmissionStatusDate.min()"
   ]
  },
  {
   "cell_type": "code",
   "execution_count": 16,
   "metadata": {},
   "outputs": [
    {
     "data": {
      "text/plain": [
       "Timestamp('2019-12-30 00:00:00')"
      ]
     },
     "execution_count": 16,
     "metadata": {},
     "output_type": "execute_result"
    }
   ],
   "source": [
    "subs_2010s.SubmissionStatusDate.max()"
   ]
  },
  {
   "cell_type": "code",
   "execution_count": 17,
   "metadata": {},
   "outputs": [
    {
     "data": {
      "text/plain": [
       "125"
      ]
     },
     "execution_count": 17,
     "metadata": {},
     "output_type": "execute_result"
    }
   ],
   "source": [
    "nonfirst = subs_2010s['SubmissionNo'] > 1\n",
    "len(subs_2010s[nonfirst])"
   ]
  },
  {
   "cell_type": "code",
   "execution_count": 18,
   "metadata": {},
   "outputs": [],
   "source": [
    "# just the non-first submission nos do not account for the difference in unique ApplNo"
   ]
  },
  {
   "cell_type": "code",
   "execution_count": 19,
   "metadata": {},
   "outputs": [
    {
     "data": {
      "text/plain": [
       "SubmissionType  SubmissionStatus\n",
       "ORIG            AP                  7142\n",
       "                TA                   699\n",
       "dtype: int64"
      ]
     },
     "execution_count": 19,
     "metadata": {},
     "output_type": "execute_result"
    }
   ],
   "source": [
    "subs_2010s_counts = subs_2010s.groupby(['SubmissionType', 'SubmissionStatus']).size()\n",
    "subs_2010s_counts"
   ]
  },
  {
   "cell_type": "code",
   "execution_count": 25,
   "metadata": {},
   "outputs": [
    {
     "data": {
      "text/html": [
       "<div>\n",
       "<style scoped>\n",
       "    .dataframe tbody tr th:only-of-type {\n",
       "        vertical-align: middle;\n",
       "    }\n",
       "\n",
       "    .dataframe tbody tr th {\n",
       "        vertical-align: top;\n",
       "    }\n",
       "\n",
       "    .dataframe thead th {\n",
       "        text-align: right;\n",
       "    }\n",
       "</style>\n",
       "<table border=\"1\" class=\"dataframe\">\n",
       "  <thead>\n",
       "    <tr style=\"text-align: right;\">\n",
       "      <th></th>\n",
       "      <th>ApplNo</th>\n",
       "      <th>SubmissionClassCodeID</th>\n",
       "      <th>SubmissionType</th>\n",
       "      <th>SubmissionNo</th>\n",
       "      <th>SubmissionStatus</th>\n",
       "      <th>SubmissionStatusDate</th>\n",
       "      <th>SubmissionsPublicNotes</th>\n",
       "      <th>ReviewPriority</th>\n",
       "    </tr>\n",
       "  </thead>\n",
       "  <tbody>\n",
       "    <tr>\n",
       "      <th>53240</th>\n",
       "      <td>20772</td>\n",
       "      <td>7.0</td>\n",
       "      <td>ORIG</td>\n",
       "      <td>11</td>\n",
       "      <td>AP</td>\n",
       "      <td>2010-12-09</td>\n",
       "      <td>NaN</td>\n",
       "      <td>PRIORITY</td>\n",
       "    </tr>\n",
       "    <tr>\n",
       "      <th>57942</th>\n",
       "      <td>21201</td>\n",
       "      <td>7.0</td>\n",
       "      <td>ORIG</td>\n",
       "      <td>1</td>\n",
       "      <td>AP</td>\n",
       "      <td>2010-03-30</td>\n",
       "      <td>NaN</td>\n",
       "      <td>STANDARD</td>\n",
       "    </tr>\n",
       "    <tr>\n",
       "      <th>62194</th>\n",
       "      <td>21746</td>\n",
       "      <td>7.0</td>\n",
       "      <td>ORIG</td>\n",
       "      <td>1</td>\n",
       "      <td>AP</td>\n",
       "      <td>2012-03-06</td>\n",
       "      <td>NaN</td>\n",
       "      <td>STANDARD</td>\n",
       "    </tr>\n",
       "    <tr>\n",
       "      <th>62685</th>\n",
       "      <td>21825</td>\n",
       "      <td>7.0</td>\n",
       "      <td>ORIG</td>\n",
       "      <td>1</td>\n",
       "      <td>AP</td>\n",
       "      <td>2011-10-14</td>\n",
       "      <td>NaN</td>\n",
       "      <td>STANDARD</td>\n",
       "    </tr>\n",
       "    <tr>\n",
       "      <th>63054</th>\n",
       "      <td>21883</td>\n",
       "      <td>7.0</td>\n",
       "      <td>ORIG</td>\n",
       "      <td>1</td>\n",
       "      <td>AP</td>\n",
       "      <td>2014-05-23</td>\n",
       "      <td>NaN</td>\n",
       "      <td>PRIORITY</td>\n",
       "    </tr>\n",
       "  </tbody>\n",
       "</table>\n",
       "</div>"
      ],
      "text/plain": [
       "       ApplNo  SubmissionClassCodeID SubmissionType  SubmissionNo  \\\n",
       "53240   20772                    7.0           ORIG            11   \n",
       "57942   21201                    7.0           ORIG             1   \n",
       "62194   21746                    7.0           ORIG             1   \n",
       "62685   21825                    7.0           ORIG             1   \n",
       "63054   21883                    7.0           ORIG             1   \n",
       "\n",
       "      SubmissionStatus SubmissionStatusDate SubmissionsPublicNotes  \\\n",
       "53240               AP           2010-12-09                    NaN   \n",
       "57942               AP           2010-03-30                    NaN   \n",
       "62194               AP           2012-03-06                    NaN   \n",
       "62685               AP           2011-10-14                    NaN   \n",
       "63054               AP           2014-05-23                    NaN   \n",
       "\n",
       "      ReviewPriority  \n",
       "53240       PRIORITY  \n",
       "57942       STANDARD  \n",
       "62194       STANDARD  \n",
       "62685       STANDARD  \n",
       "63054       PRIORITY  "
      ]
     },
     "execution_count": 25,
     "metadata": {},
     "output_type": "execute_result"
    }
   ],
   "source": [
    "# I want to narrow down to just New Molecular Entity or New Combination\n",
    "# Based on the lookup table, Type 1 (NME) ClassCodeID is 7\n",
    "# Type 1/4 (NME and new combination) ClassCodeID is 8 -- I will ignore these for now\n",
    "\n",
    "#mask2 = (subs_2010s['SubmissionClassCodeID'] == 7) | (subs_2010s['SubmissionClassCodeID'] == 8)\n",
    "mask2 = subs_2010s['SubmissionClassCodeID'] == 7\n",
    "subs_2010s_NME = subs_2010s.loc[mask2]\n",
    "subs_2010s_NME.head()"
   ]
  },
  {
   "cell_type": "code",
   "execution_count": 26,
   "metadata": {},
   "outputs": [
    {
     "data": {
      "text/plain": [
       "357"
      ]
     },
     "execution_count": 26,
     "metadata": {},
     "output_type": "execute_result"
    }
   ],
   "source": [
    "len(subs_2010s_NME)"
   ]
  },
  {
   "cell_type": "code",
   "execution_count": 27,
   "metadata": {},
   "outputs": [
    {
     "data": {
      "text/plain": [
       "357"
      ]
     },
     "execution_count": 27,
     "metadata": {},
     "output_type": "execute_result"
    }
   ],
   "source": [
    "subs_2010s_NME.ApplNo.nunique()"
   ]
  },
  {
   "cell_type": "code",
   "execution_count": 28,
   "metadata": {},
   "outputs": [
    {
     "data": {
      "text/plain": [
       "array(['PRIORITY', 'STANDARD'], dtype=object)"
      ]
     },
     "execution_count": 28,
     "metadata": {},
     "output_type": "execute_result"
    }
   ],
   "source": [
    "subs_2010s_NME.ReviewPriority.unique()"
   ]
  },
  {
   "cell_type": "code",
   "execution_count": 30,
   "metadata": {},
   "outputs": [
    {
     "data": {
      "image/png": "[encoded data removed]",
      "text/plain": [
       "<Figure size 450x450 with 1 Axes>"
      ]
     },
     "metadata": {
      "needs_background": "light"
     },
     "output_type": "display_data"
    }
   ],
   "source": [
    "palette={'PRIORITY':'red', 'STANDARD':'dodgerblue'}\n",
    "\n",
    "# I want to know the counts of drugs that were under priority vs. standard\n",
    "ax = plt.subplots(figsize=(1.5,1.5), dpi=300)\n",
    "ax = sns.countplot(x='ReviewPriority', data=subs_2010s_NME, palette=palette)\n",
    "ax.set_yticks([0,100,200,300])\n",
    "ax.tick_params(labelsize=10)\n",
    "ax.set_xlabel('')\n",
    "ax.set_ylabel('# of drugs')\n",
    "ax.set_xticklabels((['PRIORITY', 'standard']), rotation=90)\n",
    "sns.despine()\n",
    "plt.savefig('2010s_NME_Priorities.png', bbox_inches='tight')"
   ]
  },
  {
   "cell_type": "code",
   "execution_count": 84,
   "metadata": {},
   "outputs": [],
   "source": [
    "# FOLLOW UP QUESTIONS (these will require data from elsewhere)\n",
    "# how many of these drugs have patents?\n",
    "# how many of these drugs have \"trade secrets\" instead of patents?\n",
    "# need to talk to Samik more about this\n",
    "# when will these patents expire?\n",
    "# what diseases do these drugs treat?\n",
    "# how many people are affected by these diseases?\n",
    "# identify major therapeutic areas that have seen a lot of new drugs\n",
    "# e.g. cardiometabolic diseases (heart disease, hypertension, diabetes, fatty liver) \n",
    "# vs. cancer (huge field, I know)\n",
    "# vs. neurodegenerative diseases\n",
    "# vs. rare diseases, etc.\n",
    "# how much did these drugs cost (in the US, without insurance) the first year they were approved\n",
    "# how much do these drugs cost now (January 2020)?"
   ]
  },
  {
   "cell_type": "code",
   "execution_count": 85,
   "metadata": {},
   "outputs": [],
   "source": [
    "# Next step with the current data from Drugs@FDA\n",
    "# I'm focusing on drugs that were\n",
    "# (1) approved in 2010-2019\n",
    "# (2) New Molecular Entities (Type 1)\n",
    "# There are 357 unique ApplNos\n",
    "\n",
    "# Need to get\n",
    "\n",
    "# From \"Products\", columns:\n",
    "# Match by ApplNo\n",
    "# Form (e.g. injectable vs tablet vs other route of administration)\n",
    "# Reference Drug (these should all be 0 if we're working with NMEs, right?)\n",
    "# DrugName\n",
    "# ActiveIngredient\n",
    "\n",
    "# From \"Applications\", columns:\n",
    "# Match by ApplNo\n",
    "# ApplType\n",
    "# SponsorName\n",
    "\n"
   ]
  },
  {
   "cell_type": "code",
   "execution_count": 31,
   "metadata": {},
   "outputs": [
    {
     "data": {
      "text/html": [
       "<div>\n",
       "<style scoped>\n",
       "    .dataframe tbody tr th:only-of-type {\n",
       "        vertical-align: middle;\n",
       "    }\n",
       "\n",
       "    .dataframe tbody tr th {\n",
       "        vertical-align: top;\n",
       "    }\n",
       "\n",
       "    .dataframe thead th {\n",
       "        text-align: right;\n",
       "    }\n",
       "</style>\n",
       "<table border=\"1\" class=\"dataframe\">\n",
       "  <thead>\n",
       "    <tr style=\"text-align: right;\">\n",
       "      <th></th>\n",
       "      <th>ApplNo</th>\n",
       "      <th>ApplType</th>\n",
       "      <th>ApplPublicNotes</th>\n",
       "      <th>SponsorName</th>\n",
       "    </tr>\n",
       "  </thead>\n",
       "  <tbody>\n",
       "    <tr>\n",
       "      <th>0</th>\n",
       "      <td>4</td>\n",
       "      <td>NDA</td>\n",
       "      <td>NaN</td>\n",
       "      <td>PHARMICS</td>\n",
       "    </tr>\n",
       "    <tr>\n",
       "      <th>1</th>\n",
       "      <td>159</td>\n",
       "      <td>NDA</td>\n",
       "      <td>NaN</td>\n",
       "      <td>LILLY</td>\n",
       "    </tr>\n",
       "    <tr>\n",
       "      <th>2</th>\n",
       "      <td>552</td>\n",
       "      <td>NDA</td>\n",
       "      <td>NaN</td>\n",
       "      <td>ORGANON USA INC</td>\n",
       "    </tr>\n",
       "    <tr>\n",
       "      <th>3</th>\n",
       "      <td>734</td>\n",
       "      <td>NDA</td>\n",
       "      <td>NaN</td>\n",
       "      <td>LILLY</td>\n",
       "    </tr>\n",
       "    <tr>\n",
       "      <th>4</th>\n",
       "      <td>793</td>\n",
       "      <td>NDA</td>\n",
       "      <td>NaN</td>\n",
       "      <td>MYLAN SPECIALITY LP</td>\n",
       "    </tr>\n",
       "  </tbody>\n",
       "</table>\n",
       "</div>"
      ],
      "text/plain": [
       "   ApplNo ApplType  ApplPublicNotes          SponsorName\n",
       "0       4      NDA              NaN             PHARMICS\n",
       "1     159      NDA              NaN                LILLY\n",
       "2     552      NDA              NaN      ORGANON USA INC\n",
       "3     734      NDA              NaN                LILLY\n",
       "4     793      NDA              NaN  MYLAN SPECIALITY LP"
      ]
     },
     "execution_count": 31,
     "metadata": {},
     "output_type": "execute_result"
    }
   ],
   "source": [
    "# Let's do the simpler stuff first\n",
    "# Get the ApplType and SponsorName from \"Applications\"\n",
    "\n",
    "apps = pd.read_excel('Applications.xlsx')\n",
    "apps.head()"
   ]
  },
  {
   "cell_type": "code",
   "execution_count": 32,
   "metadata": {},
   "outputs": [
    {
     "data": {
      "text/plain": [
       "23719"
      ]
     },
     "execution_count": 32,
     "metadata": {},
     "output_type": "execute_result"
    }
   ],
   "source": [
    "len(apps)"
   ]
  },
  {
   "cell_type": "code",
   "execution_count": 33,
   "metadata": {},
   "outputs": [
    {
     "data": {
      "text/plain": [
       "357"
      ]
     },
     "execution_count": 33,
     "metadata": {},
     "output_type": "execute_result"
    }
   ],
   "source": [
    "f1 = list(subs_2010s_NME['ApplNo'])\n",
    "len(f1)"
   ]
  },
  {
   "cell_type": "code",
   "execution_count": 34,
   "metadata": {},
   "outputs": [],
   "source": [
    "mask3 = apps.ApplNo.isin(f1)"
   ]
  },
  {
   "cell_type": "code",
   "execution_count": 35,
   "metadata": {},
   "outputs": [],
   "source": [
    "apps_2010s = apps[mask3]"
   ]
  },
  {
   "cell_type": "code",
   "execution_count": 36,
   "metadata": {},
   "outputs": [
    {
     "data": {
      "text/html": [
       "<div>\n",
       "<style scoped>\n",
       "    .dataframe tbody tr th:only-of-type {\n",
       "        vertical-align: middle;\n",
       "    }\n",
       "\n",
       "    .dataframe tbody tr th {\n",
       "        vertical-align: top;\n",
       "    }\n",
       "\n",
       "    .dataframe thead th {\n",
       "        text-align: right;\n",
       "    }\n",
       "</style>\n",
       "<table border=\"1\" class=\"dataframe\">\n",
       "  <thead>\n",
       "    <tr style=\"text-align: right;\">\n",
       "      <th></th>\n",
       "      <th>ApplNo</th>\n",
       "      <th>ApplType</th>\n",
       "      <th>ApplPublicNotes</th>\n",
       "      <th>SponsorName</th>\n",
       "    </tr>\n",
       "  </thead>\n",
       "  <tbody>\n",
       "    <tr>\n",
       "      <th>2865</th>\n",
       "      <td>20772</td>\n",
       "      <td>NDA</td>\n",
       "      <td>NaN</td>\n",
       "      <td>QOL MEDCL</td>\n",
       "    </tr>\n",
       "    <tr>\n",
       "      <th>3160</th>\n",
       "      <td>21201</td>\n",
       "      <td>NDA</td>\n",
       "      <td>NaN</td>\n",
       "      <td>CHEMISCH FBRK KRSSLR</td>\n",
       "    </tr>\n",
       "    <tr>\n",
       "      <th>3528</th>\n",
       "      <td>21746</td>\n",
       "      <td>NDA</td>\n",
       "      <td>NaN</td>\n",
       "      <td>WINDTREE THERAP</td>\n",
       "    </tr>\n",
       "    <tr>\n",
       "      <th>3575</th>\n",
       "      <td>21825</td>\n",
       "      <td>NDA</td>\n",
       "      <td>NaN</td>\n",
       "      <td>APOPHARMA INC</td>\n",
       "    </tr>\n",
       "    <tr>\n",
       "      <th>3615</th>\n",
       "      <td>21883</td>\n",
       "      <td>NDA</td>\n",
       "      <td>NaN</td>\n",
       "      <td>ALLERGAN</td>\n",
       "    </tr>\n",
       "  </tbody>\n",
       "</table>\n",
       "</div>"
      ],
      "text/plain": [
       "      ApplNo ApplType  ApplPublicNotes           SponsorName\n",
       "2865   20772      NDA              NaN             QOL MEDCL\n",
       "3160   21201      NDA              NaN  CHEMISCH FBRK KRSSLR\n",
       "3528   21746      NDA              NaN       WINDTREE THERAP\n",
       "3575   21825      NDA              NaN         APOPHARMA INC\n",
       "3615   21883      NDA              NaN              ALLERGAN"
      ]
     },
     "execution_count": 36,
     "metadata": {},
     "output_type": "execute_result"
    }
   ],
   "source": [
    "apps_2010s.head()"
   ]
  },
  {
   "cell_type": "code",
   "execution_count": 37,
   "metadata": {},
   "outputs": [
    {
     "data": {
      "text/plain": [
       "357"
      ]
     },
     "execution_count": 37,
     "metadata": {},
     "output_type": "execute_result"
    }
   ],
   "source": [
    "len(apps_2010s)"
   ]
  },
  {
   "cell_type": "code",
   "execution_count": 38,
   "metadata": {},
   "outputs": [
    {
     "data": {
      "text/html": [
       "<div>\n",
       "<style scoped>\n",
       "    .dataframe tbody tr th:only-of-type {\n",
       "        vertical-align: middle;\n",
       "    }\n",
       "\n",
       "    .dataframe tbody tr th {\n",
       "        vertical-align: top;\n",
       "    }\n",
       "\n",
       "    .dataframe thead th {\n",
       "        text-align: right;\n",
       "    }\n",
       "</style>\n",
       "<table border=\"1\" class=\"dataframe\">\n",
       "  <thead>\n",
       "    <tr style=\"text-align: right;\">\n",
       "      <th></th>\n",
       "      <th>ApplNo</th>\n",
       "      <th>SubmissionClassCodeID</th>\n",
       "      <th>SubmissionType</th>\n",
       "      <th>SubmissionNo</th>\n",
       "      <th>SubmissionStatus</th>\n",
       "      <th>SubmissionStatusDate</th>\n",
       "      <th>SubmissionsPublicNotes</th>\n",
       "      <th>ReviewPriority</th>\n",
       "      <th>ApplType</th>\n",
       "      <th>ApplPublicNotes</th>\n",
       "      <th>SponsorName</th>\n",
       "    </tr>\n",
       "  </thead>\n",
       "  <tbody>\n",
       "    <tr>\n",
       "      <th>0</th>\n",
       "      <td>20772</td>\n",
       "      <td>7.0</td>\n",
       "      <td>ORIG</td>\n",
       "      <td>11</td>\n",
       "      <td>AP</td>\n",
       "      <td>2010-12-09</td>\n",
       "      <td>NaN</td>\n",
       "      <td>PRIORITY</td>\n",
       "      <td>NDA</td>\n",
       "      <td>NaN</td>\n",
       "      <td>QOL MEDCL</td>\n",
       "    </tr>\n",
       "    <tr>\n",
       "      <th>1</th>\n",
       "      <td>21201</td>\n",
       "      <td>7.0</td>\n",
       "      <td>ORIG</td>\n",
       "      <td>1</td>\n",
       "      <td>AP</td>\n",
       "      <td>2010-03-30</td>\n",
       "      <td>NaN</td>\n",
       "      <td>STANDARD</td>\n",
       "      <td>NDA</td>\n",
       "      <td>NaN</td>\n",
       "      <td>CHEMISCH FBRK KRSSLR</td>\n",
       "    </tr>\n",
       "    <tr>\n",
       "      <th>2</th>\n",
       "      <td>21746</td>\n",
       "      <td>7.0</td>\n",
       "      <td>ORIG</td>\n",
       "      <td>1</td>\n",
       "      <td>AP</td>\n",
       "      <td>2012-03-06</td>\n",
       "      <td>NaN</td>\n",
       "      <td>STANDARD</td>\n",
       "      <td>NDA</td>\n",
       "      <td>NaN</td>\n",
       "      <td>WINDTREE THERAP</td>\n",
       "    </tr>\n",
       "    <tr>\n",
       "      <th>3</th>\n",
       "      <td>21825</td>\n",
       "      <td>7.0</td>\n",
       "      <td>ORIG</td>\n",
       "      <td>1</td>\n",
       "      <td>AP</td>\n",
       "      <td>2011-10-14</td>\n",
       "      <td>NaN</td>\n",
       "      <td>STANDARD</td>\n",
       "      <td>NDA</td>\n",
       "      <td>NaN</td>\n",
       "      <td>APOPHARMA INC</td>\n",
       "    </tr>\n",
       "    <tr>\n",
       "      <th>4</th>\n",
       "      <td>21883</td>\n",
       "      <td>7.0</td>\n",
       "      <td>ORIG</td>\n",
       "      <td>1</td>\n",
       "      <td>AP</td>\n",
       "      <td>2014-05-23</td>\n",
       "      <td>NaN</td>\n",
       "      <td>PRIORITY</td>\n",
       "      <td>NDA</td>\n",
       "      <td>NaN</td>\n",
       "      <td>ALLERGAN</td>\n",
       "    </tr>\n",
       "  </tbody>\n",
       "</table>\n",
       "</div>"
      ],
      "text/plain": [
       "   ApplNo  SubmissionClassCodeID SubmissionType  SubmissionNo  \\\n",
       "0   20772                    7.0           ORIG            11   \n",
       "1   21201                    7.0           ORIG             1   \n",
       "2   21746                    7.0           ORIG             1   \n",
       "3   21825                    7.0           ORIG             1   \n",
       "4   21883                    7.0           ORIG             1   \n",
       "\n",
       "  SubmissionStatus SubmissionStatusDate SubmissionsPublicNotes ReviewPriority  \\\n",
       "0               AP           2010-12-09                    NaN       PRIORITY   \n",
       "1               AP           2010-03-30                    NaN       STANDARD   \n",
       "2               AP           2012-03-06                    NaN       STANDARD   \n",
       "3               AP           2011-10-14                    NaN       STANDARD   \n",
       "4               AP           2014-05-23                    NaN       PRIORITY   \n",
       "\n",
       "  ApplType  ApplPublicNotes           SponsorName  \n",
       "0      NDA              NaN             QOL MEDCL  \n",
       "1      NDA              NaN  CHEMISCH FBRK KRSSLR  \n",
       "2      NDA              NaN       WINDTREE THERAP  \n",
       "3      NDA              NaN         APOPHARMA INC  \n",
       "4      NDA              NaN              ALLERGAN  "
      ]
     },
     "execution_count": 38,
     "metadata": {},
     "output_type": "execute_result"
    }
   ],
   "source": [
    "merge1 = pd.merge(subs_2010s_NME, apps_2010s, on='ApplNo')\n",
    "merge1.head()"
   ]
  },
  {
   "cell_type": "code",
   "execution_count": 39,
   "metadata": {},
   "outputs": [
    {
     "data": {
      "text/plain": [
       "0     NaN\n",
       "1     NaN\n",
       "2     NaN\n",
       "3     NaN\n",
       "4     NaN\n",
       "       ..\n",
       "352   NaN\n",
       "353   NaN\n",
       "354   NaN\n",
       "355   NaN\n",
       "356   NaN\n",
       "Name: ApplPublicNotes, Length: 357, dtype: float64"
      ]
     },
     "execution_count": 39,
     "metadata": {},
     "output_type": "execute_result"
    }
   ],
   "source": [
    "merge1.pop('SubmissionsPublicNotes')\n",
    "merge1.pop('ApplPublicNotes')"
   ]
  },
  {
   "cell_type": "code",
   "execution_count": 40,
   "metadata": {},
   "outputs": [
    {
     "data": {
      "text/plain": [
       "(357, 9)"
      ]
     },
     "execution_count": 40,
     "metadata": {},
     "output_type": "execute_result"
    }
   ],
   "source": [
    "merge1.shape"
   ]
  },
  {
   "cell_type": "code",
   "execution_count": 41,
   "metadata": {},
   "outputs": [
    {
     "data": {
      "text/html": [
       "<div>\n",
       "<style scoped>\n",
       "    .dataframe tbody tr th:only-of-type {\n",
       "        vertical-align: middle;\n",
       "    }\n",
       "\n",
       "    .dataframe tbody tr th {\n",
       "        vertical-align: top;\n",
       "    }\n",
       "\n",
       "    .dataframe thead th {\n",
       "        text-align: right;\n",
       "    }\n",
       "</style>\n",
       "<table border=\"1\" class=\"dataframe\">\n",
       "  <thead>\n",
       "    <tr style=\"text-align: right;\">\n",
       "      <th></th>\n",
       "      <th>ApplNo</th>\n",
       "      <th>SubmissionClassCodeID</th>\n",
       "      <th>SubmissionType</th>\n",
       "      <th>SubmissionNo</th>\n",
       "      <th>SubmissionStatus</th>\n",
       "      <th>SubmissionStatusDate</th>\n",
       "      <th>ReviewPriority</th>\n",
       "      <th>ApplType</th>\n",
       "      <th>SponsorName</th>\n",
       "    </tr>\n",
       "  </thead>\n",
       "  <tbody>\n",
       "    <tr>\n",
       "      <th>0</th>\n",
       "      <td>20772</td>\n",
       "      <td>7.0</td>\n",
       "      <td>ORIG</td>\n",
       "      <td>11</td>\n",
       "      <td>AP</td>\n",
       "      <td>2010-12-09</td>\n",
       "      <td>PRIORITY</td>\n",
       "      <td>NDA</td>\n",
       "      <td>QOL MEDCL</td>\n",
       "    </tr>\n",
       "    <tr>\n",
       "      <th>1</th>\n",
       "      <td>21201</td>\n",
       "      <td>7.0</td>\n",
       "      <td>ORIG</td>\n",
       "      <td>1</td>\n",
       "      <td>AP</td>\n",
       "      <td>2010-03-30</td>\n",
       "      <td>STANDARD</td>\n",
       "      <td>NDA</td>\n",
       "      <td>CHEMISCH FBRK KRSSLR</td>\n",
       "    </tr>\n",
       "    <tr>\n",
       "      <th>2</th>\n",
       "      <td>21746</td>\n",
       "      <td>7.0</td>\n",
       "      <td>ORIG</td>\n",
       "      <td>1</td>\n",
       "      <td>AP</td>\n",
       "      <td>2012-03-06</td>\n",
       "      <td>STANDARD</td>\n",
       "      <td>NDA</td>\n",
       "      <td>WINDTREE THERAP</td>\n",
       "    </tr>\n",
       "    <tr>\n",
       "      <th>3</th>\n",
       "      <td>21825</td>\n",
       "      <td>7.0</td>\n",
       "      <td>ORIG</td>\n",
       "      <td>1</td>\n",
       "      <td>AP</td>\n",
       "      <td>2011-10-14</td>\n",
       "      <td>STANDARD</td>\n",
       "      <td>NDA</td>\n",
       "      <td>APOPHARMA INC</td>\n",
       "    </tr>\n",
       "    <tr>\n",
       "      <th>4</th>\n",
       "      <td>21883</td>\n",
       "      <td>7.0</td>\n",
       "      <td>ORIG</td>\n",
       "      <td>1</td>\n",
       "      <td>AP</td>\n",
       "      <td>2014-05-23</td>\n",
       "      <td>PRIORITY</td>\n",
       "      <td>NDA</td>\n",
       "      <td>ALLERGAN</td>\n",
       "    </tr>\n",
       "  </tbody>\n",
       "</table>\n",
       "</div>"
      ],
      "text/plain": [
       "   ApplNo  SubmissionClassCodeID SubmissionType  SubmissionNo  \\\n",
       "0   20772                    7.0           ORIG            11   \n",
       "1   21201                    7.0           ORIG             1   \n",
       "2   21746                    7.0           ORIG             1   \n",
       "3   21825                    7.0           ORIG             1   \n",
       "4   21883                    7.0           ORIG             1   \n",
       "\n",
       "  SubmissionStatus SubmissionStatusDate ReviewPriority ApplType  \\\n",
       "0               AP           2010-12-09       PRIORITY      NDA   \n",
       "1               AP           2010-03-30       STANDARD      NDA   \n",
       "2               AP           2012-03-06       STANDARD      NDA   \n",
       "3               AP           2011-10-14       STANDARD      NDA   \n",
       "4               AP           2014-05-23       PRIORITY      NDA   \n",
       "\n",
       "            SponsorName  \n",
       "0             QOL MEDCL  \n",
       "1  CHEMISCH FBRK KRSSLR  \n",
       "2       WINDTREE THERAP  \n",
       "3         APOPHARMA INC  \n",
       "4              ALLERGAN  "
      ]
     },
     "execution_count": 41,
     "metadata": {},
     "output_type": "execute_result"
    }
   ],
   "source": [
    "merge1.head()"
   ]
  },
  {
   "cell_type": "code",
   "execution_count": 42,
   "metadata": {},
   "outputs": [
    {
     "data": {
      "text/plain": [
       "220"
      ]
     },
     "execution_count": 42,
     "metadata": {},
     "output_type": "execute_result"
    }
   ],
   "source": [
    "merge1.SponsorName.nunique()"
   ]
  },
  {
   "cell_type": "code",
   "execution_count": 43,
   "metadata": {},
   "outputs": [
    {
     "data": {
      "text/plain": [
       "array(['NDA', 'BLA'], dtype=object)"
      ]
     },
     "execution_count": 43,
     "metadata": {},
     "output_type": "execute_result"
    }
   ],
   "source": [
    "merge1.ApplType.unique()"
   ]
  },
  {
   "cell_type": "code",
   "execution_count": 45,
   "metadata": {},
   "outputs": [
    {
     "data": {
      "image/png": "[encoded data removed]",
      "text/plain": [
       "<Figure size 450x450 with 1 Axes>"
      ]
     },
     "metadata": {
      "needs_background": "light"
     },
     "output_type": "display_data"
    }
   ],
   "source": [
    "ax = plt.subplots(figsize=(1.5,1.5), dpi=300)\n",
    "ax = sns.countplot(x='ApplType', data=merge1)\n",
    "ax.set_yticks([0,100,200,300])\n",
    "ax.tick_params(labelsize=8)\n",
    "ax.set_xlabel('')\n",
    "ax.set_ylabel('# of drugs', fontsize=8)\n",
    "sns.despine()\n",
    "\n",
    "#plt.legend(bbox_to_anchor=(1.05, 1), loc=2, borderaxespad=0, fontsize=6)\n",
    "plt.savefig('2010s_Codes7_NDAvBLA.png', bbox_inches='tight')"
   ]
  },
  {
   "cell_type": "code",
   "execution_count": 46,
   "metadata": {},
   "outputs": [
    {
     "data": {
      "text/html": [
       "<div>\n",
       "<style scoped>\n",
       "    .dataframe tbody tr th:only-of-type {\n",
       "        vertical-align: middle;\n",
       "    }\n",
       "\n",
       "    .dataframe tbody tr th {\n",
       "        vertical-align: top;\n",
       "    }\n",
       "\n",
       "    .dataframe thead th {\n",
       "        text-align: right;\n",
       "    }\n",
       "</style>\n",
       "<table border=\"1\" class=\"dataframe\">\n",
       "  <thead>\n",
       "    <tr style=\"text-align: right;\">\n",
       "      <th></th>\n",
       "      <th>ApplNo</th>\n",
       "    </tr>\n",
       "    <tr>\n",
       "      <th>SponsorName</th>\n",
       "      <th></th>\n",
       "    </tr>\n",
       "  </thead>\n",
       "  <tbody>\n",
       "    <tr>\n",
       "      <th>AAA USA INC</th>\n",
       "      <td>2</td>\n",
       "    </tr>\n",
       "    <tr>\n",
       "      <th>ABBVIE INC</th>\n",
       "      <td>4</td>\n",
       "    </tr>\n",
       "    <tr>\n",
       "      <th>ABLYNX NV</th>\n",
       "      <td>1</td>\n",
       "    </tr>\n",
       "    <tr>\n",
       "      <th>ACADIA PHARMS INC</th>\n",
       "      <td>1</td>\n",
       "    </tr>\n",
       "    <tr>\n",
       "      <th>ACORDA</th>\n",
       "      <td>1</td>\n",
       "    </tr>\n",
       "  </tbody>\n",
       "</table>\n",
       "</div>"
      ],
      "text/plain": [
       "                   ApplNo\n",
       "SponsorName              \n",
       "AAA USA INC             2\n",
       "ABBVIE INC              4\n",
       "ABLYNX NV               1\n",
       "ACADIA PHARMS INC       1\n",
       "ACORDA                  1"
      ]
     },
     "execution_count": 46,
     "metadata": {},
     "output_type": "execute_result"
    }
   ],
   "source": [
    "# the problem with the different sponsor name\n",
    "# is that some of them merge together overtime\n",
    "# so I'm not sure how to account for those\n",
    "# would need to look at each company and see if they're a subsidiary or later on they merge with a larger company\n",
    "\n",
    "# in the meantime, let's just group by sponsor name (imperfect, I know)\n",
    "# and list anyone whose count is 2 or more\n",
    "\n",
    "companies = merge1.groupby('SponsorName').count()[['ApplNo']]\n",
    "companies.head()"
   ]
  },
  {
   "cell_type": "code",
   "execution_count": 47,
   "metadata": {},
   "outputs": [
    {
     "data": {
      "text/html": [
       "<div>\n",
       "<style scoped>\n",
       "    .dataframe tbody tr th:only-of-type {\n",
       "        vertical-align: middle;\n",
       "    }\n",
       "\n",
       "    .dataframe tbody tr th {\n",
       "        vertical-align: top;\n",
       "    }\n",
       "\n",
       "    .dataframe thead th {\n",
       "        text-align: right;\n",
       "    }\n",
       "</style>\n",
       "<table border=\"1\" class=\"dataframe\">\n",
       "  <thead>\n",
       "    <tr style=\"text-align: right;\">\n",
       "      <th></th>\n",
       "      <th>ApplNo</th>\n",
       "    </tr>\n",
       "    <tr>\n",
       "      <th>SponsorName</th>\n",
       "      <th></th>\n",
       "    </tr>\n",
       "  </thead>\n",
       "  <tbody>\n",
       "    <tr>\n",
       "      <th>NOVARTIS</th>\n",
       "      <td>11</td>\n",
       "    </tr>\n",
       "    <tr>\n",
       "      <th>ELI LILLY AND CO</th>\n",
       "      <td>8</td>\n",
       "    </tr>\n",
       "    <tr>\n",
       "      <th>GENENTECH INC</th>\n",
       "      <td>7</td>\n",
       "    </tr>\n",
       "    <tr>\n",
       "      <th>BOEHRINGER INGELHEIM</th>\n",
       "      <td>7</td>\n",
       "    </tr>\n",
       "    <tr>\n",
       "      <th>ALLERGAN</th>\n",
       "      <td>7</td>\n",
       "    </tr>\n",
       "    <tr>\n",
       "      <th>...</th>\n",
       "      <td>...</td>\n",
       "    </tr>\n",
       "    <tr>\n",
       "      <th>GLOBAL BLOOD THERAPS</th>\n",
       "      <td>1</td>\n",
       "    </tr>\n",
       "    <tr>\n",
       "      <th>GUERBET</th>\n",
       "      <td>1</td>\n",
       "    </tr>\n",
       "    <tr>\n",
       "      <th>GW RES LTD</th>\n",
       "      <td>1</td>\n",
       "    </tr>\n",
       "    <tr>\n",
       "      <th>HARMONY</th>\n",
       "      <td>1</td>\n",
       "    </tr>\n",
       "    <tr>\n",
       "      <th>WYETH PHARMS INC</th>\n",
       "      <td>1</td>\n",
       "    </tr>\n",
       "  </tbody>\n",
       "</table>\n",
       "<p>220 rows × 1 columns</p>\n",
       "</div>"
      ],
      "text/plain": [
       "                      ApplNo\n",
       "SponsorName                 \n",
       "NOVARTIS                  11\n",
       "ELI LILLY AND CO           8\n",
       "GENENTECH INC              7\n",
       "BOEHRINGER INGELHEIM       7\n",
       "ALLERGAN                   7\n",
       "...                      ...\n",
       "GLOBAL BLOOD THERAPS       1\n",
       "GUERBET                    1\n",
       "GW RES LTD                 1\n",
       "HARMONY                    1\n",
       "WYETH PHARMS INC           1\n",
       "\n",
       "[220 rows x 1 columns]"
      ]
     },
     "execution_count": 47,
     "metadata": {},
     "output_type": "execute_result"
    }
   ],
   "source": [
    "companies.sort_values(by='ApplNo', ascending=False)"
   ]
  },
  {
   "cell_type": "code",
   "execution_count": 48,
   "metadata": {},
   "outputs": [
    {
     "data": {
      "text/html": [
       "<div>\n",
       "<style scoped>\n",
       "    .dataframe tbody tr th:only-of-type {\n",
       "        vertical-align: middle;\n",
       "    }\n",
       "\n",
       "    .dataframe tbody tr th {\n",
       "        vertical-align: top;\n",
       "    }\n",
       "\n",
       "    .dataframe thead th {\n",
       "        text-align: right;\n",
       "    }\n",
       "</style>\n",
       "<table border=\"1\" class=\"dataframe\">\n",
       "  <thead>\n",
       "    <tr style=\"text-align: right;\">\n",
       "      <th></th>\n",
       "      <th>ApplNo</th>\n",
       "    </tr>\n",
       "    <tr>\n",
       "      <th>SponsorName</th>\n",
       "      <th></th>\n",
       "    </tr>\n",
       "  </thead>\n",
       "  <tbody>\n",
       "    <tr>\n",
       "      <th>AAA USA INC</th>\n",
       "      <td>2</td>\n",
       "    </tr>\n",
       "    <tr>\n",
       "      <th>ABBVIE INC</th>\n",
       "      <td>4</td>\n",
       "    </tr>\n",
       "    <tr>\n",
       "      <th>ACTELION PHARMS LTD</th>\n",
       "      <td>2</td>\n",
       "    </tr>\n",
       "    <tr>\n",
       "      <th>AEGERION</th>\n",
       "      <td>2</td>\n",
       "    </tr>\n",
       "    <tr>\n",
       "      <th>ALEXION PHARM</th>\n",
       "      <td>3</td>\n",
       "    </tr>\n",
       "  </tbody>\n",
       "</table>\n",
       "</div>"
      ],
      "text/plain": [
       "                     ApplNo\n",
       "SponsorName                \n",
       "AAA USA INC               2\n",
       "ABBVIE INC                4\n",
       "ACTELION PHARMS LTD       2\n",
       "AEGERION                  2\n",
       "ALEXION PHARM             3"
      ]
     },
     "execution_count": 48,
     "metadata": {},
     "output_type": "execute_result"
    }
   ],
   "source": [
    "companies_2 = companies[companies['ApplNo']>1]\n",
    "companies_2.head()"
   ]
  },
  {
   "cell_type": "code",
   "execution_count": 49,
   "metadata": {},
   "outputs": [
    {
     "data": {
      "text/plain": [
       "59"
      ]
     },
     "execution_count": 49,
     "metadata": {},
     "output_type": "execute_result"
    }
   ],
   "source": [
    "len(companies_2)"
   ]
  },
  {
   "cell_type": "code",
   "execution_count": 50,
   "metadata": {},
   "outputs": [
    {
     "data": {
      "text/html": [
       "<div>\n",
       "<style scoped>\n",
       "    .dataframe tbody tr th:only-of-type {\n",
       "        vertical-align: middle;\n",
       "    }\n",
       "\n",
       "    .dataframe tbody tr th {\n",
       "        vertical-align: top;\n",
       "    }\n",
       "\n",
       "    .dataframe thead th {\n",
       "        text-align: right;\n",
       "    }\n",
       "</style>\n",
       "<table border=\"1\" class=\"dataframe\">\n",
       "  <thead>\n",
       "    <tr style=\"text-align: right;\">\n",
       "      <th></th>\n",
       "      <th>ApplNo</th>\n",
       "    </tr>\n",
       "    <tr>\n",
       "      <th>SponsorName</th>\n",
       "      <th></th>\n",
       "    </tr>\n",
       "  </thead>\n",
       "  <tbody>\n",
       "    <tr>\n",
       "      <th>NOVARTIS</th>\n",
       "      <td>11</td>\n",
       "    </tr>\n",
       "    <tr>\n",
       "      <th>ELI LILLY AND CO</th>\n",
       "      <td>8</td>\n",
       "    </tr>\n",
       "    <tr>\n",
       "      <th>BOEHRINGER INGELHEIM</th>\n",
       "      <td>7</td>\n",
       "    </tr>\n",
       "    <tr>\n",
       "      <th>GENENTECH INC</th>\n",
       "      <td>7</td>\n",
       "    </tr>\n",
       "    <tr>\n",
       "      <th>ALLERGAN</th>\n",
       "      <td>7</td>\n",
       "    </tr>\n",
       "    <tr>\n",
       "      <th>ASTRAZENECA PHARMS</th>\n",
       "      <td>6</td>\n",
       "    </tr>\n",
       "    <tr>\n",
       "      <th>JANSSEN BIOTECH</th>\n",
       "      <td>6</td>\n",
       "    </tr>\n",
       "    <tr>\n",
       "      <th>GENENTECH</th>\n",
       "      <td>6</td>\n",
       "    </tr>\n",
       "    <tr>\n",
       "      <th>EISAI INC</th>\n",
       "      <td>5</td>\n",
       "    </tr>\n",
       "    <tr>\n",
       "      <th>BRISTOL MYERS SQUIBB</th>\n",
       "      <td>5</td>\n",
       "    </tr>\n",
       "    <tr>\n",
       "      <th>BAYER HLTHCARE</th>\n",
       "      <td>5</td>\n",
       "    </tr>\n",
       "    <tr>\n",
       "      <th>MERCK SHARP DOHME</th>\n",
       "      <td>5</td>\n",
       "    </tr>\n",
       "    <tr>\n",
       "      <th>ASTELLAS</th>\n",
       "      <td>4</td>\n",
       "    </tr>\n",
       "    <tr>\n",
       "      <th>PFIZER INC</th>\n",
       "      <td>4</td>\n",
       "    </tr>\n",
       "    <tr>\n",
       "      <th>NOVARTIS PHARMS CORP</th>\n",
       "      <td>4</td>\n",
       "    </tr>\n",
       "    <tr>\n",
       "      <th>ABBVIE INC</th>\n",
       "      <td>4</td>\n",
       "    </tr>\n",
       "    <tr>\n",
       "      <th>PF PRISM CV</th>\n",
       "      <td>4</td>\n",
       "    </tr>\n",
       "    <tr>\n",
       "      <th>TAKEDA PHARMS USA</th>\n",
       "      <td>4</td>\n",
       "    </tr>\n",
       "    <tr>\n",
       "      <th>AMGEN INC</th>\n",
       "      <td>4</td>\n",
       "    </tr>\n",
       "    <tr>\n",
       "      <th>JANSSEN PRODS</th>\n",
       "      <td>3</td>\n",
       "    </tr>\n",
       "  </tbody>\n",
       "</table>\n",
       "</div>"
      ],
      "text/plain": [
       "                      ApplNo\n",
       "SponsorName                 \n",
       "NOVARTIS                  11\n",
       "ELI LILLY AND CO           8\n",
       "BOEHRINGER INGELHEIM       7\n",
       "GENENTECH INC              7\n",
       "ALLERGAN                   7\n",
       "ASTRAZENECA PHARMS         6\n",
       "JANSSEN BIOTECH            6\n",
       "GENENTECH                  6\n",
       "EISAI INC                  5\n",
       "BRISTOL MYERS SQUIBB       5\n",
       "BAYER HLTHCARE             5\n",
       "MERCK SHARP DOHME          5\n",
       "ASTELLAS                   4\n",
       "PFIZER INC                 4\n",
       "NOVARTIS PHARMS CORP       4\n",
       "ABBVIE INC                 4\n",
       "PF PRISM CV                4\n",
       "TAKEDA PHARMS USA          4\n",
       "AMGEN INC                  4\n",
       "JANSSEN PRODS              3"
      ]
     },
     "execution_count": 50,
     "metadata": {},
     "output_type": "execute_result"
    }
   ],
   "source": [
    "companies_2 = companies_2.sort_values(by='ApplNo', ascending=False)\n",
    "companies_2.head(20)"
   ]
  },
  {
   "cell_type": "code",
   "execution_count": null,
   "metadata": {},
   "outputs": [],
   "source": []
  },
  {
   "cell_type": "code",
   "execution_count": 122,
   "metadata": {},
   "outputs": [],
   "source": [
    "# notice how there's NOVARTIS and NOVARTIS PHARMS CORP\n",
    "# maybe the way I can get around this\n",
    "# and maybe i can collapse them?\n",
    "# I also need to figure out how to deal with companies that are separate in an older year but are merged later"
   ]
  },
  {
   "cell_type": "code",
   "execution_count": 51,
   "metadata": {},
   "outputs": [
    {
     "data": {
      "text/plain": [
       "19"
      ]
     },
     "execution_count": 51,
     "metadata": {},
     "output_type": "execute_result"
    }
   ],
   "source": [
    "sum(companies_2['ApplNo']>3)"
   ]
  },
  {
   "cell_type": "code",
   "execution_count": 52,
   "metadata": {},
   "outputs": [
    {
     "data": {
      "text/plain": [
       "(29, 2)"
      ]
     },
     "execution_count": 52,
     "metadata": {},
     "output_type": "execute_result"
    }
   ],
   "source": [
    "# in the 2010s, 21 companies had 4 or more NMEs approved\n",
    "companies_3 = companies[companies['ApplNo']>=3].reset_index()\n",
    "companies_3.shape"
   ]
  },
  {
   "cell_type": "code",
   "execution_count": 53,
   "metadata": {},
   "outputs": [
    {
     "data": {
      "text/html": [
       "<div>\n",
       "<style scoped>\n",
       "    .dataframe tbody tr th:only-of-type {\n",
       "        vertical-align: middle;\n",
       "    }\n",
       "\n",
       "    .dataframe tbody tr th {\n",
       "        vertical-align: top;\n",
       "    }\n",
       "\n",
       "    .dataframe thead th {\n",
       "        text-align: right;\n",
       "    }\n",
       "</style>\n",
       "<table border=\"1\" class=\"dataframe\">\n",
       "  <thead>\n",
       "    <tr style=\"text-align: right;\">\n",
       "      <th></th>\n",
       "      <th>SponsorName</th>\n",
       "      <th>ApplNo</th>\n",
       "    </tr>\n",
       "  </thead>\n",
       "  <tbody>\n",
       "    <tr>\n",
       "      <th>0</th>\n",
       "      <td>ABBVIE INC</td>\n",
       "      <td>4</td>\n",
       "    </tr>\n",
       "    <tr>\n",
       "      <th>1</th>\n",
       "      <td>ALEXION PHARM</td>\n",
       "      <td>3</td>\n",
       "    </tr>\n",
       "    <tr>\n",
       "      <th>2</th>\n",
       "      <td>ALLERGAN</td>\n",
       "      <td>7</td>\n",
       "    </tr>\n",
       "    <tr>\n",
       "      <th>3</th>\n",
       "      <td>AMGEN INC</td>\n",
       "      <td>4</td>\n",
       "    </tr>\n",
       "    <tr>\n",
       "      <th>4</th>\n",
       "      <td>ASTELLAS</td>\n",
       "      <td>4</td>\n",
       "    </tr>\n",
       "  </tbody>\n",
       "</table>\n",
       "</div>"
      ],
      "text/plain": [
       "     SponsorName  ApplNo\n",
       "0     ABBVIE INC       4\n",
       "1  ALEXION PHARM       3\n",
       "2       ALLERGAN       7\n",
       "3      AMGEN INC       4\n",
       "4       ASTELLAS       4"
      ]
     },
     "execution_count": 53,
     "metadata": {},
     "output_type": "execute_result"
    }
   ],
   "source": [
    "companies_3.head()"
   ]
  },
  {
   "cell_type": "code",
   "execution_count": 54,
   "metadata": {},
   "outputs": [
    {
     "data": {
      "text/plain": [
       "29"
      ]
     },
     "execution_count": 54,
     "metadata": {},
     "output_type": "execute_result"
    }
   ],
   "source": [
    "# this is imperfect since I haven't collapsed the companies that might be duplicates yet,\n",
    "# but still, this is ok for a first pass\n",
    "# let's call these super productive companies\n",
    "\n",
    "companies_super = list(companies_3['SponsorName'])\n",
    "len(companies_super)"
   ]
  },
  {
   "cell_type": "code",
   "execution_count": 55,
   "metadata": {},
   "outputs": [
    {
     "name": "stdout",
     "output_type": "stream",
     "text": [
      "['ABBVIE INC', 'ALEXION PHARM', 'ALLERGAN', 'AMGEN INC', 'ASTELLAS', 'ASTRAZENECA AB', 'ASTRAZENECA PHARMS', 'BAYER HEALTHCARE', 'BAYER HLTHCARE', 'BIOMARIN PHARM', 'BOEHRINGER INGELHEIM', 'BRISTOL MYERS SQUIBB', 'EISAI INC', 'ELI LILLY AND CO', 'GENENTECH', 'GENENTECH INC', 'JANSSEN BIOTECH', 'JANSSEN PRODS', 'MERCK SHARP DOHME', 'NOVARTIS', 'NOVARTIS PHARMS CORP', 'NOVO', 'PF PRISM CV', 'PFIZER INC', 'REGENERON PHARMACEUTICALS', 'SANOFI AVENTIS US', 'SUNOVION PHARMS INC', 'TAKEDA PHARMS USA', 'VERTEX PHARMS INC']\n"
     ]
    }
   ],
   "source": [
    "print(companies_super)"
   ]
  },
  {
   "cell_type": "code",
   "execution_count": 130,
   "metadata": {},
   "outputs": [],
   "source": [
    "# follow-up questions to these super productive companies\n",
    "# how big are they (employee size)\n",
    "# could you figure out how big (employee size) their R&D budget and/or staff are?\n",
    "# what was their stock price on the 1st day of 2010\n",
    "# what was their stock price on the last day of 2019\n",
    "# it's probably not trivial to figure out how much they spend on marketing/advertising the drugs\n",
    "# the company profits and CEO pay is public, though\n",
    "# what about the board of directors?\n",
    "# people fuss about the CEO a lot, but isn't the CEO appointed by the board?\n",
    "# wouldn't we also want to know about the board members?"
   ]
  },
  {
   "cell_type": "code",
   "execution_count": 59,
   "metadata": {},
   "outputs": [
    {
     "data": {
      "text/html": [
       "<div>\n",
       "<style scoped>\n",
       "    .dataframe tbody tr th:only-of-type {\n",
       "        vertical-align: middle;\n",
       "    }\n",
       "\n",
       "    .dataframe tbody tr th {\n",
       "        vertical-align: top;\n",
       "    }\n",
       "\n",
       "    .dataframe thead th {\n",
       "        text-align: right;\n",
       "    }\n",
       "</style>\n",
       "<table border=\"1\" class=\"dataframe\">\n",
       "  <thead>\n",
       "    <tr style=\"text-align: right;\">\n",
       "      <th></th>\n",
       "      <th>ApplNo</th>\n",
       "      <th>ProductNo</th>\n",
       "      <th>Form</th>\n",
       "      <th>Strength</th>\n",
       "      <th>ReferenceDrug</th>\n",
       "      <th>DrugName</th>\n",
       "      <th>ActiveIngredient</th>\n",
       "      <th>ReferenceStandard</th>\n",
       "    </tr>\n",
       "  </thead>\n",
       "  <tbody>\n",
       "    <tr>\n",
       "      <th>0</th>\n",
       "      <td>4</td>\n",
       "      <td>4</td>\n",
       "      <td>SOLUTION/DROPS;OPHTHALMIC</td>\n",
       "      <td>0.01</td>\n",
       "      <td>0</td>\n",
       "      <td>PAREDRINE</td>\n",
       "      <td>HYDROXYAMPHETAMINE HYDROBROMIDE</td>\n",
       "      <td>0.0</td>\n",
       "    </tr>\n",
       "    <tr>\n",
       "      <th>1</th>\n",
       "      <td>159</td>\n",
       "      <td>1</td>\n",
       "      <td>TABLET;ORAL</td>\n",
       "      <td>500MG</td>\n",
       "      <td>0</td>\n",
       "      <td>SULFAPYRIDINE</td>\n",
       "      <td>SULFAPYRIDINE</td>\n",
       "      <td>0.0</td>\n",
       "    </tr>\n",
       "    <tr>\n",
       "      <th>2</th>\n",
       "      <td>552</td>\n",
       "      <td>1</td>\n",
       "      <td>INJECTABLE;INJECTION</td>\n",
       "      <td>20,000 UNITS/ML</td>\n",
       "      <td>0</td>\n",
       "      <td>LIQUAEMIN SODIUM</td>\n",
       "      <td>HEPARIN SODIUM</td>\n",
       "      <td>0.0</td>\n",
       "    </tr>\n",
       "    <tr>\n",
       "      <th>3</th>\n",
       "      <td>552</td>\n",
       "      <td>2</td>\n",
       "      <td>INJECTABLE;INJECTION</td>\n",
       "      <td>40,000 UNITS/ML</td>\n",
       "      <td>0</td>\n",
       "      <td>LIQUAEMIN SODIUM</td>\n",
       "      <td>HEPARIN SODIUM</td>\n",
       "      <td>0.0</td>\n",
       "    </tr>\n",
       "    <tr>\n",
       "      <th>4</th>\n",
       "      <td>552</td>\n",
       "      <td>3</td>\n",
       "      <td>INJECTABLE;INJECTION</td>\n",
       "      <td>5,000 UNITS/ML</td>\n",
       "      <td>0</td>\n",
       "      <td>LIQUAEMIN SODIUM</td>\n",
       "      <td>HEPARIN SODIUM</td>\n",
       "      <td>0.0</td>\n",
       "    </tr>\n",
       "  </tbody>\n",
       "</table>\n",
       "</div>"
      ],
      "text/plain": [
       "   ApplNo  ProductNo                       Form         Strength  \\\n",
       "0       4          4  SOLUTION/DROPS;OPHTHALMIC             0.01   \n",
       "1     159          1                TABLET;ORAL            500MG   \n",
       "2     552          1       INJECTABLE;INJECTION  20,000 UNITS/ML   \n",
       "3     552          2       INJECTABLE;INJECTION  40,000 UNITS/ML   \n",
       "4     552          3       INJECTABLE;INJECTION   5,000 UNITS/ML   \n",
       "\n",
       "   ReferenceDrug          DrugName                 ActiveIngredient  \\\n",
       "0              0         PAREDRINE  HYDROXYAMPHETAMINE HYDROBROMIDE   \n",
       "1              0     SULFAPYRIDINE                    SULFAPYRIDINE   \n",
       "2              0  LIQUAEMIN SODIUM                   HEPARIN SODIUM   \n",
       "3              0  LIQUAEMIN SODIUM                   HEPARIN SODIUM   \n",
       "4              0  LIQUAEMIN SODIUM                   HEPARIN SODIUM   \n",
       "\n",
       "   ReferenceStandard  \n",
       "0                0.0  \n",
       "1                0.0  \n",
       "2                0.0  \n",
       "3                0.0  \n",
       "4                0.0  "
      ]
     },
     "execution_count": 59,
     "metadata": {},
     "output_type": "execute_result"
    }
   ],
   "source": [
    "# ok let's do a first pass on the Products now\n",
    "# we want drugs that were\n",
    "# approved between 2010 and 2019\n",
    "# NMEs\n",
    "# made by one of the super productive companies\n",
    "\n",
    "prods = pd.read_excel('Products.xlsx')\n",
    "prods.head()"
   ]
  },
  {
   "cell_type": "code",
   "execution_count": 60,
   "metadata": {},
   "outputs": [
    {
     "data": {
      "text/html": [
       "<div>\n",
       "<style scoped>\n",
       "    .dataframe tbody tr th:only-of-type {\n",
       "        vertical-align: middle;\n",
       "    }\n",
       "\n",
       "    .dataframe tbody tr th {\n",
       "        vertical-align: top;\n",
       "    }\n",
       "\n",
       "    .dataframe thead th {\n",
       "        text-align: right;\n",
       "    }\n",
       "</style>\n",
       "<table border=\"1\" class=\"dataframe\">\n",
       "  <thead>\n",
       "    <tr style=\"text-align: right;\">\n",
       "      <th></th>\n",
       "      <th>ApplNo</th>\n",
       "      <th>SubmissionClassCodeID</th>\n",
       "      <th>SubmissionType</th>\n",
       "      <th>SubmissionNo</th>\n",
       "      <th>SubmissionStatus</th>\n",
       "      <th>SubmissionStatusDate</th>\n",
       "      <th>ReviewPriority</th>\n",
       "      <th>ApplType</th>\n",
       "      <th>SponsorName</th>\n",
       "    </tr>\n",
       "  </thead>\n",
       "  <tbody>\n",
       "    <tr>\n",
       "      <th>4</th>\n",
       "      <td>21883</td>\n",
       "      <td>7.0</td>\n",
       "      <td>ORIG</td>\n",
       "      <td>1</td>\n",
       "      <td>AP</td>\n",
       "      <td>2014-05-23</td>\n",
       "      <td>PRIORITY</td>\n",
       "      <td>NDA</td>\n",
       "      <td>ALLERGAN</td>\n",
       "    </tr>\n",
       "    <tr>\n",
       "      <th>6</th>\n",
       "      <td>22134</td>\n",
       "      <td>7.0</td>\n",
       "      <td>ORIG</td>\n",
       "      <td>1</td>\n",
       "      <td>AP</td>\n",
       "      <td>2010-07-28</td>\n",
       "      <td>STANDARD</td>\n",
       "      <td>NDA</td>\n",
       "      <td>ALLERGAN</td>\n",
       "    </tr>\n",
       "    <tr>\n",
       "      <th>10</th>\n",
       "      <td>22271</td>\n",
       "      <td>7.0</td>\n",
       "      <td>ORIG</td>\n",
       "      <td>1</td>\n",
       "      <td>AP</td>\n",
       "      <td>2013-01-25</td>\n",
       "      <td>STANDARD</td>\n",
       "      <td>NDA</td>\n",
       "      <td>TAKEDA PHARMS USA</td>\n",
       "    </tr>\n",
       "    <tr>\n",
       "      <th>13</th>\n",
       "      <td>22383</td>\n",
       "      <td>7.0</td>\n",
       "      <td>ORIG</td>\n",
       "      <td>1</td>\n",
       "      <td>AP</td>\n",
       "      <td>2011-07-01</td>\n",
       "      <td>STANDARD</td>\n",
       "      <td>NDA</td>\n",
       "      <td>SUNOVION PHARMS INC</td>\n",
       "    </tr>\n",
       "    <tr>\n",
       "      <th>18</th>\n",
       "      <td>22416</td>\n",
       "      <td>7.0</td>\n",
       "      <td>ORIG</td>\n",
       "      <td>1</td>\n",
       "      <td>AP</td>\n",
       "      <td>2013-11-08</td>\n",
       "      <td>STANDARD</td>\n",
       "      <td>NDA</td>\n",
       "      <td>SUNOVION PHARMS INC</td>\n",
       "    </tr>\n",
       "  </tbody>\n",
       "</table>\n",
       "</div>"
      ],
      "text/plain": [
       "    ApplNo  SubmissionClassCodeID SubmissionType  SubmissionNo  \\\n",
       "4    21883                    7.0           ORIG             1   \n",
       "6    22134                    7.0           ORIG             1   \n",
       "10   22271                    7.0           ORIG             1   \n",
       "13   22383                    7.0           ORIG             1   \n",
       "18   22416                    7.0           ORIG             1   \n",
       "\n",
       "   SubmissionStatus SubmissionStatusDate ReviewPriority ApplType  \\\n",
       "4                AP           2014-05-23       PRIORITY      NDA   \n",
       "6                AP           2010-07-28       STANDARD      NDA   \n",
       "10               AP           2013-01-25       STANDARD      NDA   \n",
       "13               AP           2011-07-01       STANDARD      NDA   \n",
       "18               AP           2013-11-08       STANDARD      NDA   \n",
       "\n",
       "            SponsorName  \n",
       "4              ALLERGAN  \n",
       "6              ALLERGAN  \n",
       "10    TAKEDA PHARMS USA  \n",
       "13  SUNOVION PHARMS INC  \n",
       "18  SUNOVION PHARMS INC  "
      ]
     },
     "execution_count": 60,
     "metadata": {},
     "output_type": "execute_result"
    }
   ],
   "source": [
    "# I realize I need to make another table\n",
    "# from merge1, narrow down the table so that it only has drugs from the super productive companies\n",
    "\n",
    "mask4 = merge1.SponsorName.isin(companies_super)\n",
    "\n",
    "merge2 = merge1.loc[mask4]\n",
    "merge2.head()"
   ]
  },
  {
   "cell_type": "code",
   "execution_count": 61,
   "metadata": {},
   "outputs": [
    {
     "data": {
      "text/plain": [
       "136"
      ]
     },
     "execution_count": 61,
     "metadata": {},
     "output_type": "execute_result"
    }
   ],
   "source": [
    "len(merge2)"
   ]
  },
  {
   "cell_type": "code",
   "execution_count": 62,
   "metadata": {},
   "outputs": [
    {
     "data": {
      "text/plain": [
       "29"
      ]
     },
     "execution_count": 62,
     "metadata": {},
     "output_type": "execute_result"
    }
   ],
   "source": [
    "merge2.SponsorName.nunique() #sanity check"
   ]
  },
  {
   "cell_type": "code",
   "execution_count": 63,
   "metadata": {},
   "outputs": [
    {
     "data": {
      "text/plain": [
       "136"
      ]
     },
     "execution_count": 63,
     "metadata": {},
     "output_type": "execute_result"
    }
   ],
   "source": [
    "f2 = list(merge2['ApplNo'])\n",
    "len(f2)"
   ]
  },
  {
   "cell_type": "code",
   "execution_count": 136,
   "metadata": {},
   "outputs": [],
   "source": [
    "# I just realized that the super companies, as their names imply\n",
    "# account for a major chunk (160/386) of NMEs approved\n",
    "# while all other small companies \n",
    "# would be interesting to see if the smaller companies were acquired by one of the bigger ones later on"
   ]
  },
  {
   "cell_type": "code",
   "execution_count": 64,
   "metadata": {},
   "outputs": [
    {
     "data": {
      "text/html": [
       "<div>\n",
       "<style scoped>\n",
       "    .dataframe tbody tr th:only-of-type {\n",
       "        vertical-align: middle;\n",
       "    }\n",
       "\n",
       "    .dataframe tbody tr th {\n",
       "        vertical-align: top;\n",
       "    }\n",
       "\n",
       "    .dataframe thead th {\n",
       "        text-align: right;\n",
       "    }\n",
       "</style>\n",
       "<table border=\"1\" class=\"dataframe\">\n",
       "  <thead>\n",
       "    <tr style=\"text-align: right;\">\n",
       "      <th></th>\n",
       "      <th>ApplNo</th>\n",
       "      <th>ProductNo</th>\n",
       "      <th>Form</th>\n",
       "      <th>Strength</th>\n",
       "      <th>ReferenceDrug</th>\n",
       "      <th>DrugName</th>\n",
       "      <th>ActiveIngredient</th>\n",
       "      <th>ReferenceStandard</th>\n",
       "    </tr>\n",
       "  </thead>\n",
       "  <tbody>\n",
       "    <tr>\n",
       "      <th>7100</th>\n",
       "      <td>21883</td>\n",
       "      <td>1</td>\n",
       "      <td>POWDER;INTRAVENOUS</td>\n",
       "      <td>EQ 500MG BASE/VIAL</td>\n",
       "      <td>1</td>\n",
       "      <td>DALVANCE</td>\n",
       "      <td>DALBAVANCIN HYDROCHLORIDE</td>\n",
       "      <td>1.0</td>\n",
       "    </tr>\n",
       "    <tr>\n",
       "      <th>7423</th>\n",
       "      <td>22134</td>\n",
       "      <td>1</td>\n",
       "      <td>SOLUTION/DROPS;OPHTHALMIC</td>\n",
       "      <td>0.0025</td>\n",
       "      <td>1</td>\n",
       "      <td>LASTACAFT</td>\n",
       "      <td>ALCAFTADINE</td>\n",
       "      <td>1.0</td>\n",
       "    </tr>\n",
       "    <tr>\n",
       "      <th>7576</th>\n",
       "      <td>22271</td>\n",
       "      <td>1</td>\n",
       "      <td>TABLET;ORAL</td>\n",
       "      <td>EQ 6.25MG BASE</td>\n",
       "      <td>1</td>\n",
       "      <td>NESINA</td>\n",
       "      <td>ALOGLIPTIN BENZOATE</td>\n",
       "      <td>0.0</td>\n",
       "    </tr>\n",
       "    <tr>\n",
       "      <th>7577</th>\n",
       "      <td>22271</td>\n",
       "      <td>2</td>\n",
       "      <td>TABLET;ORAL</td>\n",
       "      <td>EQ 12.5MG BASE</td>\n",
       "      <td>1</td>\n",
       "      <td>NESINA</td>\n",
       "      <td>ALOGLIPTIN BENZOATE</td>\n",
       "      <td>0.0</td>\n",
       "    </tr>\n",
       "    <tr>\n",
       "      <th>7578</th>\n",
       "      <td>22271</td>\n",
       "      <td>3</td>\n",
       "      <td>TABLET;ORAL</td>\n",
       "      <td>EQ 25MG BASE</td>\n",
       "      <td>1</td>\n",
       "      <td>NESINA</td>\n",
       "      <td>ALOGLIPTIN BENZOATE</td>\n",
       "      <td>1.0</td>\n",
       "    </tr>\n",
       "  </tbody>\n",
       "</table>\n",
       "</div>"
      ],
      "text/plain": [
       "      ApplNo  ProductNo                       Form            Strength  \\\n",
       "7100   21883          1         POWDER;INTRAVENOUS  EQ 500MG BASE/VIAL   \n",
       "7423   22134          1  SOLUTION/DROPS;OPHTHALMIC              0.0025   \n",
       "7576   22271          1                TABLET;ORAL      EQ 6.25MG BASE   \n",
       "7577   22271          2                TABLET;ORAL      EQ 12.5MG BASE   \n",
       "7578   22271          3                TABLET;ORAL        EQ 25MG BASE   \n",
       "\n",
       "      ReferenceDrug   DrugName           ActiveIngredient  ReferenceStandard  \n",
       "7100              1   DALVANCE  DALBAVANCIN HYDROCHLORIDE                1.0  \n",
       "7423              1  LASTACAFT                ALCAFTADINE                1.0  \n",
       "7576              1     NESINA        ALOGLIPTIN BENZOATE                0.0  \n",
       "7577              1     NESINA        ALOGLIPTIN BENZOATE                0.0  \n",
       "7578              1     NESINA        ALOGLIPTIN BENZOATE                1.0  "
      ]
     },
     "execution_count": 64,
     "metadata": {},
     "output_type": "execute_result"
    }
   ],
   "source": [
    "mask5 = prods.ApplNo.isin(f2)\n",
    "prods2 = prods.loc[mask5]\n",
    "prods2.head()"
   ]
  },
  {
   "cell_type": "code",
   "execution_count": 65,
   "metadata": {},
   "outputs": [
    {
     "data": {
      "text/plain": [
       "258"
      ]
     },
     "execution_count": 65,
     "metadata": {},
     "output_type": "execute_result"
    }
   ],
   "source": [
    "len(prods2)"
   ]
  },
  {
   "cell_type": "code",
   "execution_count": 66,
   "metadata": {},
   "outputs": [
    {
     "data": {
      "text/plain": [
       "136"
      ]
     },
     "execution_count": 66,
     "metadata": {},
     "output_type": "execute_result"
    }
   ],
   "source": [
    "prods2.ApplNo.nunique()"
   ]
  },
  {
   "cell_type": "code",
   "execution_count": 67,
   "metadata": {},
   "outputs": [
    {
     "data": {
      "text/plain": [
       "array([1, 2, 3, 4, 5, 6, 7, 8])"
      ]
     },
     "execution_count": 67,
     "metadata": {},
     "output_type": "execute_result"
    }
   ],
   "source": [
    "# there are 160 unique ApplNo, but there can be more than 1 ProductNo\n",
    "prods2.ProductNo.unique()"
   ]
  },
  {
   "cell_type": "code",
   "execution_count": 68,
   "metadata": {},
   "outputs": [
    {
     "data": {
      "text/plain": [
       "136"
      ]
     },
     "execution_count": 68,
     "metadata": {},
     "output_type": "execute_result"
    }
   ],
   "source": [
    "# the different products refer to different strengths/doses of the drug\n",
    "prods2.DrugName.nunique() #another sanity check"
   ]
  },
  {
   "cell_type": "code",
   "execution_count": 69,
   "metadata": {},
   "outputs": [
    {
     "data": {
      "text/html": [
       "<div>\n",
       "<style scoped>\n",
       "    .dataframe tbody tr th:only-of-type {\n",
       "        vertical-align: middle;\n",
       "    }\n",
       "\n",
       "    .dataframe tbody tr th {\n",
       "        vertical-align: top;\n",
       "    }\n",
       "\n",
       "    .dataframe thead th {\n",
       "        text-align: right;\n",
       "    }\n",
       "</style>\n",
       "<table border=\"1\" class=\"dataframe\">\n",
       "  <thead>\n",
       "    <tr style=\"text-align: right;\">\n",
       "      <th></th>\n",
       "      <th>ApplNo</th>\n",
       "      <th>SubmissionClassCodeID</th>\n",
       "      <th>SubmissionType</th>\n",
       "      <th>SubmissionNo</th>\n",
       "      <th>SubmissionStatus</th>\n",
       "      <th>SubmissionStatusDate</th>\n",
       "      <th>ReviewPriority</th>\n",
       "      <th>ApplType</th>\n",
       "      <th>SponsorName</th>\n",
       "      <th>ProductNo</th>\n",
       "      <th>Form</th>\n",
       "      <th>Strength</th>\n",
       "      <th>ReferenceDrug</th>\n",
       "      <th>DrugName</th>\n",
       "      <th>ActiveIngredient</th>\n",
       "      <th>ReferenceStandard</th>\n",
       "    </tr>\n",
       "  </thead>\n",
       "  <tbody>\n",
       "    <tr>\n",
       "      <th>0</th>\n",
       "      <td>21883</td>\n",
       "      <td>7.0</td>\n",
       "      <td>ORIG</td>\n",
       "      <td>1</td>\n",
       "      <td>AP</td>\n",
       "      <td>2014-05-23</td>\n",
       "      <td>PRIORITY</td>\n",
       "      <td>NDA</td>\n",
       "      <td>ALLERGAN</td>\n",
       "      <td>1</td>\n",
       "      <td>POWDER;INTRAVENOUS</td>\n",
       "      <td>EQ 500MG BASE/VIAL</td>\n",
       "      <td>1</td>\n",
       "      <td>DALVANCE</td>\n",
       "      <td>DALBAVANCIN HYDROCHLORIDE</td>\n",
       "      <td>1.0</td>\n",
       "    </tr>\n",
       "    <tr>\n",
       "      <th>1</th>\n",
       "      <td>22134</td>\n",
       "      <td>7.0</td>\n",
       "      <td>ORIG</td>\n",
       "      <td>1</td>\n",
       "      <td>AP</td>\n",
       "      <td>2010-07-28</td>\n",
       "      <td>STANDARD</td>\n",
       "      <td>NDA</td>\n",
       "      <td>ALLERGAN</td>\n",
       "      <td>1</td>\n",
       "      <td>SOLUTION/DROPS;OPHTHALMIC</td>\n",
       "      <td>0.0025</td>\n",
       "      <td>1</td>\n",
       "      <td>LASTACAFT</td>\n",
       "      <td>ALCAFTADINE</td>\n",
       "      <td>1.0</td>\n",
       "    </tr>\n",
       "    <tr>\n",
       "      <th>2</th>\n",
       "      <td>22271</td>\n",
       "      <td>7.0</td>\n",
       "      <td>ORIG</td>\n",
       "      <td>1</td>\n",
       "      <td>AP</td>\n",
       "      <td>2013-01-25</td>\n",
       "      <td>STANDARD</td>\n",
       "      <td>NDA</td>\n",
       "      <td>TAKEDA PHARMS USA</td>\n",
       "      <td>1</td>\n",
       "      <td>TABLET;ORAL</td>\n",
       "      <td>EQ 6.25MG BASE</td>\n",
       "      <td>1</td>\n",
       "      <td>NESINA</td>\n",
       "      <td>ALOGLIPTIN BENZOATE</td>\n",
       "      <td>0.0</td>\n",
       "    </tr>\n",
       "    <tr>\n",
       "      <th>3</th>\n",
       "      <td>22271</td>\n",
       "      <td>7.0</td>\n",
       "      <td>ORIG</td>\n",
       "      <td>1</td>\n",
       "      <td>AP</td>\n",
       "      <td>2013-01-25</td>\n",
       "      <td>STANDARD</td>\n",
       "      <td>NDA</td>\n",
       "      <td>TAKEDA PHARMS USA</td>\n",
       "      <td>2</td>\n",
       "      <td>TABLET;ORAL</td>\n",
       "      <td>EQ 12.5MG BASE</td>\n",
       "      <td>1</td>\n",
       "      <td>NESINA</td>\n",
       "      <td>ALOGLIPTIN BENZOATE</td>\n",
       "      <td>0.0</td>\n",
       "    </tr>\n",
       "    <tr>\n",
       "      <th>4</th>\n",
       "      <td>22271</td>\n",
       "      <td>7.0</td>\n",
       "      <td>ORIG</td>\n",
       "      <td>1</td>\n",
       "      <td>AP</td>\n",
       "      <td>2013-01-25</td>\n",
       "      <td>STANDARD</td>\n",
       "      <td>NDA</td>\n",
       "      <td>TAKEDA PHARMS USA</td>\n",
       "      <td>3</td>\n",
       "      <td>TABLET;ORAL</td>\n",
       "      <td>EQ 25MG BASE</td>\n",
       "      <td>1</td>\n",
       "      <td>NESINA</td>\n",
       "      <td>ALOGLIPTIN BENZOATE</td>\n",
       "      <td>1.0</td>\n",
       "    </tr>\n",
       "  </tbody>\n",
       "</table>\n",
       "</div>"
      ],
      "text/plain": [
       "   ApplNo  SubmissionClassCodeID SubmissionType  SubmissionNo  \\\n",
       "0   21883                    7.0           ORIG             1   \n",
       "1   22134                    7.0           ORIG             1   \n",
       "2   22271                    7.0           ORIG             1   \n",
       "3   22271                    7.0           ORIG             1   \n",
       "4   22271                    7.0           ORIG             1   \n",
       "\n",
       "  SubmissionStatus SubmissionStatusDate ReviewPriority ApplType  \\\n",
       "0               AP           2014-05-23       PRIORITY      NDA   \n",
       "1               AP           2010-07-28       STANDARD      NDA   \n",
       "2               AP           2013-01-25       STANDARD      NDA   \n",
       "3               AP           2013-01-25       STANDARD      NDA   \n",
       "4               AP           2013-01-25       STANDARD      NDA   \n",
       "\n",
       "         SponsorName  ProductNo                       Form  \\\n",
       "0           ALLERGAN          1         POWDER;INTRAVENOUS   \n",
       "1           ALLERGAN          1  SOLUTION/DROPS;OPHTHALMIC   \n",
       "2  TAKEDA PHARMS USA          1                TABLET;ORAL   \n",
       "3  TAKEDA PHARMS USA          2                TABLET;ORAL   \n",
       "4  TAKEDA PHARMS USA          3                TABLET;ORAL   \n",
       "\n",
       "             Strength  ReferenceDrug   DrugName           ActiveIngredient  \\\n",
       "0  EQ 500MG BASE/VIAL              1   DALVANCE  DALBAVANCIN HYDROCHLORIDE   \n",
       "1              0.0025              1  LASTACAFT                ALCAFTADINE   \n",
       "2      EQ 6.25MG BASE              1     NESINA        ALOGLIPTIN BENZOATE   \n",
       "3      EQ 12.5MG BASE              1     NESINA        ALOGLIPTIN BENZOATE   \n",
       "4        EQ 25MG BASE              1     NESINA        ALOGLIPTIN BENZOATE   \n",
       "\n",
       "   ReferenceStandard  \n",
       "0                1.0  \n",
       "1                1.0  \n",
       "2                0.0  \n",
       "3                0.0  \n",
       "4                1.0  "
      ]
     },
     "execution_count": 69,
     "metadata": {},
     "output_type": "execute_result"
    }
   ],
   "source": [
    "# OK good\n",
    "# we can now make a merge3\n",
    "\n",
    "merge3 = pd.merge(merge2, prods2, on='ApplNo')\n",
    "merge3.head()"
   ]
  },
  {
   "cell_type": "code",
   "execution_count": 70,
   "metadata": {},
   "outputs": [
    {
     "data": {
      "text/plain": [
       "258"
      ]
     },
     "execution_count": 70,
     "metadata": {},
     "output_type": "execute_result"
    }
   ],
   "source": [
    "len(merge3)"
   ]
  },
  {
   "cell_type": "code",
   "execution_count": 71,
   "metadata": {},
   "outputs": [
    {
     "data": {
      "text/plain": [
       "(136, 16)"
      ]
     },
     "execution_count": 71,
     "metadata": {},
     "output_type": "execute_result"
    }
   ],
   "source": [
    "# whoops. I forgot to get rid of the duplicates.\n",
    "merge3 = merge3[merge3['ProductNo']==1]\n",
    "merge3.shape"
   ]
  },
  {
   "cell_type": "code",
   "execution_count": 72,
   "metadata": {},
   "outputs": [
    {
     "data": {
      "text/html": [
       "<div>\n",
       "<style scoped>\n",
       "    .dataframe tbody tr th:only-of-type {\n",
       "        vertical-align: middle;\n",
       "    }\n",
       "\n",
       "    .dataframe tbody tr th {\n",
       "        vertical-align: top;\n",
       "    }\n",
       "\n",
       "    .dataframe thead th {\n",
       "        text-align: right;\n",
       "    }\n",
       "</style>\n",
       "<table border=\"1\" class=\"dataframe\">\n",
       "  <thead>\n",
       "    <tr style=\"text-align: right;\">\n",
       "      <th></th>\n",
       "      <th>ApplNo</th>\n",
       "      <th>SubmissionClassCodeID</th>\n",
       "      <th>SubmissionType</th>\n",
       "      <th>SubmissionNo</th>\n",
       "      <th>SubmissionStatus</th>\n",
       "      <th>SubmissionStatusDate</th>\n",
       "      <th>ReviewPriority</th>\n",
       "      <th>ApplType</th>\n",
       "      <th>SponsorName</th>\n",
       "      <th>ProductNo</th>\n",
       "      <th>DrugName</th>\n",
       "      <th>ActiveIngredient</th>\n",
       "    </tr>\n",
       "  </thead>\n",
       "  <tbody>\n",
       "    <tr>\n",
       "      <th>0</th>\n",
       "      <td>21883</td>\n",
       "      <td>7.0</td>\n",
       "      <td>ORIG</td>\n",
       "      <td>1</td>\n",
       "      <td>AP</td>\n",
       "      <td>2014-05-23</td>\n",
       "      <td>PRIORITY</td>\n",
       "      <td>NDA</td>\n",
       "      <td>ALLERGAN</td>\n",
       "      <td>1</td>\n",
       "      <td>DALVANCE</td>\n",
       "      <td>DALBAVANCIN HYDROCHLORIDE</td>\n",
       "    </tr>\n",
       "    <tr>\n",
       "      <th>1</th>\n",
       "      <td>22134</td>\n",
       "      <td>7.0</td>\n",
       "      <td>ORIG</td>\n",
       "      <td>1</td>\n",
       "      <td>AP</td>\n",
       "      <td>2010-07-28</td>\n",
       "      <td>STANDARD</td>\n",
       "      <td>NDA</td>\n",
       "      <td>ALLERGAN</td>\n",
       "      <td>1</td>\n",
       "      <td>LASTACAFT</td>\n",
       "      <td>ALCAFTADINE</td>\n",
       "    </tr>\n",
       "    <tr>\n",
       "      <th>2</th>\n",
       "      <td>22271</td>\n",
       "      <td>7.0</td>\n",
       "      <td>ORIG</td>\n",
       "      <td>1</td>\n",
       "      <td>AP</td>\n",
       "      <td>2013-01-25</td>\n",
       "      <td>STANDARD</td>\n",
       "      <td>NDA</td>\n",
       "      <td>TAKEDA PHARMS USA</td>\n",
       "      <td>1</td>\n",
       "      <td>NESINA</td>\n",
       "      <td>ALOGLIPTIN BENZOATE</td>\n",
       "    </tr>\n",
       "    <tr>\n",
       "      <th>5</th>\n",
       "      <td>22383</td>\n",
       "      <td>7.0</td>\n",
       "      <td>ORIG</td>\n",
       "      <td>1</td>\n",
       "      <td>AP</td>\n",
       "      <td>2011-07-01</td>\n",
       "      <td>STANDARD</td>\n",
       "      <td>NDA</td>\n",
       "      <td>SUNOVION PHARMS INC</td>\n",
       "      <td>1</td>\n",
       "      <td>ARCAPTA NEOHALER</td>\n",
       "      <td>INDACATEROL MALEATE</td>\n",
       "    </tr>\n",
       "    <tr>\n",
       "      <th>6</th>\n",
       "      <td>22416</td>\n",
       "      <td>7.0</td>\n",
       "      <td>ORIG</td>\n",
       "      <td>1</td>\n",
       "      <td>AP</td>\n",
       "      <td>2013-11-08</td>\n",
       "      <td>STANDARD</td>\n",
       "      <td>NDA</td>\n",
       "      <td>SUNOVION PHARMS INC</td>\n",
       "      <td>1</td>\n",
       "      <td>APTIOM</td>\n",
       "      <td>ESLICARBAZEPINE ACETATE</td>\n",
       "    </tr>\n",
       "  </tbody>\n",
       "</table>\n",
       "</div>"
      ],
      "text/plain": [
       "   ApplNo  SubmissionClassCodeID SubmissionType  SubmissionNo  \\\n",
       "0   21883                    7.0           ORIG             1   \n",
       "1   22134                    7.0           ORIG             1   \n",
       "2   22271                    7.0           ORIG             1   \n",
       "5   22383                    7.0           ORIG             1   \n",
       "6   22416                    7.0           ORIG             1   \n",
       "\n",
       "  SubmissionStatus SubmissionStatusDate ReviewPriority ApplType  \\\n",
       "0               AP           2014-05-23       PRIORITY      NDA   \n",
       "1               AP           2010-07-28       STANDARD      NDA   \n",
       "2               AP           2013-01-25       STANDARD      NDA   \n",
       "5               AP           2011-07-01       STANDARD      NDA   \n",
       "6               AP           2013-11-08       STANDARD      NDA   \n",
       "\n",
       "           SponsorName  ProductNo          DrugName           ActiveIngredient  \n",
       "0             ALLERGAN          1          DALVANCE  DALBAVANCIN HYDROCHLORIDE  \n",
       "1             ALLERGAN          1         LASTACAFT                ALCAFTADINE  \n",
       "2    TAKEDA PHARMS USA          1            NESINA        ALOGLIPTIN BENZOATE  \n",
       "5  SUNOVION PHARMS INC          1  ARCAPTA NEOHALER        INDACATEROL MALEATE  \n",
       "6  SUNOVION PHARMS INC          1            APTIOM    ESLICARBAZEPINE ACETATE  "
      ]
     },
     "execution_count": 72,
     "metadata": {},
     "output_type": "execute_result"
    }
   ],
   "source": [
    "# right now, I don't care about the form, strength, reference drug\n",
    "merge3.pop('Form')\n",
    "merge3.pop('Strength')\n",
    "merge3.pop('ReferenceDrug')\n",
    "merge3.pop('ReferenceStandard')\n",
    "merge3.head()"
   ]
  },
  {
   "cell_type": "code",
   "execution_count": 73,
   "metadata": {},
   "outputs": [
    {
     "data": {
      "text/plain": [
       "array(['ORIG'], dtype=object)"
      ]
     },
     "execution_count": 73,
     "metadata": {},
     "output_type": "execute_result"
    }
   ],
   "source": [
    "merge3.SubmissionType.unique()"
   ]
  },
  {
   "cell_type": "code",
   "execution_count": 74,
   "metadata": {},
   "outputs": [
    {
     "data": {
      "text/plain": [
       "array([1, 2])"
      ]
     },
     "execution_count": 74,
     "metadata": {},
     "output_type": "execute_result"
    }
   ],
   "source": [
    "merge3.SubmissionNo.unique()"
   ]
  },
  {
   "cell_type": "code",
   "execution_count": 75,
   "metadata": {},
   "outputs": [
    {
     "data": {
      "text/plain": [
       "(136, 12)"
      ]
     },
     "execution_count": 75,
     "metadata": {},
     "output_type": "execute_result"
    }
   ],
   "source": [
    "merge3.shape"
   ]
  },
  {
   "cell_type": "code",
   "execution_count": 76,
   "metadata": {},
   "outputs": [
    {
     "data": {
      "text/html": [
       "<div>\n",
       "<style scoped>\n",
       "    .dataframe tbody tr th:only-of-type {\n",
       "        vertical-align: middle;\n",
       "    }\n",
       "\n",
       "    .dataframe tbody tr th {\n",
       "        vertical-align: top;\n",
       "    }\n",
       "\n",
       "    .dataframe thead th {\n",
       "        text-align: right;\n",
       "    }\n",
       "</style>\n",
       "<table border=\"1\" class=\"dataframe\">\n",
       "  <thead>\n",
       "    <tr style=\"text-align: right;\">\n",
       "      <th></th>\n",
       "      <th>ApplNo</th>\n",
       "    </tr>\n",
       "    <tr>\n",
       "      <th>SubmissionNo</th>\n",
       "      <th></th>\n",
       "    </tr>\n",
       "  </thead>\n",
       "  <tbody>\n",
       "    <tr>\n",
       "      <th>1</th>\n",
       "      <td>135</td>\n",
       "    </tr>\n",
       "    <tr>\n",
       "      <th>2</th>\n",
       "      <td>1</td>\n",
       "    </tr>\n",
       "  </tbody>\n",
       "</table>\n",
       "</div>"
      ],
      "text/plain": [
       "              ApplNo\n",
       "SubmissionNo        \n",
       "1                135\n",
       "2                  1"
      ]
     },
     "execution_count": 76,
     "metadata": {},
     "output_type": "execute_result"
    }
   ],
   "source": [
    "subno = merge3.groupby('SubmissionNo').count()[['ApplNo']]\n",
    "subno"
   ]
  },
  {
   "cell_type": "code",
   "execution_count": 77,
   "metadata": {},
   "outputs": [
    {
     "data": {
      "text/html": [
       "<div>\n",
       "<style scoped>\n",
       "    .dataframe tbody tr th:only-of-type {\n",
       "        vertical-align: middle;\n",
       "    }\n",
       "\n",
       "    .dataframe tbody tr th {\n",
       "        vertical-align: top;\n",
       "    }\n",
       "\n",
       "    .dataframe thead th {\n",
       "        text-align: right;\n",
       "    }\n",
       "</style>\n",
       "<table border=\"1\" class=\"dataframe\">\n",
       "  <thead>\n",
       "    <tr style=\"text-align: right;\">\n",
       "      <th></th>\n",
       "      <th>ApplNo</th>\n",
       "      <th>SubmissionClassCodeID</th>\n",
       "      <th>SubmissionType</th>\n",
       "      <th>SubmissionNo</th>\n",
       "      <th>SubmissionStatus</th>\n",
       "      <th>SubmissionStatusDate</th>\n",
       "      <th>ReviewPriority</th>\n",
       "      <th>ApplType</th>\n",
       "      <th>SponsorName</th>\n",
       "      <th>ProductNo</th>\n",
       "      <th>DrugName</th>\n",
       "      <th>ActiveIngredient</th>\n",
       "    </tr>\n",
       "  </thead>\n",
       "  <tbody>\n",
       "    <tr>\n",
       "      <th>172</th>\n",
       "      <td>207997</td>\n",
       "      <td>7.0</td>\n",
       "      <td>ORIG</td>\n",
       "      <td>2</td>\n",
       "      <td>AP</td>\n",
       "      <td>2017-04-28</td>\n",
       "      <td>PRIORITY</td>\n",
       "      <td>NDA</td>\n",
       "      <td>NOVARTIS</td>\n",
       "      <td>1</td>\n",
       "      <td>RYDAPT</td>\n",
       "      <td>MIDOSTAURIN</td>\n",
       "    </tr>\n",
       "  </tbody>\n",
       "</table>\n",
       "</div>"
      ],
      "text/plain": [
       "     ApplNo  SubmissionClassCodeID SubmissionType  SubmissionNo  \\\n",
       "172  207997                    7.0           ORIG             2   \n",
       "\n",
       "    SubmissionStatus SubmissionStatusDate ReviewPriority ApplType SponsorName  \\\n",
       "172               AP           2017-04-28       PRIORITY      NDA    NOVARTIS   \n",
       "\n",
       "     ProductNo DrugName ActiveIngredient  \n",
       "172          1   RYDAPT      MIDOSTAURIN  "
      ]
     },
     "execution_count": 77,
     "metadata": {},
     "output_type": "execute_result"
    }
   ],
   "source": [
    "x = merge3.loc[merge3['SubmissionNo']==2]\n",
    "x"
   ]
  },
  {
   "cell_type": "code",
   "execution_count": 78,
   "metadata": {},
   "outputs": [],
   "source": [
    "# I'm not sure why this has SubmissionNo 2, but I'll keep it for now, especially since it's not duplicated"
   ]
  },
  {
   "cell_type": "code",
   "execution_count": 79,
   "metadata": {},
   "outputs": [
    {
     "data": {
      "text/html": [
       "<div>\n",
       "<style scoped>\n",
       "    .dataframe tbody tr th:only-of-type {\n",
       "        vertical-align: middle;\n",
       "    }\n",
       "\n",
       "    .dataframe tbody tr th {\n",
       "        vertical-align: top;\n",
       "    }\n",
       "\n",
       "    .dataframe thead th {\n",
       "        text-align: right;\n",
       "    }\n",
       "</style>\n",
       "<table border=\"1\" class=\"dataframe\">\n",
       "  <thead>\n",
       "    <tr style=\"text-align: right;\">\n",
       "      <th></th>\n",
       "      <th>ApplNo</th>\n",
       "      <th>SubmissionClassCodeID</th>\n",
       "      <th>SubmissionType</th>\n",
       "      <th>SubmissionNo</th>\n",
       "      <th>SubmissionStatus</th>\n",
       "      <th>SubmissionStatusDate</th>\n",
       "      <th>ReviewPriority</th>\n",
       "      <th>ApplType</th>\n",
       "      <th>SponsorName</th>\n",
       "      <th>ProductNo</th>\n",
       "      <th>DrugName</th>\n",
       "      <th>ActiveIngredient</th>\n",
       "    </tr>\n",
       "  </thead>\n",
       "  <tbody>\n",
       "    <tr>\n",
       "      <th>172</th>\n",
       "      <td>207997</td>\n",
       "      <td>7.0</td>\n",
       "      <td>ORIG</td>\n",
       "      <td>2</td>\n",
       "      <td>AP</td>\n",
       "      <td>2017-04-28</td>\n",
       "      <td>PRIORITY</td>\n",
       "      <td>NDA</td>\n",
       "      <td>NOVARTIS</td>\n",
       "      <td>1</td>\n",
       "      <td>RYDAPT</td>\n",
       "      <td>MIDOSTAURIN</td>\n",
       "    </tr>\n",
       "  </tbody>\n",
       "</table>\n",
       "</div>"
      ],
      "text/plain": [
       "     ApplNo  SubmissionClassCodeID SubmissionType  SubmissionNo  \\\n",
       "172  207997                    7.0           ORIG             2   \n",
       "\n",
       "    SubmissionStatus SubmissionStatusDate ReviewPriority ApplType SponsorName  \\\n",
       "172               AP           2017-04-28       PRIORITY      NDA    NOVARTIS   \n",
       "\n",
       "     ProductNo DrugName ActiveIngredient  \n",
       "172          1   RYDAPT      MIDOSTAURIN  "
      ]
     },
     "execution_count": 79,
     "metadata": {},
     "output_type": "execute_result"
    }
   ],
   "source": [
    "y = merge3.loc[merge3['ApplNo']==207997]\n",
    "y"
   ]
  },
  {
   "cell_type": "code",
   "execution_count": 80,
   "metadata": {},
   "outputs": [
    {
     "data": {
      "text/html": [
       "<div>\n",
       "<style scoped>\n",
       "    .dataframe tbody tr th:only-of-type {\n",
       "        vertical-align: middle;\n",
       "    }\n",
       "\n",
       "    .dataframe tbody tr th {\n",
       "        vertical-align: top;\n",
       "    }\n",
       "\n",
       "    .dataframe thead th {\n",
       "        text-align: right;\n",
       "    }\n",
       "</style>\n",
       "<table border=\"1\" class=\"dataframe\">\n",
       "  <thead>\n",
       "    <tr style=\"text-align: right;\">\n",
       "      <th></th>\n",
       "      <th>ApplNo</th>\n",
       "      <th>SubmissionClassCodeID</th>\n",
       "      <th>SubmissionType</th>\n",
       "      <th>SubmissionNo</th>\n",
       "      <th>SubmissionStatus</th>\n",
       "      <th>SubmissionStatusDate</th>\n",
       "      <th>ReviewPriority</th>\n",
       "      <th>ApplType</th>\n",
       "      <th>SponsorName</th>\n",
       "      <th>ProductNo</th>\n",
       "      <th>DrugName</th>\n",
       "      <th>ActiveIngredient</th>\n",
       "    </tr>\n",
       "  </thead>\n",
       "  <tbody>\n",
       "    <tr>\n",
       "      <th>0</th>\n",
       "      <td>21883</td>\n",
       "      <td>7.0</td>\n",
       "      <td>ORIG</td>\n",
       "      <td>1</td>\n",
       "      <td>AP</td>\n",
       "      <td>2014-05-23</td>\n",
       "      <td>PRIORITY</td>\n",
       "      <td>NDA</td>\n",
       "      <td>ALLERGAN</td>\n",
       "      <td>1</td>\n",
       "      <td>DALVANCE</td>\n",
       "      <td>DALBAVANCIN HYDROCHLORIDE</td>\n",
       "    </tr>\n",
       "    <tr>\n",
       "      <th>1</th>\n",
       "      <td>22134</td>\n",
       "      <td>7.0</td>\n",
       "      <td>ORIG</td>\n",
       "      <td>1</td>\n",
       "      <td>AP</td>\n",
       "      <td>2010-07-28</td>\n",
       "      <td>STANDARD</td>\n",
       "      <td>NDA</td>\n",
       "      <td>ALLERGAN</td>\n",
       "      <td>1</td>\n",
       "      <td>LASTACAFT</td>\n",
       "      <td>ALCAFTADINE</td>\n",
       "    </tr>\n",
       "    <tr>\n",
       "      <th>2</th>\n",
       "      <td>22271</td>\n",
       "      <td>7.0</td>\n",
       "      <td>ORIG</td>\n",
       "      <td>1</td>\n",
       "      <td>AP</td>\n",
       "      <td>2013-01-25</td>\n",
       "      <td>STANDARD</td>\n",
       "      <td>NDA</td>\n",
       "      <td>TAKEDA PHARMS USA</td>\n",
       "      <td>1</td>\n",
       "      <td>NESINA</td>\n",
       "      <td>ALOGLIPTIN BENZOATE</td>\n",
       "    </tr>\n",
       "    <tr>\n",
       "      <th>5</th>\n",
       "      <td>22383</td>\n",
       "      <td>7.0</td>\n",
       "      <td>ORIG</td>\n",
       "      <td>1</td>\n",
       "      <td>AP</td>\n",
       "      <td>2011-07-01</td>\n",
       "      <td>STANDARD</td>\n",
       "      <td>NDA</td>\n",
       "      <td>SUNOVION PHARMS INC</td>\n",
       "      <td>1</td>\n",
       "      <td>ARCAPTA NEOHALER</td>\n",
       "      <td>INDACATEROL MALEATE</td>\n",
       "    </tr>\n",
       "    <tr>\n",
       "      <th>6</th>\n",
       "      <td>22416</td>\n",
       "      <td>7.0</td>\n",
       "      <td>ORIG</td>\n",
       "      <td>1</td>\n",
       "      <td>AP</td>\n",
       "      <td>2013-11-08</td>\n",
       "      <td>STANDARD</td>\n",
       "      <td>NDA</td>\n",
       "      <td>SUNOVION PHARMS INC</td>\n",
       "      <td>1</td>\n",
       "      <td>APTIOM</td>\n",
       "      <td>ESLICARBAZEPINE ACETATE</td>\n",
       "    </tr>\n",
       "  </tbody>\n",
       "</table>\n",
       "</div>"
      ],
      "text/plain": [
       "   ApplNo  SubmissionClassCodeID SubmissionType  SubmissionNo  \\\n",
       "0   21883                    7.0           ORIG             1   \n",
       "1   22134                    7.0           ORIG             1   \n",
       "2   22271                    7.0           ORIG             1   \n",
       "5   22383                    7.0           ORIG             1   \n",
       "6   22416                    7.0           ORIG             1   \n",
       "\n",
       "  SubmissionStatus SubmissionStatusDate ReviewPriority ApplType  \\\n",
       "0               AP           2014-05-23       PRIORITY      NDA   \n",
       "1               AP           2010-07-28       STANDARD      NDA   \n",
       "2               AP           2013-01-25       STANDARD      NDA   \n",
       "5               AP           2011-07-01       STANDARD      NDA   \n",
       "6               AP           2013-11-08       STANDARD      NDA   \n",
       "\n",
       "           SponsorName  ProductNo          DrugName           ActiveIngredient  \n",
       "0             ALLERGAN          1          DALVANCE  DALBAVANCIN HYDROCHLORIDE  \n",
       "1             ALLERGAN          1         LASTACAFT                ALCAFTADINE  \n",
       "2    TAKEDA PHARMS USA          1            NESINA        ALOGLIPTIN BENZOATE  \n",
       "5  SUNOVION PHARMS INC          1  ARCAPTA NEOHALER        INDACATEROL MALEATE  \n",
       "6  SUNOVION PHARMS INC          1            APTIOM    ESLICARBAZEPINE ACETATE  "
      ]
     },
     "execution_count": 80,
     "metadata": {},
     "output_type": "execute_result"
    }
   ],
   "source": [
    "# yup. gonna move on for now.\n",
    "merge3.head()"
   ]
  },
  {
   "cell_type": "code",
   "execution_count": 81,
   "metadata": {},
   "outputs": [
    {
     "data": {
      "text/plain": [
       "array(['AP'], dtype=object)"
      ]
     },
     "execution_count": 81,
     "metadata": {},
     "output_type": "execute_result"
    }
   ],
   "source": [
    "merge3.SubmissionStatus.unique()"
   ]
  },
  {
   "cell_type": "code",
   "execution_count": 82,
   "metadata": {},
   "outputs": [
    {
     "data": {
      "text/plain": [
       "array([1])"
      ]
     },
     "execution_count": 82,
     "metadata": {},
     "output_type": "execute_result"
    }
   ],
   "source": [
    "merge3.ProductNo.unique()"
   ]
  },
  {
   "cell_type": "code",
   "execution_count": 83,
   "metadata": {},
   "outputs": [
    {
     "data": {
      "text/plain": [
       "(136, 9)"
      ]
     },
     "execution_count": 83,
     "metadata": {},
     "output_type": "execute_result"
    }
   ],
   "source": [
    "merge3.pop('SubmissionNo')\n",
    "merge3.pop('SubmissionStatus')\n",
    "merge3.pop('ProductNo')\n",
    "merge3.shape"
   ]
  },
  {
   "cell_type": "code",
   "execution_count": 84,
   "metadata": {},
   "outputs": [
    {
     "data": {
      "text/html": [
       "<div>\n",
       "<style scoped>\n",
       "    .dataframe tbody tr th:only-of-type {\n",
       "        vertical-align: middle;\n",
       "    }\n",
       "\n",
       "    .dataframe tbody tr th {\n",
       "        vertical-align: top;\n",
       "    }\n",
       "\n",
       "    .dataframe thead th {\n",
       "        text-align: right;\n",
       "    }\n",
       "</style>\n",
       "<table border=\"1\" class=\"dataframe\">\n",
       "  <thead>\n",
       "    <tr style=\"text-align: right;\">\n",
       "      <th></th>\n",
       "      <th>ApplNo</th>\n",
       "      <th>SubmissionClassCodeID</th>\n",
       "      <th>SubmissionType</th>\n",
       "      <th>SubmissionStatusDate</th>\n",
       "      <th>ReviewPriority</th>\n",
       "      <th>ApplType</th>\n",
       "      <th>SponsorName</th>\n",
       "      <th>DrugName</th>\n",
       "      <th>ActiveIngredient</th>\n",
       "    </tr>\n",
       "  </thead>\n",
       "  <tbody>\n",
       "    <tr>\n",
       "      <th>0</th>\n",
       "      <td>21883</td>\n",
       "      <td>7.0</td>\n",
       "      <td>ORIG</td>\n",
       "      <td>2014-05-23</td>\n",
       "      <td>PRIORITY</td>\n",
       "      <td>NDA</td>\n",
       "      <td>ALLERGAN</td>\n",
       "      <td>DALVANCE</td>\n",
       "      <td>DALBAVANCIN HYDROCHLORIDE</td>\n",
       "    </tr>\n",
       "    <tr>\n",
       "      <th>1</th>\n",
       "      <td>22134</td>\n",
       "      <td>7.0</td>\n",
       "      <td>ORIG</td>\n",
       "      <td>2010-07-28</td>\n",
       "      <td>STANDARD</td>\n",
       "      <td>NDA</td>\n",
       "      <td>ALLERGAN</td>\n",
       "      <td>LASTACAFT</td>\n",
       "      <td>ALCAFTADINE</td>\n",
       "    </tr>\n",
       "    <tr>\n",
       "      <th>2</th>\n",
       "      <td>22271</td>\n",
       "      <td>7.0</td>\n",
       "      <td>ORIG</td>\n",
       "      <td>2013-01-25</td>\n",
       "      <td>STANDARD</td>\n",
       "      <td>NDA</td>\n",
       "      <td>TAKEDA PHARMS USA</td>\n",
       "      <td>NESINA</td>\n",
       "      <td>ALOGLIPTIN BENZOATE</td>\n",
       "    </tr>\n",
       "    <tr>\n",
       "      <th>5</th>\n",
       "      <td>22383</td>\n",
       "      <td>7.0</td>\n",
       "      <td>ORIG</td>\n",
       "      <td>2011-07-01</td>\n",
       "      <td>STANDARD</td>\n",
       "      <td>NDA</td>\n",
       "      <td>SUNOVION PHARMS INC</td>\n",
       "      <td>ARCAPTA NEOHALER</td>\n",
       "      <td>INDACATEROL MALEATE</td>\n",
       "    </tr>\n",
       "    <tr>\n",
       "      <th>6</th>\n",
       "      <td>22416</td>\n",
       "      <td>7.0</td>\n",
       "      <td>ORIG</td>\n",
       "      <td>2013-11-08</td>\n",
       "      <td>STANDARD</td>\n",
       "      <td>NDA</td>\n",
       "      <td>SUNOVION PHARMS INC</td>\n",
       "      <td>APTIOM</td>\n",
       "      <td>ESLICARBAZEPINE ACETATE</td>\n",
       "    </tr>\n",
       "  </tbody>\n",
       "</table>\n",
       "</div>"
      ],
      "text/plain": [
       "   ApplNo  SubmissionClassCodeID SubmissionType SubmissionStatusDate  \\\n",
       "0   21883                    7.0           ORIG           2014-05-23   \n",
       "1   22134                    7.0           ORIG           2010-07-28   \n",
       "2   22271                    7.0           ORIG           2013-01-25   \n",
       "5   22383                    7.0           ORIG           2011-07-01   \n",
       "6   22416                    7.0           ORIG           2013-11-08   \n",
       "\n",
       "  ReviewPriority ApplType          SponsorName          DrugName  \\\n",
       "0       PRIORITY      NDA             ALLERGAN          DALVANCE   \n",
       "1       STANDARD      NDA             ALLERGAN         LASTACAFT   \n",
       "2       STANDARD      NDA    TAKEDA PHARMS USA            NESINA   \n",
       "5       STANDARD      NDA  SUNOVION PHARMS INC  ARCAPTA NEOHALER   \n",
       "6       STANDARD      NDA  SUNOVION PHARMS INC            APTIOM   \n",
       "\n",
       "            ActiveIngredient  \n",
       "0  DALBAVANCIN HYDROCHLORIDE  \n",
       "1                ALCAFTADINE  \n",
       "2        ALOGLIPTIN BENZOATE  \n",
       "5        INDACATEROL MALEATE  \n",
       "6    ESLICARBAZEPINE ACETATE  "
      ]
     },
     "execution_count": 84,
     "metadata": {},
     "output_type": "execute_result"
    }
   ],
   "source": [
    "merge3.head()"
   ]
  },
  {
   "cell_type": "code",
   "execution_count": 85,
   "metadata": {},
   "outputs": [
    {
     "name": "stdout",
     "output_type": "stream",
     "text": [
      "# of drugnames:  136\n",
      "# of active ingredients:  136\n"
     ]
    }
   ],
   "source": [
    "drugs = list(merge3['DrugName'])\n",
    "drugs2 = list(merge3['ActiveIngredient'])\n",
    "print(\"# of drugnames: \", len(drugs))\n",
    "print(\"# of active ingredients: \", len(drugs2))"
   ]
  },
  {
   "cell_type": "code",
   "execution_count": 86,
   "metadata": {},
   "outputs": [],
   "source": [
    "# wonderful\n",
    "# 136 to start is workable\n",
    "# the next step is to figure out how to work with the Federal Reporter API\n",
    "# and get the json files with information about\n",
    "# funding given by which federal agency to which PI at which institution/company for what\n",
    "# and then get the number of the grants\n",
    "# then search pubmed for publications related to that grant\n",
    "# and also search patent files that cite those papers that were funded by the grant\n",
    "\n",
    "# to make my life easier for the next round, I'll save merge3 as a .csv\n",
    "\n",
    "merge3.to_csv(\"drugs01_2010s_Type1_by_supercompanies.csv\")"
   ]
  },
  {
   "cell_type": "code",
   "execution_count": null,
   "metadata": {},
   "outputs": [],
   "source": []
  }
 ],
 "metadata": {
  "kernelspec": {
   "display_name": "Python 3",
   "language": "python",
   "name": "python3"
  },
  "language_info": {
   "codemirror_mode": {
    "name": "ipython",
    "version": 3
   },
   "file_extension": ".py",
   "mimetype": "text/x-python",
   "name": "python",
   "nbconvert_exporter": "python",
   "pygments_lexer": "ipython3",
   "version": "3.6.10"
  }
 },
 "nbformat": 4,
 "nbformat_minor": 2
}
